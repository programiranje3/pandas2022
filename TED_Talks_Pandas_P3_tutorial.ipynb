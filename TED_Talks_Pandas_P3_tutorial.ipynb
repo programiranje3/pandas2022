{
 "cells": [
  {
   "cell_type": "markdown",
   "metadata": {
    "pycharm": {
     "name": "#%% md\n"
    }
   },
   "source": [
    "# Exploring Pandas' features throught the TED Talks dataset\n",
    "\n",
    "In this tutorial, we will use the [TED Talks dataset](https://www.kaggle.com/rounakbanik/ted-talks), available from Kaggle Datasets under the [CC BY-NC-SA 4.0 license](https://creativecommons.org/licenses/by-nc-sa/4.0/).\n",
    "\n",
    "This tutorial is partially based on the [Data Science Best Practices with pandas](https://github.com/justmarkham/pycon-2019-tutorial) tutorial presented by Kevin Markham at PyCon2019 on May 2, 2019."
   ]
  },
  {
   "cell_type": "markdown",
   "metadata": {
    "pycharm": {
     "name": "#%% md\n"
    }
   },
   "source": [
    "## Import the required libraries"
   ]
  },
  {
   "cell_type": "code",
   "execution_count": 1,
   "metadata": {
    "pycharm": {
     "name": "#%%\n"
    }
   },
   "outputs": [],
   "source": [
    "import pandas as pd\n",
    "import matplotlib.pyplot as plt"
   ]
  },
  {
   "cell_type": "markdown",
   "metadata": {
    "pycharm": {
     "name": "#%% md\n"
    }
   },
   "source": [
    "Sometimes you need to know the pandas version you are using, for example, when you need to consult the pandas documentation. You get the pandas version with:"
   ]
  },
  {
   "cell_type": "code",
   "execution_count": 2,
   "metadata": {
    "pycharm": {
     "name": "#%%\n"
    }
   },
   "outputs": [
    {
     "data": {
      "text/plain": "'1.5.1'"
     },
     "execution_count": 2,
     "metadata": {},
     "output_type": "execute_result"
    }
   ],
   "source": [
    "pd.__version__"
   ]
  },
  {
   "cell_type": "markdown",
   "metadata": {
    "pycharm": {
     "name": "#%% md\n"
    }
   },
   "source": [
    "## Load and examine the TED talks dataset"
   ]
  },
  {
   "cell_type": "code",
   "execution_count": 3,
   "metadata": {
    "pycharm": {
     "name": "#%%\n"
    }
   },
   "outputs": [
    {
     "data": {
      "text/plain": "   comments                                        description  duration  \\\n0      4553  Sir Ken Robinson makes an entertaining and pro...      1164   \n1       265  With the same humor and humanity he exuded in ...       977   \n2       124  New York Times columnist David Pogue takes aim...      1286   \n3       200  In an emotionally charged talk, MacArthur-winn...      1116   \n4       593  You've never seen data presented like this. Wi...      1190   \n\n     event   film_date  languages   main_speaker  \\\n0  TED2006  1140825600         60   Ken Robinson   \n1  TED2006  1140825600         43        Al Gore   \n2  TED2006  1140739200         26    David Pogue   \n3  TED2006  1140912000         35  Majora Carter   \n4  TED2006  1140566400         48   Hans Rosling   \n\n                                            name  num_speaker  published_date  \\\n0      Ken Robinson: Do schools kill creativity?            1      1151367060   \n1           Al Gore: Averting the climate crisis            1      1151367060   \n2                  David Pogue: Simplicity sells            1      1151367060   \n3             Majora Carter: Greening the ghetto            1      1151367060   \n4  Hans Rosling: The best stats you've ever seen            1      1151440680   \n\n                                             ratings  \\\n0  [{'id': 7, 'name': 'Funny', 'count': 19645}, {...   \n1  [{'id': 7, 'name': 'Funny', 'count': 544}, {'i...   \n2  [{'id': 7, 'name': 'Funny', 'count': 964}, {'i...   \n3  [{'id': 3, 'name': 'Courageous', 'count': 760}...   \n4  [{'id': 9, 'name': 'Ingenious', 'count': 3202}...   \n\n                                       related_talks  \\\n0  [{'id': 865, 'hero': 'https://pe.tedcdn.com/im...   \n1  [{'id': 243, 'hero': 'https://pe.tedcdn.com/im...   \n2  [{'id': 1725, 'hero': 'https://pe.tedcdn.com/i...   \n3  [{'id': 1041, 'hero': 'https://pe.tedcdn.com/i...   \n4  [{'id': 2056, 'hero': 'https://pe.tedcdn.com/i...   \n\n                     speaker_occupation  \\\n0                       Author/educator   \n1                      Climate advocate   \n2                  Technology columnist   \n3    Activist for environmental justice   \n4  Global health expert; data visionary   \n\n                                                tags  \\\n0  ['children', 'creativity', 'culture', 'dance',...   \n1  ['alternative energy', 'cars', 'climate change...   \n2  ['computers', 'entertainment', 'interface desi...   \n3  ['MacArthur grant', 'activism', 'business', 'c...   \n4  ['Africa', 'Asia', 'Google', 'demo', 'economic...   \n\n                             title  \\\n0      Do schools kill creativity?   \n1      Averting the climate crisis   \n2                 Simplicity sells   \n3              Greening the ghetto   \n4  The best stats you've ever seen   \n\n                                                 url     views  \n0  https://www.ted.com/talks/ken_robinson_says_sc...  47227110  \n1  https://www.ted.com/talks/al_gore_on_averting_...   3200520  \n2  https://www.ted.com/talks/david_pogue_says_sim...   1636292  \n3  https://www.ted.com/talks/majora_carter_s_tale...   1697550  \n4  https://www.ted.com/talks/hans_rosling_shows_t...  12005869  ",
      "text/html": "<div>\n<style scoped>\n    .dataframe tbody tr th:only-of-type {\n        vertical-align: middle;\n    }\n\n    .dataframe tbody tr th {\n        vertical-align: top;\n    }\n\n    .dataframe thead th {\n        text-align: right;\n    }\n</style>\n<table border=\"1\" class=\"dataframe\">\n  <thead>\n    <tr style=\"text-align: right;\">\n      <th></th>\n      <th>comments</th>\n      <th>description</th>\n      <th>duration</th>\n      <th>event</th>\n      <th>film_date</th>\n      <th>languages</th>\n      <th>main_speaker</th>\n      <th>name</th>\n      <th>num_speaker</th>\n      <th>published_date</th>\n      <th>ratings</th>\n      <th>related_talks</th>\n      <th>speaker_occupation</th>\n      <th>tags</th>\n      <th>title</th>\n      <th>url</th>\n      <th>views</th>\n    </tr>\n  </thead>\n  <tbody>\n    <tr>\n      <th>0</th>\n      <td>4553</td>\n      <td>Sir Ken Robinson makes an entertaining and pro...</td>\n      <td>1164</td>\n      <td>TED2006</td>\n      <td>1140825600</td>\n      <td>60</td>\n      <td>Ken Robinson</td>\n      <td>Ken Robinson: Do schools kill creativity?</td>\n      <td>1</td>\n      <td>1151367060</td>\n      <td>[{'id': 7, 'name': 'Funny', 'count': 19645}, {...</td>\n      <td>[{'id': 865, 'hero': 'https://pe.tedcdn.com/im...</td>\n      <td>Author/educator</td>\n      <td>['children', 'creativity', 'culture', 'dance',...</td>\n      <td>Do schools kill creativity?</td>\n      <td>https://www.ted.com/talks/ken_robinson_says_sc...</td>\n      <td>47227110</td>\n    </tr>\n    <tr>\n      <th>1</th>\n      <td>265</td>\n      <td>With the same humor and humanity he exuded in ...</td>\n      <td>977</td>\n      <td>TED2006</td>\n      <td>1140825600</td>\n      <td>43</td>\n      <td>Al Gore</td>\n      <td>Al Gore: Averting the climate crisis</td>\n      <td>1</td>\n      <td>1151367060</td>\n      <td>[{'id': 7, 'name': 'Funny', 'count': 544}, {'i...</td>\n      <td>[{'id': 243, 'hero': 'https://pe.tedcdn.com/im...</td>\n      <td>Climate advocate</td>\n      <td>['alternative energy', 'cars', 'climate change...</td>\n      <td>Averting the climate crisis</td>\n      <td>https://www.ted.com/talks/al_gore_on_averting_...</td>\n      <td>3200520</td>\n    </tr>\n    <tr>\n      <th>2</th>\n      <td>124</td>\n      <td>New York Times columnist David Pogue takes aim...</td>\n      <td>1286</td>\n      <td>TED2006</td>\n      <td>1140739200</td>\n      <td>26</td>\n      <td>David Pogue</td>\n      <td>David Pogue: Simplicity sells</td>\n      <td>1</td>\n      <td>1151367060</td>\n      <td>[{'id': 7, 'name': 'Funny', 'count': 964}, {'i...</td>\n      <td>[{'id': 1725, 'hero': 'https://pe.tedcdn.com/i...</td>\n      <td>Technology columnist</td>\n      <td>['computers', 'entertainment', 'interface desi...</td>\n      <td>Simplicity sells</td>\n      <td>https://www.ted.com/talks/david_pogue_says_sim...</td>\n      <td>1636292</td>\n    </tr>\n    <tr>\n      <th>3</th>\n      <td>200</td>\n      <td>In an emotionally charged talk, MacArthur-winn...</td>\n      <td>1116</td>\n      <td>TED2006</td>\n      <td>1140912000</td>\n      <td>35</td>\n      <td>Majora Carter</td>\n      <td>Majora Carter: Greening the ghetto</td>\n      <td>1</td>\n      <td>1151367060</td>\n      <td>[{'id': 3, 'name': 'Courageous', 'count': 760}...</td>\n      <td>[{'id': 1041, 'hero': 'https://pe.tedcdn.com/i...</td>\n      <td>Activist for environmental justice</td>\n      <td>['MacArthur grant', 'activism', 'business', 'c...</td>\n      <td>Greening the ghetto</td>\n      <td>https://www.ted.com/talks/majora_carter_s_tale...</td>\n      <td>1697550</td>\n    </tr>\n    <tr>\n      <th>4</th>\n      <td>593</td>\n      <td>You've never seen data presented like this. Wi...</td>\n      <td>1190</td>\n      <td>TED2006</td>\n      <td>1140566400</td>\n      <td>48</td>\n      <td>Hans Rosling</td>\n      <td>Hans Rosling: The best stats you've ever seen</td>\n      <td>1</td>\n      <td>1151440680</td>\n      <td>[{'id': 9, 'name': 'Ingenious', 'count': 3202}...</td>\n      <td>[{'id': 2056, 'hero': 'https://pe.tedcdn.com/i...</td>\n      <td>Global health expert; data visionary</td>\n      <td>['Africa', 'Asia', 'Google', 'demo', 'economic...</td>\n      <td>The best stats you've ever seen</td>\n      <td>https://www.ted.com/talks/hans_rosling_shows_t...</td>\n      <td>12005869</td>\n    </tr>\n  </tbody>\n</table>\n</div>"
     },
     "execution_count": 3,
     "metadata": {},
     "output_type": "execute_result"
    }
   ],
   "source": [
    "ted = pd.read_csv('data/ted.csv')\n",
    "ted.head()"
   ]
  },
  {
   "cell_type": "code",
   "execution_count": 4,
   "metadata": {
    "pycharm": {
     "name": "#%%\n"
    }
   },
   "outputs": [
    {
     "name": "stdout",
     "output_type": "stream",
     "text": [
      "<class 'pandas.core.frame.DataFrame'>\n",
      "RangeIndex: 2550 entries, 0 to 2549\n",
      "Data columns (total 17 columns):\n",
      " #   Column              Non-Null Count  Dtype \n",
      "---  ------              --------------  ----- \n",
      " 0   comments            2550 non-null   int64 \n",
      " 1   description         2550 non-null   object\n",
      " 2   duration            2550 non-null   int64 \n",
      " 3   event               2550 non-null   object\n",
      " 4   film_date           2550 non-null   int64 \n",
      " 5   languages           2550 non-null   int64 \n",
      " 6   main_speaker        2550 non-null   object\n",
      " 7   name                2550 non-null   object\n",
      " 8   num_speaker         2550 non-null   int64 \n",
      " 9   published_date      2550 non-null   int64 \n",
      " 10  ratings             2550 non-null   object\n",
      " 11  related_talks       2550 non-null   object\n",
      " 12  speaker_occupation  2544 non-null   object\n",
      " 13  tags                2550 non-null   object\n",
      " 14  title               2550 non-null   object\n",
      " 15  url                 2550 non-null   object\n",
      " 16  views               2550 non-null   int64 \n",
      "dtypes: int64(7), object(10)\n",
      "memory usage: 338.8+ KB\n"
     ]
    }
   ],
   "source": [
    "ted.info()"
   ]
  },
  {
   "cell_type": "markdown",
   "metadata": {
    "pycharm": {
     "name": "#%% md\n"
    }
   },
   "source": [
    "### Check for the presence of missing values"
   ]
  },
  {
   "cell_type": "code",
   "execution_count": 5,
   "metadata": {
    "pycharm": {
     "name": "#%%\n"
    }
   },
   "outputs": [
    {
     "data": {
      "text/plain": "comments              0\ndescription           0\nduration              0\nevent                 0\nfilm_date             0\nlanguages             0\nmain_speaker          0\nname                  0\nnum_speaker           0\npublished_date        0\nratings               0\nrelated_talks         0\nspeaker_occupation    6\ntags                  0\ntitle                 0\nurl                   0\nviews                 0\ndtype: int64"
     },
     "execution_count": 5,
     "metadata": {},
     "output_type": "execute_result"
    }
   ],
   "source": [
    "ted.isna().sum()"
   ]
  },
  {
   "cell_type": "markdown",
   "metadata": {
    "pycharm": {
     "name": "#%% md\n"
    }
   },
   "source": [
    "Let's identify who are the speakers with missing occupation and if we can identify their occupation from other records (in case they gave more than one talk)"
   ]
  },
  {
   "cell_type": "code",
   "execution_count": 6,
   "metadata": {
    "pycharm": {
     "name": "#%%\n"
    }
   },
   "outputs": [],
   "source": [
    "no_occupation_speakers = ted.loc[ted.speaker_occupation.isna(), 'main_speaker']"
   ]
  },
  {
   "cell_type": "code",
   "execution_count": 7,
   "metadata": {
    "pycharm": {
     "name": "#%%\n"
    }
   },
   "outputs": [],
   "source": [
    "no_occupation_speakers = no_occupation_speakers.values.tolist()"
   ]
  },
  {
   "cell_type": "code",
   "execution_count": 8,
   "metadata": {
    "pycharm": {
     "name": "#%%\n"
    }
   },
   "outputs": [
    {
     "data": {
      "text/plain": "['Sonaar Luthra',\n 'Rick Falkvinge',\n 'Gary Kovacs',\n 'Ryan Holladay',\n 'Brian Dettmer',\n 'Boniface Mwangi']"
     },
     "execution_count": 8,
     "metadata": {},
     "output_type": "execute_result"
    }
   ],
   "source": [
    "no_occupation_speakers"
   ]
  },
  {
   "cell_type": "code",
   "execution_count": 9,
   "metadata": {
    "pycharm": {
     "name": "#%%\n"
    }
   },
   "outputs": [
    {
     "data": {
      "text/plain": "(6, 17)"
     },
     "execution_count": 9,
     "metadata": {},
     "output_type": "execute_result"
    }
   ],
   "source": [
    "ted.loc[ted.main_speaker.apply(lambda s: s in no_occupation_speakers),:].shape"
   ]
  },
  {
   "cell_type": "markdown",
   "metadata": {
    "pycharm": {
     "name": "#%% md\n"
    }
   },
   "source": [
    "Unfortunately, there are no additional records that could be used to fill the missing occupation values."
   ]
  },
  {
   "cell_type": "markdown",
   "metadata": {
    "pycharm": {
     "name": "#%% md\n"
    }
   },
   "source": [
    "### Transform filming date and publication date into datetime columns"
   ]
  },
  {
   "cell_type": "markdown",
   "metadata": {
    "pycharm": {
     "name": "#%% md\n"
    }
   },
   "source": [
    "Examine a sample of film_date and published_date values"
   ]
  },
  {
   "cell_type": "code",
   "execution_count": 10,
   "metadata": {
    "pycharm": {
     "name": "#%%\n"
    }
   },
   "outputs": [
    {
     "data": {
      "text/plain": "       film_date  published_date\n2034  1432771200      1440687602\n1462  1362096000      1363963799\n858   1286668800      1296149280\n1399  1345680000      1355414450\n2454  1478304000      1495119518",
      "text/html": "<div>\n<style scoped>\n    .dataframe tbody tr th:only-of-type {\n        vertical-align: middle;\n    }\n\n    .dataframe tbody tr th {\n        vertical-align: top;\n    }\n\n    .dataframe thead th {\n        text-align: right;\n    }\n</style>\n<table border=\"1\" class=\"dataframe\">\n  <thead>\n    <tr style=\"text-align: right;\">\n      <th></th>\n      <th>film_date</th>\n      <th>published_date</th>\n    </tr>\n  </thead>\n  <tbody>\n    <tr>\n      <th>2034</th>\n      <td>1432771200</td>\n      <td>1440687602</td>\n    </tr>\n    <tr>\n      <th>1462</th>\n      <td>1362096000</td>\n      <td>1363963799</td>\n    </tr>\n    <tr>\n      <th>858</th>\n      <td>1286668800</td>\n      <td>1296149280</td>\n    </tr>\n    <tr>\n      <th>1399</th>\n      <td>1345680000</td>\n      <td>1355414450</td>\n    </tr>\n    <tr>\n      <th>2454</th>\n      <td>1478304000</td>\n      <td>1495119518</td>\n    </tr>\n  </tbody>\n</table>\n</div>"
     },
     "execution_count": 10,
     "metadata": {},
     "output_type": "execute_result"
    }
   ],
   "source": [
    "ted.loc[:,['film_date', 'published_date']].sample(5)"
   ]
  },
  {
   "cell_type": "markdown",
   "metadata": {
    "pycharm": {
     "name": "#%% md\n"
    }
   },
   "source": [
    "Note that both dates are given as *Unix epoch time*, that is, the number of seconds that have elapsed since January 1, 1970. \n",
    "\n",
    "For more about epoch time, see: [https://www.epochconverter.com/](https://www.epochconverter.com/)"
   ]
  },
  {
   "cell_type": "markdown",
   "metadata": {
    "pycharm": {
     "name": "#%% md\n"
    }
   },
   "source": [
    "Let's start by transforming the film_date into the datetime type"
   ]
  },
  {
   "cell_type": "code",
   "execution_count": 11,
   "metadata": {
    "pycharm": {
     "name": "#%%\n"
    }
   },
   "outputs": [],
   "source": [
    "try:\n",
    "    ted['filming_date'] = pd.to_datetime(ted['film_date'], unit='s')\n",
    "except ValueError as err:\n",
    "    print(err)"
   ]
  },
  {
   "cell_type": "code",
   "execution_count": 12,
   "metadata": {
    "pycharm": {
     "name": "#%%\n"
    }
   },
   "outputs": [
    {
     "data": {
      "text/plain": "0   2006-02-25\n1   2006-02-25\n2   2006-02-24\n3   2006-02-26\n4   2006-02-22\nName: filming_date, dtype: datetime64[ns]"
     },
     "execution_count": 12,
     "metadata": {},
     "output_type": "execute_result"
    }
   ],
   "source": [
    "ted.filming_date.head()"
   ]
  },
  {
   "cell_type": "markdown",
   "metadata": {
    "pycharm": {
     "name": "#%% md\n"
    }
   },
   "source": [
    "Then, do the same for the published_date"
   ]
  },
  {
   "cell_type": "code",
   "execution_count": 13,
   "metadata": {
    "pycharm": {
     "name": "#%%\n"
    }
   },
   "outputs": [],
   "source": [
    "ted['publication_date'] = pd.to_datetime(ted['published_date'], unit='s')"
   ]
  },
  {
   "cell_type": "code",
   "execution_count": 14,
   "metadata": {
    "pycharm": {
     "name": "#%%\n"
    }
   },
   "outputs": [
    {
     "data": {
      "text/plain": "      comments                                        description  duration  \\\n1739        95  When General Stanley McChrystal started fighti...       404   \n980        316  Economics writer Tim Harford studies complex s...      1087   \n402        223  Athlete, actor and activist Aimee Mullins talk...       598   \n2302        24  Who says change needs to be hard? Organization...       801   \n1725       182  Astronomers believe that every star in the gal...       398   \n\n               event   film_date  languages        main_speaker  \\\n1739         TED2014  1395273600         30  Stanley McChrystal   \n980   TEDGlobal 2011  1310515200         34         Tim Harford   \n402          TED2009  1233792000         42       Aimee Mullins   \n2302   TED@BCG Paris  1463529600         23       Jim Hemerling   \n1725         TED2014  1395187200         28       Jeremy Kasdin   \n\n                                                   name  num_speaker  \\\n1739  Stanley McChrystal: The military case for shar...            1   \n980       Tim Harford: Trial, error and the God complex            1   \n402                  Aimee Mullins: My 12 pairs of legs            1   \n2302  Jim Hemerling: 5 ways to lead in an era of con...            1   \n1725  Jeremy Kasdin: The flower-shaped starshade tha...            1   \n\n      published_date                                            ratings  \\\n1739      1399474919  [{'id': 10, 'name': 'Inspiring', 'count': 129}...   \n980       1310725320  [{'id': 23, 'name': 'Jaw-dropping', 'count': 1...   \n402       1236733200  [{'id': 9, 'name': 'Ingenious', 'count': 199},...   \n2302      1476371324  [{'id': 1, 'name': 'Beautiful', 'count': 104},...   \n1725      1397746861  [{'id': 10, 'name': 'Inspiring', 'count': 259}...   \n\n                                          related_talks  \\\n1739  [{'id': 1112, 'hero': 'https://pe.tedcdn.com/i...   \n980   [{'id': 1126, 'hero': 'https://pe.tedcdn.com/i...   \n402   [{'id': 443, 'hero': 'https://pe.tedcdn.com/im...   \n2302  [{'id': 2547, 'hero': 'https://pe.tedcdn.com/i...   \n1725  [{'id': 551, 'hero': 'https://pe.tedcdn.com/im...   \n\n                         speaker_occupation  \\\n1739                        Military leader   \n980   Economist, journalist and broadcaster   \n402                       Athlete and actor   \n2302           Organizational change expert   \n1725                          Planet finder   \n\n                                                   tags  \\\n1739  ['Surveillance', 'collaboration', 'iraq', 'mil...   \n980    ['business', 'creativity', 'culture', 'society']   \n402   ['activism', 'design', 'fashion', 'future', 'p...   \n2302  ['business', 'collaboration', 'communication',...   \n1725  ['Planets', 'astronomy', 'science', 'space', '...   \n\n                                                  title  \\\n1739            The military case for sharing knowledge   \n980                    Trial, error and the God complex   \n402                                 My 12 pairs of legs   \n2302        5 ways to lead in an era of constant change   \n1725  The flower-shaped starshade that might help us...   \n\n                                                    url    views filming_date  \\\n1739  https://www.ted.com/talks/stanley_mcchrystal_t...   991694   2014-03-20   \n980               https://www.ted.com/talks/tim_harford  1734555   2011-07-13   \n402   https://www.ted.com/talks/aimee_mullins_prosth...  3472415   2009-02-05   \n2302  https://www.ted.com/talks/jim_hemerling_5_ways...  1811178   2016-05-18   \n1725  https://www.ted.com/talks/jeremy_kasdin_the_fl...  1276015   2014-03-19   \n\n        publication_date  \n1739 2014-05-07 15:01:59  \n980  2011-07-15 10:22:00  \n402  2009-03-11 01:00:00  \n2302 2016-10-13 15:08:44  \n1725 2014-04-17 15:01:01  ",
      "text/html": "<div>\n<style scoped>\n    .dataframe tbody tr th:only-of-type {\n        vertical-align: middle;\n    }\n\n    .dataframe tbody tr th {\n        vertical-align: top;\n    }\n\n    .dataframe thead th {\n        text-align: right;\n    }\n</style>\n<table border=\"1\" class=\"dataframe\">\n  <thead>\n    <tr style=\"text-align: right;\">\n      <th></th>\n      <th>comments</th>\n      <th>description</th>\n      <th>duration</th>\n      <th>event</th>\n      <th>film_date</th>\n      <th>languages</th>\n      <th>main_speaker</th>\n      <th>name</th>\n      <th>num_speaker</th>\n      <th>published_date</th>\n      <th>ratings</th>\n      <th>related_talks</th>\n      <th>speaker_occupation</th>\n      <th>tags</th>\n      <th>title</th>\n      <th>url</th>\n      <th>views</th>\n      <th>filming_date</th>\n      <th>publication_date</th>\n    </tr>\n  </thead>\n  <tbody>\n    <tr>\n      <th>1739</th>\n      <td>95</td>\n      <td>When General Stanley McChrystal started fighti...</td>\n      <td>404</td>\n      <td>TED2014</td>\n      <td>1395273600</td>\n      <td>30</td>\n      <td>Stanley McChrystal</td>\n      <td>Stanley McChrystal: The military case for shar...</td>\n      <td>1</td>\n      <td>1399474919</td>\n      <td>[{'id': 10, 'name': 'Inspiring', 'count': 129}...</td>\n      <td>[{'id': 1112, 'hero': 'https://pe.tedcdn.com/i...</td>\n      <td>Military leader</td>\n      <td>['Surveillance', 'collaboration', 'iraq', 'mil...</td>\n      <td>The military case for sharing knowledge</td>\n      <td>https://www.ted.com/talks/stanley_mcchrystal_t...</td>\n      <td>991694</td>\n      <td>2014-03-20</td>\n      <td>2014-05-07 15:01:59</td>\n    </tr>\n    <tr>\n      <th>980</th>\n      <td>316</td>\n      <td>Economics writer Tim Harford studies complex s...</td>\n      <td>1087</td>\n      <td>TEDGlobal 2011</td>\n      <td>1310515200</td>\n      <td>34</td>\n      <td>Tim Harford</td>\n      <td>Tim Harford: Trial, error and the God complex</td>\n      <td>1</td>\n      <td>1310725320</td>\n      <td>[{'id': 23, 'name': 'Jaw-dropping', 'count': 1...</td>\n      <td>[{'id': 1126, 'hero': 'https://pe.tedcdn.com/i...</td>\n      <td>Economist, journalist and broadcaster</td>\n      <td>['business', 'creativity', 'culture', 'society']</td>\n      <td>Trial, error and the God complex</td>\n      <td>https://www.ted.com/talks/tim_harford</td>\n      <td>1734555</td>\n      <td>2011-07-13</td>\n      <td>2011-07-15 10:22:00</td>\n    </tr>\n    <tr>\n      <th>402</th>\n      <td>223</td>\n      <td>Athlete, actor and activist Aimee Mullins talk...</td>\n      <td>598</td>\n      <td>TED2009</td>\n      <td>1233792000</td>\n      <td>42</td>\n      <td>Aimee Mullins</td>\n      <td>Aimee Mullins: My 12 pairs of legs</td>\n      <td>1</td>\n      <td>1236733200</td>\n      <td>[{'id': 9, 'name': 'Ingenious', 'count': 199},...</td>\n      <td>[{'id': 443, 'hero': 'https://pe.tedcdn.com/im...</td>\n      <td>Athlete and actor</td>\n      <td>['activism', 'design', 'fashion', 'future', 'p...</td>\n      <td>My 12 pairs of legs</td>\n      <td>https://www.ted.com/talks/aimee_mullins_prosth...</td>\n      <td>3472415</td>\n      <td>2009-02-05</td>\n      <td>2009-03-11 01:00:00</td>\n    </tr>\n    <tr>\n      <th>2302</th>\n      <td>24</td>\n      <td>Who says change needs to be hard? Organization...</td>\n      <td>801</td>\n      <td>TED@BCG Paris</td>\n      <td>1463529600</td>\n      <td>23</td>\n      <td>Jim Hemerling</td>\n      <td>Jim Hemerling: 5 ways to lead in an era of con...</td>\n      <td>1</td>\n      <td>1476371324</td>\n      <td>[{'id': 1, 'name': 'Beautiful', 'count': 104},...</td>\n      <td>[{'id': 2547, 'hero': 'https://pe.tedcdn.com/i...</td>\n      <td>Organizational change expert</td>\n      <td>['business', 'collaboration', 'communication',...</td>\n      <td>5 ways to lead in an era of constant change</td>\n      <td>https://www.ted.com/talks/jim_hemerling_5_ways...</td>\n      <td>1811178</td>\n      <td>2016-05-18</td>\n      <td>2016-10-13 15:08:44</td>\n    </tr>\n    <tr>\n      <th>1725</th>\n      <td>182</td>\n      <td>Astronomers believe that every star in the gal...</td>\n      <td>398</td>\n      <td>TED2014</td>\n      <td>1395187200</td>\n      <td>28</td>\n      <td>Jeremy Kasdin</td>\n      <td>Jeremy Kasdin: The flower-shaped starshade tha...</td>\n      <td>1</td>\n      <td>1397746861</td>\n      <td>[{'id': 10, 'name': 'Inspiring', 'count': 259}...</td>\n      <td>[{'id': 551, 'hero': 'https://pe.tedcdn.com/im...</td>\n      <td>Planet finder</td>\n      <td>['Planets', 'astronomy', 'science', 'space', '...</td>\n      <td>The flower-shaped starshade that might help us...</td>\n      <td>https://www.ted.com/talks/jeremy_kasdin_the_fl...</td>\n      <td>1276015</td>\n      <td>2014-03-19</td>\n      <td>2014-04-17 15:01:01</td>\n    </tr>\n  </tbody>\n</table>\n</div>"
     },
     "execution_count": 14,
     "metadata": {},
     "output_type": "execute_result"
    }
   ],
   "source": [
    "ted.sample(5)"
   ]
  },
  {
   "cell_type": "markdown",
   "metadata": {
    "pycharm": {
     "name": "#%% md\n"
    }
   },
   "source": [
    "### Drop columns that are no longer needed"
   ]
  },
  {
   "cell_type": "code",
   "execution_count": 15,
   "metadata": {
    "pycharm": {
     "name": "#%%\n"
    }
   },
   "outputs": [],
   "source": [
    "ted.drop(columns=['film_date', 'published_date'], inplace=True)"
   ]
  },
  {
   "cell_type": "code",
   "execution_count": 16,
   "metadata": {
    "pycharm": {
     "name": "#%%\n"
    }
   },
   "outputs": [
    {
     "data": {
      "text/plain": "Index(['comments', 'description', 'duration', 'event', 'languages',\n       'main_speaker', 'name', 'num_speaker', 'ratings', 'related_talks',\n       'speaker_occupation', 'tags', 'title', 'url', 'views', 'filming_date',\n       'publication_date'],\n      dtype='object')"
     },
     "execution_count": 16,
     "metadata": {},
     "output_type": "execute_result"
    }
   ],
   "source": [
    "ted.columns"
   ]
  },
  {
   "cell_type": "markdown",
   "metadata": {
    "pycharm": {
     "name": "#%% md\n"
    }
   },
   "source": [
    "### How to change columns' names? \n",
    "\n",
    "The most flexible method for renaming columns is the `rename()` method. One should pass it a dictionary in which the keys are the old column names, while the values are the new names, and specify the axis to be 'columns'."
   ]
  },
  {
   "cell_type": "markdown",
   "metadata": {
    "pycharm": {
     "name": "#%% md\n"
    }
   },
   "source": [
    "For example, rename columns 'comments' and 'views' to 'comment_count' and 'view_count', respectively"
   ]
  },
  {
   "cell_type": "code",
   "execution_count": 17,
   "metadata": {
    "pycharm": {
     "name": "#%%\n"
    }
   },
   "outputs": [],
   "source": [
    "ted = ted.rename({'comments':'comment_count', 'views':'view_count'}, axis='columns')"
   ]
  },
  {
   "cell_type": "code",
   "execution_count": 18,
   "metadata": {
    "pycharm": {
     "name": "#%%\n"
    }
   },
   "outputs": [
    {
     "data": {
      "text/plain": "Index(['comment_count', 'description', 'duration', 'event', 'languages',\n       'main_speaker', 'name', 'num_speaker', 'ratings', 'related_talks',\n       'speaker_occupation', 'tags', 'title', 'url', 'view_count',\n       'filming_date', 'publication_date'],\n      dtype='object')"
     },
     "execution_count": 18,
     "metadata": {},
     "output_type": "execute_result"
    }
   ],
   "source": [
    "ted.columns"
   ]
  },
  {
   "cell_type": "markdown",
   "metadata": {
    "pycharm": {
     "name": "#%% md\n"
    }
   },
   "source": [
    "## Task 1: Compute and plot the number of talks that took place each year"
   ]
  },
  {
   "cell_type": "markdown",
   "metadata": {
    "pycharm": {
     "name": "#%% md\n"
    }
   },
   "source": [
    "To do this, we need to extract the year from the filming date, and group talks on the year basis.\n",
    "\n",
    "First, add the event_year column"
   ]
  },
  {
   "cell_type": "code",
   "execution_count": 19,
   "metadata": {
    "pycharm": {
     "name": "#%%\n"
    }
   },
   "outputs": [
    {
     "data": {
      "text/plain": "  filming_date  event_year\n0   2006-02-25        2006\n1   2006-02-25        2006\n2   2006-02-24        2006\n3   2006-02-26        2006\n4   2006-02-22        2006",
      "text/html": "<div>\n<style scoped>\n    .dataframe tbody tr th:only-of-type {\n        vertical-align: middle;\n    }\n\n    .dataframe tbody tr th {\n        vertical-align: top;\n    }\n\n    .dataframe thead th {\n        text-align: right;\n    }\n</style>\n<table border=\"1\" class=\"dataframe\">\n  <thead>\n    <tr style=\"text-align: right;\">\n      <th></th>\n      <th>filming_date</th>\n      <th>event_year</th>\n    </tr>\n  </thead>\n  <tbody>\n    <tr>\n      <th>0</th>\n      <td>2006-02-25</td>\n      <td>2006</td>\n    </tr>\n    <tr>\n      <th>1</th>\n      <td>2006-02-25</td>\n      <td>2006</td>\n    </tr>\n    <tr>\n      <th>2</th>\n      <td>2006-02-24</td>\n      <td>2006</td>\n    </tr>\n    <tr>\n      <th>3</th>\n      <td>2006-02-26</td>\n      <td>2006</td>\n    </tr>\n    <tr>\n      <th>4</th>\n      <td>2006-02-22</td>\n      <td>2006</td>\n    </tr>\n  </tbody>\n</table>\n</div>"
     },
     "execution_count": 19,
     "metadata": {},
     "output_type": "execute_result"
    }
   ],
   "source": [
    "ted['event_year'] = ted['filming_date'].dt.year\n",
    "ted[['filming_date', 'event_year']].head()"
   ]
  },
  {
   "cell_type": "markdown",
   "metadata": {
    "pycharm": {
     "name": "#%% md\n"
    }
   },
   "source": [
    "Then, compute the number of talks per year"
   ]
  },
  {
   "cell_type": "code",
   "execution_count": 20,
   "metadata": {
    "pycharm": {
     "name": "#%%\n"
    }
   },
   "outputs": [
    {
     "data": {
      "text/plain": "2013    270\n2011    270\n2010    267\n2012    267\n2016    246\n2015    239\n2014    237\n2009    232\n2007    114\n2017     98\n2008     84\n2005     66\n2006     50\n2004     33\n2003     33\n2002     27\n1998      6\n2001      5\n1983      1\n1972      1\n1990      1\n1994      1\n1984      1\n1991      1\nName: event_year, dtype: int64"
     },
     "execution_count": 20,
     "metadata": {},
     "output_type": "execute_result"
    }
   ],
   "source": [
    "ted.event_year.value_counts()"
   ]
  },
  {
   "cell_type": "markdown",
   "metadata": {
    "pycharm": {
     "name": "#%% md\n"
    }
   },
   "source": [
    "Note that the counts are by default sorted in descending order of count value. This is fine if we are interested in identifying years with the highest / lowest number of talks. <br>\n",
    "However, if we want to plot the number of talks per year, we need the talk counts ordered based on the year. To get that, we can do the sort based on the index:"
   ]
  },
  {
   "cell_type": "code",
   "execution_count": 21,
   "metadata": {
    "pycharm": {
     "name": "#%%\n"
    }
   },
   "outputs": [],
   "source": [
    "talks_per_year = ted.event_year.value_counts()\n",
    "talks_per_year.sort_index(inplace=True)"
   ]
  },
  {
   "cell_type": "code",
   "execution_count": 22,
   "metadata": {
    "pycharm": {
     "name": "#%%\n"
    }
   },
   "outputs": [
    {
     "data": {
      "text/plain": "1972      1\n1983      1\n1984      1\n1990      1\n1991      1\n1994      1\n1998      6\n2001      5\n2002     27\n2003     33\n2004     33\n2005     66\n2006     50\n2007    114\n2008     84\n2009    232\n2010    267\n2011    270\n2012    267\n2013    270\n2014    237\n2015    239\n2016    246\n2017     98\nName: event_year, dtype: int64"
     },
     "execution_count": 22,
     "metadata": {},
     "output_type": "execute_result"
    }
   ],
   "source": [
    "talks_per_year"
   ]
  },
  {
   "cell_type": "markdown",
   "metadata": {
    "pycharm": {
     "name": "#%% md\n"
    }
   },
   "source": [
    "Now, we can plot talk counts across years"
   ]
  },
  {
   "cell_type": "code",
   "execution_count": 23,
   "metadata": {
    "pycharm": {
     "name": "#%%\n"
    }
   },
   "outputs": [
    {
     "data": {
      "text/plain": "<Figure size 640x480 with 1 Axes>",
      "image/png": "[encoded data removed]"
     },
     "metadata": {},
     "output_type": "display_data"
    }
   ],
   "source": [
    "x = talks_per_year.index\n",
    "y = talks_per_year.values\n",
    "\n",
    "_, ax = plt.subplots()\n",
    "ax.plot(x, y, marker='^')\n",
    "ax.set_ylabel(\"Number of talks\")\n",
    "ax.set_xlabel(\"Year\")\n",
    "ax.set_xticks(range(1970, 2018, 5))\n",
    "\n",
    "plt.grid(True)\n",
    "plt.show()"
   ]
  },
  {
   "cell_type": "markdown",
   "metadata": {
    "pycharm": {
     "name": "#%% md\n"
    }
   },
   "source": [
    "## Task 2: Which TED events attracted the most attention?\n",
    "\n",
    "Consider the number of views as a proxy of an event's attractiveness"
   ]
  },
  {
   "cell_type": "code",
   "execution_count": 24,
   "metadata": {
    "pycharm": {
     "name": "#%%\n"
    }
   },
   "outputs": [
    {
     "data": {
      "text/plain": "   comment_count                                        description  duration  \\\n0           4553  Sir Ken Robinson makes an entertaining and pro...      1164   \n1            265  With the same humor and humanity he exuded in ...       977   \n2            124  New York Times columnist David Pogue takes aim...      1286   \n3            200  In an emotionally charged talk, MacArthur-winn...      1116   \n\n     event  languages   main_speaker  \\\n0  TED2006         60   Ken Robinson   \n1  TED2006         43        Al Gore   \n2  TED2006         26    David Pogue   \n3  TED2006         35  Majora Carter   \n\n                                        name  num_speaker  \\\n0  Ken Robinson: Do schools kill creativity?            1   \n1       Al Gore: Averting the climate crisis            1   \n2              David Pogue: Simplicity sells            1   \n3         Majora Carter: Greening the ghetto            1   \n\n                                             ratings  \\\n0  [{'id': 7, 'name': 'Funny', 'count': 19645}, {...   \n1  [{'id': 7, 'name': 'Funny', 'count': 544}, {'i...   \n2  [{'id': 7, 'name': 'Funny', 'count': 964}, {'i...   \n3  [{'id': 3, 'name': 'Courageous', 'count': 760}...   \n\n                                       related_talks  \\\n0  [{'id': 865, 'hero': 'https://pe.tedcdn.com/im...   \n1  [{'id': 243, 'hero': 'https://pe.tedcdn.com/im...   \n2  [{'id': 1725, 'hero': 'https://pe.tedcdn.com/i...   \n3  [{'id': 1041, 'hero': 'https://pe.tedcdn.com/i...   \n\n                   speaker_occupation  \\\n0                     Author/educator   \n1                    Climate advocate   \n2                Technology columnist   \n3  Activist for environmental justice   \n\n                                                tags  \\\n0  ['children', 'creativity', 'culture', 'dance',...   \n1  ['alternative energy', 'cars', 'climate change...   \n2  ['computers', 'entertainment', 'interface desi...   \n3  ['MacArthur grant', 'activism', 'business', 'c...   \n\n                         title  \\\n0  Do schools kill creativity?   \n1  Averting the climate crisis   \n2             Simplicity sells   \n3          Greening the ghetto   \n\n                                                 url  view_count filming_date  \\\n0  https://www.ted.com/talks/ken_robinson_says_sc...    47227110   2006-02-25   \n1  https://www.ted.com/talks/al_gore_on_averting_...     3200520   2006-02-25   \n2  https://www.ted.com/talks/david_pogue_says_sim...     1636292   2006-02-24   \n3  https://www.ted.com/talks/majora_carter_s_tale...     1697550   2006-02-26   \n\n     publication_date  event_year  \n0 2006-06-27 00:11:00        2006  \n1 2006-06-27 00:11:00        2006  \n2 2006-06-27 00:11:00        2006  \n3 2006-06-27 00:11:00        2006  ",
      "text/html": "<div>\n<style scoped>\n    .dataframe tbody tr th:only-of-type {\n        vertical-align: middle;\n    }\n\n    .dataframe tbody tr th {\n        vertical-align: top;\n    }\n\n    .dataframe thead th {\n        text-align: right;\n    }\n</style>\n<table border=\"1\" class=\"dataframe\">\n  <thead>\n    <tr style=\"text-align: right;\">\n      <th></th>\n      <th>comment_count</th>\n      <th>description</th>\n      <th>duration</th>\n      <th>event</th>\n      <th>languages</th>\n      <th>main_speaker</th>\n      <th>name</th>\n      <th>num_speaker</th>\n      <th>ratings</th>\n      <th>related_talks</th>\n      <th>speaker_occupation</th>\n      <th>tags</th>\n      <th>title</th>\n      <th>url</th>\n      <th>view_count</th>\n      <th>filming_date</th>\n      <th>publication_date</th>\n      <th>event_year</th>\n    </tr>\n  </thead>\n  <tbody>\n    <tr>\n      <th>0</th>\n      <td>4553</td>\n      <td>Sir Ken Robinson makes an entertaining and pro...</td>\n      <td>1164</td>\n      <td>TED2006</td>\n      <td>60</td>\n      <td>Ken Robinson</td>\n      <td>Ken Robinson: Do schools kill creativity?</td>\n      <td>1</td>\n      <td>[{'id': 7, 'name': 'Funny', 'count': 19645}, {...</td>\n      <td>[{'id': 865, 'hero': 'https://pe.tedcdn.com/im...</td>\n      <td>Author/educator</td>\n      <td>['children', 'creativity', 'culture', 'dance',...</td>\n      <td>Do schools kill creativity?</td>\n      <td>https://www.ted.com/talks/ken_robinson_says_sc...</td>\n      <td>47227110</td>\n      <td>2006-02-25</td>\n      <td>2006-06-27 00:11:00</td>\n      <td>2006</td>\n    </tr>\n    <tr>\n      <th>1</th>\n      <td>265</td>\n      <td>With the same humor and humanity he exuded in ...</td>\n      <td>977</td>\n      <td>TED2006</td>\n      <td>43</td>\n      <td>Al Gore</td>\n      <td>Al Gore: Averting the climate crisis</td>\n      <td>1</td>\n      <td>[{'id': 7, 'name': 'Funny', 'count': 544}, {'i...</td>\n      <td>[{'id': 243, 'hero': 'https://pe.tedcdn.com/im...</td>\n      <td>Climate advocate</td>\n      <td>['alternative energy', 'cars', 'climate change...</td>\n      <td>Averting the climate crisis</td>\n      <td>https://www.ted.com/talks/al_gore_on_averting_...</td>\n      <td>3200520</td>\n      <td>2006-02-25</td>\n      <td>2006-06-27 00:11:00</td>\n      <td>2006</td>\n    </tr>\n    <tr>\n      <th>2</th>\n      <td>124</td>\n      <td>New York Times columnist David Pogue takes aim...</td>\n      <td>1286</td>\n      <td>TED2006</td>\n      <td>26</td>\n      <td>David Pogue</td>\n      <td>David Pogue: Simplicity sells</td>\n      <td>1</td>\n      <td>[{'id': 7, 'name': 'Funny', 'count': 964}, {'i...</td>\n      <td>[{'id': 1725, 'hero': 'https://pe.tedcdn.com/i...</td>\n      <td>Technology columnist</td>\n      <td>['computers', 'entertainment', 'interface desi...</td>\n      <td>Simplicity sells</td>\n      <td>https://www.ted.com/talks/david_pogue_says_sim...</td>\n      <td>1636292</td>\n      <td>2006-02-24</td>\n      <td>2006-06-27 00:11:00</td>\n      <td>2006</td>\n    </tr>\n    <tr>\n      <th>3</th>\n      <td>200</td>\n      <td>In an emotionally charged talk, MacArthur-winn...</td>\n      <td>1116</td>\n      <td>TED2006</td>\n      <td>35</td>\n      <td>Majora Carter</td>\n      <td>Majora Carter: Greening the ghetto</td>\n      <td>1</td>\n      <td>[{'id': 3, 'name': 'Courageous', 'count': 760}...</td>\n      <td>[{'id': 1041, 'hero': 'https://pe.tedcdn.com/i...</td>\n      <td>Activist for environmental justice</td>\n      <td>['MacArthur grant', 'activism', 'business', 'c...</td>\n      <td>Greening the ghetto</td>\n      <td>https://www.ted.com/talks/majora_carter_s_tale...</td>\n      <td>1697550</td>\n      <td>2006-02-26</td>\n      <td>2006-06-27 00:11:00</td>\n      <td>2006</td>\n    </tr>\n  </tbody>\n</table>\n</div>"
     },
     "execution_count": 24,
     "metadata": {},
     "output_type": "execute_result"
    }
   ],
   "source": [
    "ted.head(4)"
   ]
  },
  {
   "cell_type": "markdown",
   "metadata": {
    "pycharm": {
     "name": "#%% md\n"
    }
   },
   "source": [
    "Since the number of recorded TED talks vary from one TED event to the next, to estimate the attention that a TED event received it wouldn't be fair to compute the total number of views per talk. Hence, we will compute the average number of views per talk during each event."
   ]
  },
  {
   "cell_type": "code",
   "execution_count": 25,
   "metadata": {
    "pycharm": {
     "name": "#%%\n"
    }
   },
   "outputs": [
    {
     "data": {
      "text/plain": "event\nTEDxPuget Sound           34309432.0\nTEDxHouston               16140250.5\nTEDxBloomington            9484259.5\nTEDxCreativeCoast          8444981.0\nTEDxNorrkoping             6569493.0\n                             ...    \nTEDxNASA@SiliconValley      155895.0\nAORN Congress               149818.0\nTEDxWaterloo                138812.0\nTEDxIslay                   120274.0\nThe Do Lectures             112321.0\nName: view_count, Length: 355, dtype: float64"
     },
     "execution_count": 25,
     "metadata": {},
     "output_type": "execute_result"
    }
   ],
   "source": [
    "ted.groupby('event').view_count.mean().sort_values(ascending=False)"
   ]
  },
  {
   "cell_type": "markdown",
   "metadata": {
    "pycharm": {
     "name": "#%% md\n"
    }
   },
   "source": [
    "It might be the case that some of these events got high mean views due to having a small number of very popular talks, or even just one very popular talk. So, consider also the number of talks at each event.\n",
    "\n",
    "To aggregate data based on more than one function (e.g., in this case, mean and count), we can follow `groupby()` with the `agg()` function that receives a list of aggregation functions we want to apply to the grouped data."
   ]
  },
  {
   "cell_type": "code",
   "execution_count": 26,
   "metadata": {
    "pycharm": {
     "name": "#%%\n"
    }
   },
   "outputs": [
    {
     "data": {
      "text/plain": "                             count      mean\nevent                                       \nAORN Congress                    1  149818.0\nArbejdsglaede Live               1  971594.0\nBBC TV                           1  521974.0\nBowery Poetry Club               1  676741.0\nBusiness Innovation Factory      3  304086.0",
      "text/html": "<div>\n<style scoped>\n    .dataframe tbody tr th:only-of-type {\n        vertical-align: middle;\n    }\n\n    .dataframe tbody tr th {\n        vertical-align: top;\n    }\n\n    .dataframe thead th {\n        text-align: right;\n    }\n</style>\n<table border=\"1\" class=\"dataframe\">\n  <thead>\n    <tr style=\"text-align: right;\">\n      <th></th>\n      <th>count</th>\n      <th>mean</th>\n    </tr>\n    <tr>\n      <th>event</th>\n      <th></th>\n      <th></th>\n    </tr>\n  </thead>\n  <tbody>\n    <tr>\n      <th>AORN Congress</th>\n      <td>1</td>\n      <td>149818.0</td>\n    </tr>\n    <tr>\n      <th>Arbejdsglaede Live</th>\n      <td>1</td>\n      <td>971594.0</td>\n    </tr>\n    <tr>\n      <th>BBC TV</th>\n      <td>1</td>\n      <td>521974.0</td>\n    </tr>\n    <tr>\n      <th>Bowery Poetry Club</th>\n      <td>1</td>\n      <td>676741.0</td>\n    </tr>\n    <tr>\n      <th>Business Innovation Factory</th>\n      <td>3</td>\n      <td>304086.0</td>\n    </tr>\n  </tbody>\n</table>\n</div>"
     },
     "execution_count": 26,
     "metadata": {},
     "output_type": "execute_result"
    }
   ],
   "source": [
    "ted.groupby('event').view_count.agg(['count', 'mean']).head()"
   ]
  },
  {
   "cell_type": "markdown",
   "metadata": {
    "pycharm": {
     "name": "#%% md\n"
    }
   },
   "source": [
    "Let's store the results in a new data frame"
   ]
  },
  {
   "cell_type": "code",
   "execution_count": 27,
   "metadata": {
    "pycharm": {
     "name": "#%%\n"
    }
   },
   "outputs": [],
   "source": [
    "events_views = ted.groupby('event').view_count.agg(['count', 'mean'])"
   ]
  },
  {
   "cell_type": "code",
   "execution_count": 28,
   "metadata": {
    "pycharm": {
     "name": "#%%\n"
    }
   },
   "outputs": [],
   "source": [
    "events_views.columns = ['talk_count', 'mean_views']"
   ]
  },
  {
   "cell_type": "markdown",
   "metadata": {
    "pycharm": {
     "name": "#%% md\n"
    }
   },
   "source": [
    "Now, we can examine, for each event, both the average number of views and number of talks"
   ]
  },
  {
   "cell_type": "code",
   "execution_count": 29,
   "metadata": {
    "pycharm": {
     "name": "#%%\n"
    }
   },
   "outputs": [
    {
     "data": {
      "text/plain": "                         talk_count  mean_views\nevent                                          \nTEDxPuget Sound                   1  34309432.0\nTEDxHouston                       2  16140250.5\nTEDxBloomington                   2   9484259.5\nTEDxCreativeCoast                 1   8444981.0\nTEDxNorrkoping                    1   6569493.0\nTEDxUW                            1   5917201.0\nTEDxLinnaeusUniversity            1   4984884.0\nTEDxGoldenGatePark 2012           1   4811180.0\nTEDxCHUV                          1   4682458.0\nStanford University               2   4658636.5",
      "text/html": "<div>\n<style scoped>\n    .dataframe tbody tr th:only-of-type {\n        vertical-align: middle;\n    }\n\n    .dataframe tbody tr th {\n        vertical-align: top;\n    }\n\n    .dataframe thead th {\n        text-align: right;\n    }\n</style>\n<table border=\"1\" class=\"dataframe\">\n  <thead>\n    <tr style=\"text-align: right;\">\n      <th></th>\n      <th>talk_count</th>\n      <th>mean_views</th>\n    </tr>\n    <tr>\n      <th>event</th>\n      <th></th>\n      <th></th>\n    </tr>\n  </thead>\n  <tbody>\n    <tr>\n      <th>TEDxPuget Sound</th>\n      <td>1</td>\n      <td>34309432.0</td>\n    </tr>\n    <tr>\n      <th>TEDxHouston</th>\n      <td>2</td>\n      <td>16140250.5</td>\n    </tr>\n    <tr>\n      <th>TEDxBloomington</th>\n      <td>2</td>\n      <td>9484259.5</td>\n    </tr>\n    <tr>\n      <th>TEDxCreativeCoast</th>\n      <td>1</td>\n      <td>8444981.0</td>\n    </tr>\n    <tr>\n      <th>TEDxNorrkoping</th>\n      <td>1</td>\n      <td>6569493.0</td>\n    </tr>\n    <tr>\n      <th>TEDxUW</th>\n      <td>1</td>\n      <td>5917201.0</td>\n    </tr>\n    <tr>\n      <th>TEDxLinnaeusUniversity</th>\n      <td>1</td>\n      <td>4984884.0</td>\n    </tr>\n    <tr>\n      <th>TEDxGoldenGatePark 2012</th>\n      <td>1</td>\n      <td>4811180.0</td>\n    </tr>\n    <tr>\n      <th>TEDxCHUV</th>\n      <td>1</td>\n      <td>4682458.0</td>\n    </tr>\n    <tr>\n      <th>Stanford University</th>\n      <td>2</td>\n      <td>4658636.5</td>\n    </tr>\n  </tbody>\n</table>\n</div>"
     },
     "execution_count": 29,
     "metadata": {},
     "output_type": "execute_result"
    }
   ],
   "source": [
    "events_views.sort_values(by='mean_views', ascending=False).head(10)"
   ]
  },
  {
   "cell_type": "markdown",
   "metadata": {
    "pycharm": {
     "name": "#%% md\n"
    }
   },
   "source": [
    "Note that all top 10 events (based on the average views) had at most 2 talks. <br>\n",
    "Let's check the stats for the number of talks and mean views per event"
   ]
  },
  {
   "cell_type": "code",
   "execution_count": 30,
   "metadata": {
    "pycharm": {
     "name": "#%%\n"
    }
   },
   "outputs": [
    {
     "data": {
      "text/plain": "       talk_count    mean_views\ncount  355.000000  3.550000e+02\nmean     7.183099  1.527689e+06\nstd     15.265735  2.205832e+06\nmin      1.000000  1.123210e+05\n25%      1.000000  7.594215e+05\n50%      2.000000  1.187105e+06\n75%      5.000000  1.715774e+06\nmax     84.000000  3.430943e+07",
      "text/html": "<div>\n<style scoped>\n    .dataframe tbody tr th:only-of-type {\n        vertical-align: middle;\n    }\n\n    .dataframe tbody tr th {\n        vertical-align: top;\n    }\n\n    .dataframe thead th {\n        text-align: right;\n    }\n</style>\n<table border=\"1\" class=\"dataframe\">\n  <thead>\n    <tr style=\"text-align: right;\">\n      <th></th>\n      <th>talk_count</th>\n      <th>mean_views</th>\n    </tr>\n  </thead>\n  <tbody>\n    <tr>\n      <th>count</th>\n      <td>355.000000</td>\n      <td>3.550000e+02</td>\n    </tr>\n    <tr>\n      <th>mean</th>\n      <td>7.183099</td>\n      <td>1.527689e+06</td>\n    </tr>\n    <tr>\n      <th>std</th>\n      <td>15.265735</td>\n      <td>2.205832e+06</td>\n    </tr>\n    <tr>\n      <th>min</th>\n      <td>1.000000</td>\n      <td>1.123210e+05</td>\n    </tr>\n    <tr>\n      <th>25%</th>\n      <td>1.000000</td>\n      <td>7.594215e+05</td>\n    </tr>\n    <tr>\n      <th>50%</th>\n      <td>2.000000</td>\n      <td>1.187105e+06</td>\n    </tr>\n    <tr>\n      <th>75%</th>\n      <td>5.000000</td>\n      <td>1.715774e+06</td>\n    </tr>\n    <tr>\n      <th>max</th>\n      <td>84.000000</td>\n      <td>3.430943e+07</td>\n    </tr>\n  </tbody>\n</table>\n</div>"
     },
     "execution_count": 30,
     "metadata": {},
     "output_type": "execute_result"
    }
   ],
   "source": [
    "events_views.describe()"
   ]
  },
  {
   "cell_type": "markdown",
   "metadata": {
    "pycharm": {
     "name": "#%% md\n"
    }
   },
   "source": [
    "To get some further insights, let's consider only those events with above average number of talks. Considering highly skewed distribution, we'll use median as the average value"
   ]
  },
  {
   "cell_type": "code",
   "execution_count": 31,
   "metadata": {
    "pycharm": {
     "name": "#%%\n"
    }
   },
   "outputs": [],
   "source": [
    "avg_talk_cnt = events_views.describe().loc['50%', 'talk_count']"
   ]
  },
  {
   "cell_type": "code",
   "execution_count": 32,
   "metadata": {
    "pycharm": {
     "name": "#%%\n"
    }
   },
   "outputs": [
    {
     "data": {
      "text/plain": "                             talk_count    mean_views\nevent                                                \nTED Talks Education                   8  4.375104e+06\nTEDGlobal>Geneva                     11  3.385408e+06\nTED2006                              45  3.274345e+06\nTEDxManhattanBeach                    3  3.251704e+06\nTEDSalon NY2013                      11  2.861639e+06\n...                                 ...           ...\nTEDxYYC                               3  3.699607e+05\nBusiness Innovation Factory           3  3.040860e+05\nTEDxPhoenix                           4  2.846855e+05\nTEDSalon 2009 Compassion              3  2.818163e+05\nChautauqua Institution                3  2.608687e+05\n\n[142 rows x 2 columns]",
      "text/html": "<div>\n<style scoped>\n    .dataframe tbody tr th:only-of-type {\n        vertical-align: middle;\n    }\n\n    .dataframe tbody tr th {\n        vertical-align: top;\n    }\n\n    .dataframe thead th {\n        text-align: right;\n    }\n</style>\n<table border=\"1\" class=\"dataframe\">\n  <thead>\n    <tr style=\"text-align: right;\">\n      <th></th>\n      <th>talk_count</th>\n      <th>mean_views</th>\n    </tr>\n    <tr>\n      <th>event</th>\n      <th></th>\n      <th></th>\n    </tr>\n  </thead>\n  <tbody>\n    <tr>\n      <th>TED Talks Education</th>\n      <td>8</td>\n      <td>4.375104e+06</td>\n    </tr>\n    <tr>\n      <th>TEDGlobal&gt;Geneva</th>\n      <td>11</td>\n      <td>3.385408e+06</td>\n    </tr>\n    <tr>\n      <th>TED2006</th>\n      <td>45</td>\n      <td>3.274345e+06</td>\n    </tr>\n    <tr>\n      <th>TEDxManhattanBeach</th>\n      <td>3</td>\n      <td>3.251704e+06</td>\n    </tr>\n    <tr>\n      <th>TEDSalon NY2013</th>\n      <td>11</td>\n      <td>2.861639e+06</td>\n    </tr>\n    <tr>\n      <th>...</th>\n      <td>...</td>\n      <td>...</td>\n    </tr>\n    <tr>\n      <th>TEDxYYC</th>\n      <td>3</td>\n      <td>3.699607e+05</td>\n    </tr>\n    <tr>\n      <th>Business Innovation Factory</th>\n      <td>3</td>\n      <td>3.040860e+05</td>\n    </tr>\n    <tr>\n      <th>TEDxPhoenix</th>\n      <td>4</td>\n      <td>2.846855e+05</td>\n    </tr>\n    <tr>\n      <th>TEDSalon 2009 Compassion</th>\n      <td>3</td>\n      <td>2.818163e+05</td>\n    </tr>\n    <tr>\n      <th>Chautauqua Institution</th>\n      <td>3</td>\n      <td>2.608687e+05</td>\n    </tr>\n  </tbody>\n</table>\n<p>142 rows × 2 columns</p>\n</div>"
     },
     "execution_count": 32,
     "metadata": {},
     "output_type": "execute_result"
    }
   ],
   "source": [
    "events_views.loc[events_views.talk_count > avg_talk_cnt, :].sort_values(by='mean_views', ascending=False)"
   ]
  },
  {
   "cell_type": "markdown",
   "metadata": {
    "pycharm": {
     "name": "#%% md\n"
    }
   },
   "source": [
    "## Task 3: Explore talks based on their ratings"
   ]
  },
  {
   "cell_type": "markdown",
   "metadata": {
    "pycharm": {
     "name": "#%% md\n"
    }
   },
   "source": [
    "Take a closer look at a sample of ratings"
   ]
  },
  {
   "cell_type": "code",
   "execution_count": 33,
   "metadata": {
    "pycharm": {
     "name": "#%%\n"
    }
   },
   "outputs": [
    {
     "data": {
      "text/plain": "1436    [{'id': 24, 'name': 'Persuasive', 'count': 120...\n1647    [{'id': 10, 'name': 'Inspiring', 'count': 164}...\n2242    [{'id': 1, 'name': 'Beautiful', 'count': 331},...\n38      [{'id': 7, 'name': 'Funny', 'count': 80}, {'id...\n703     [{'id': 24, 'name': 'Persuasive', 'count': 519...\nName: ratings, dtype: object"
     },
     "execution_count": 33,
     "metadata": {},
     "output_type": "execute_result"
    }
   ],
   "source": [
    "ted.ratings.sample(5)"
   ]
  },
  {
   "cell_type": "code",
   "execution_count": 34,
   "metadata": {
    "pycharm": {
     "name": "#%%\n"
    }
   },
   "outputs": [
    {
     "data": {
      "text/plain": "\"[{'id': 7, 'name': 'Funny', 'count': 19645}, {'id': 1, 'name': 'Beautiful', 'count': 4573}, {'id': 9, 'name': 'Ingenious', 'count': 6073}, {'id': 3, 'name': 'Courageous', 'count': 3253}, {'id': 11, 'name': 'Longwinded', 'count': 387}, {'id': 2, 'name': 'Confusing', 'count': 242}, {'id': 8, 'name': 'Informative', 'count': 7346}, {'id': 22, 'name': 'Fascinating', 'count': 10581}, {'id': 21, 'name': 'Unconvincing', 'count': 300}, {'id': 24, 'name': 'Persuasive', 'count': 10704}, {'id': 23, 'name': 'Jaw-dropping', 'count': 4439}, {'id': 25, 'name': 'OK', 'count': 1174}, {'id': 26, 'name': 'Obnoxious', 'count': 209}, {'id': 10, 'name': 'Inspiring', 'count': 24924}]\""
     },
     "execution_count": 34,
     "metadata": {},
     "output_type": "execute_result"
    }
   ],
   "source": [
    "ted.ratings[0]"
   ]
  },
  {
   "cell_type": "markdown",
   "metadata": {
    "pycharm": {
     "name": "#%% md\n"
    }
   },
   "source": [
    "Even though a 'ratings' value looks like a list, it is not"
   ]
  },
  {
   "cell_type": "code",
   "execution_count": 35,
   "metadata": {
    "pycharm": {
     "name": "#%%\n"
    }
   },
   "outputs": [
    {
     "data": {
      "text/plain": "str"
     },
     "execution_count": 35,
     "metadata": {},
     "output_type": "execute_result"
    }
   ],
   "source": [
    "type(ted.ratings[0])"
   ]
  },
  {
   "cell_type": "markdown",
   "metadata": {
    "pycharm": {
     "name": "#%% md\n"
    }
   },
   "source": [
    "To convert talk ratings into a list - so that they can be further processed - we will use a function from the Python's `ast` (*Abstract Syntax Tree*) module:\n",
    "\n",
    "`literal_eval()` function allows one to evaluate a string containing a Python literal or container, that is, it can be used to transform a string into a literal value, a list, a tuple or any other container object"
   ]
  },
  {
   "cell_type": "code",
   "execution_count": 36,
   "metadata": {
    "pycharm": {
     "name": "#%%\n"
    }
   },
   "outputs": [
    {
     "data": {
      "text/plain": "(1, 2, 3, 4)"
     },
     "execution_count": 36,
     "metadata": {},
     "output_type": "execute_result"
    }
   ],
   "source": [
    "import ast\n",
    "\n",
    "ast.literal_eval('(1,2,3,4)')"
   ]
  },
  {
   "cell_type": "code",
   "execution_count": 37,
   "metadata": {
    "pycharm": {
     "name": "#%%\n"
    }
   },
   "outputs": [
    {
     "data": {
      "text/plain": "[{'id': 7, 'name': 'Funny', 'count': 19645},\n {'id': 1, 'name': 'Beautiful', 'count': 4573},\n {'id': 9, 'name': 'Ingenious', 'count': 6073},\n {'id': 3, 'name': 'Courageous', 'count': 3253},\n {'id': 11, 'name': 'Longwinded', 'count': 387},\n {'id': 2, 'name': 'Confusing', 'count': 242},\n {'id': 8, 'name': 'Informative', 'count': 7346},\n {'id': 22, 'name': 'Fascinating', 'count': 10581},\n {'id': 21, 'name': 'Unconvincing', 'count': 300},\n {'id': 24, 'name': 'Persuasive', 'count': 10704},\n {'id': 23, 'name': 'Jaw-dropping', 'count': 4439},\n {'id': 25, 'name': 'OK', 'count': 1174},\n {'id': 26, 'name': 'Obnoxious', 'count': 209},\n {'id': 10, 'name': 'Inspiring', 'count': 24924}]"
     },
     "execution_count": 37,
     "metadata": {},
     "output_type": "execute_result"
    }
   ],
   "source": [
    "ast.literal_eval(ted.ratings[0])"
   ]
  },
  {
   "cell_type": "code",
   "execution_count": 38,
   "metadata": {
    "pycharm": {
     "name": "#%%\n"
    }
   },
   "outputs": [
    {
     "data": {
      "text/plain": "list"
     },
     "execution_count": 38,
     "metadata": {},
     "output_type": "execute_result"
    }
   ],
   "source": [
    "type(ast.literal_eval(ted.ratings[0]))"
   ]
  },
  {
   "cell_type": "markdown",
   "metadata": {
    "pycharm": {
     "name": "#%% md\n"
    }
   },
   "source": [
    "Create a new column for storing ratings as a list, instead of a string.\n",
    "\n",
    "To that end, we will use the `apply()` f. to apply the `ast.literal_eval()` f. to each value of the ratings column"
   ]
  },
  {
   "cell_type": "code",
   "execution_count": 39,
   "metadata": {
    "pycharm": {
     "name": "#%%\n"
    }
   },
   "outputs": [],
   "source": [
    "ted['ratings_list'] = ted.ratings.apply(ast.literal_eval)"
   ]
  },
  {
   "cell_type": "code",
   "execution_count": 40,
   "metadata": {
    "pycharm": {
     "name": "#%%\n"
    }
   },
   "outputs": [
    {
     "data": {
      "text/plain": "0    [{'id': 7, 'name': 'Funny', 'count': 19645}, {...\n1    [{'id': 7, 'name': 'Funny', 'count': 544}, {'i...\n2    [{'id': 7, 'name': 'Funny', 'count': 964}, {'i...\nName: ratings_list, dtype: object"
     },
     "execution_count": 40,
     "metadata": {},
     "output_type": "execute_result"
    }
   ],
   "source": [
    "ted.ratings_list.head(3)"
   ]
  },
  {
   "cell_type": "markdown",
   "metadata": {
    "pycharm": {
     "name": "#%% md\n"
    }
   },
   "source": [
    "### Task 3.1: For each talk, find the 3 most frequent ratings\n",
    "\n",
    "Add a column with a tuple comprising names of the 3 most frequent ratings for the corresponding talk"
   ]
  },
  {
   "cell_type": "markdown",
   "metadata": {
    "pycharm": {
     "name": "#%% md\n"
    }
   },
   "source": [
    "To do this, we can start from the 'ratings_list' column"
   ]
  },
  {
   "cell_type": "code",
   "execution_count": 41,
   "metadata": {
    "pycharm": {
     "name": "#%%\n"
    }
   },
   "outputs": [
    {
     "data": {
      "text/plain": "[{'id': 7, 'name': 'Funny', 'count': 19645},\n {'id': 1, 'name': 'Beautiful', 'count': 4573},\n {'id': 9, 'name': 'Ingenious', 'count': 6073},\n {'id': 3, 'name': 'Courageous', 'count': 3253},\n {'id': 11, 'name': 'Longwinded', 'count': 387},\n {'id': 2, 'name': 'Confusing', 'count': 242},\n {'id': 8, 'name': 'Informative', 'count': 7346},\n {'id': 22, 'name': 'Fascinating', 'count': 10581},\n {'id': 21, 'name': 'Unconvincing', 'count': 300},\n {'id': 24, 'name': 'Persuasive', 'count': 10704},\n {'id': 23, 'name': 'Jaw-dropping', 'count': 4439},\n {'id': 25, 'name': 'OK', 'count': 1174},\n {'id': 26, 'name': 'Obnoxious', 'count': 209},\n {'id': 10, 'name': 'Inspiring', 'count': 24924}]"
     },
     "execution_count": 41,
     "metadata": {},
     "output_type": "execute_result"
    }
   ],
   "source": [
    "ted.ratings_list[0]"
   ]
  },
  {
   "cell_type": "markdown",
   "metadata": {
    "pycharm": {
     "name": "#%% md\n"
    }
   },
   "source": [
    "One way to approach this task is to create a function that receives a list of ratings for one talk and returns a tuple with the 3 most frequent ratings"
   ]
  },
  {
   "cell_type": "code",
   "execution_count": 42,
   "metadata": {
    "pycharm": {
     "name": "#%%\n"
    }
   },
   "outputs": [],
   "source": [
    "def most_freq_ratings(ratings):\n",
    "    sorted_ratings = sorted(ratings, key=lambda rating: rating['count'], reverse=True)\n",
    "    return tuple([rating['name'] for rating in sorted_ratings[:3]])"
   ]
  },
  {
   "cell_type": "code",
   "execution_count": 43,
   "metadata": {
    "pycharm": {
     "name": "#%%\n"
    }
   },
   "outputs": [
    {
     "data": {
      "text/plain": "('Inspiring', 'Funny', 'Persuasive')"
     },
     "execution_count": 43,
     "metadata": {},
     "output_type": "execute_result"
    }
   ],
   "source": [
    "most_freq_ratings(ted.ratings_list[0])"
   ]
  },
  {
   "cell_type": "markdown",
   "metadata": {
    "pycharm": {
     "name": "#%% md\n"
    }
   },
   "source": [
    "Now, apply the function to the `ratings` of each talk to create a new column (e.g. top3_ratings)"
   ]
  },
  {
   "cell_type": "code",
   "execution_count": 44,
   "metadata": {
    "pycharm": {
     "name": "#%%\n"
    }
   },
   "outputs": [],
   "source": [
    "ted['top3_ratings'] = ted.ratings_list.apply(most_freq_ratings)"
   ]
  },
  {
   "cell_type": "markdown",
   "metadata": {
    "pycharm": {
     "name": "#%% md\n"
    }
   },
   "source": [
    "Print 'top3_ratings' of the 10 most viewed talks to see what were the primary ways of ratings those talks"
   ]
  },
  {
   "cell_type": "code",
   "execution_count": 45,
   "metadata": {
    "pycharm": {
     "name": "#%%\n"
    }
   },
   "outputs": [
    {
     "data": {
      "text/plain": "                                                   name  \\\n0             Ken Robinson: Do schools kill creativity?   \n1346  Amy Cuddy: Your body language may shape who yo...   \n677       Simon Sinek: How great leaders inspire action   \n837             Brené Brown: The power of vulnerability   \n452   Mary Roach: 10 things you didn't know about or...   \n1776  Julian Treasure: How to speak so that people w...   \n201             Jill Bolte Taylor: My stroke of insight   \n5                    Tony Robbins: Why we do what we do   \n2114  James Veitch: This is what happens when you re...   \n1416  Cameron Russell: Looks aren't everything. Beli...   \n\n                                top3_ratings  \n0             (Inspiring, Funny, Persuasive)  \n1346   (Inspiring, Fascinating, Informative)  \n677     (Inspiring, Persuasive, Fascinating)  \n837       (Inspiring, Courageous, Beautiful)  \n452        (Funny, Informative, Fascinating)  \n1776    (Informative, Inspiring, Persuasive)  \n201   (Inspiring, Fascinating, Jaw-dropping)  \n5       (Inspiring, Persuasive, Fascinating)  \n2114         (Funny, Ingenious, Fascinating)  \n1416    (Courageous, Inspiring, Informative)  ",
      "text/html": "<div>\n<style scoped>\n    .dataframe tbody tr th:only-of-type {\n        vertical-align: middle;\n    }\n\n    .dataframe tbody tr th {\n        vertical-align: top;\n    }\n\n    .dataframe thead th {\n        text-align: right;\n    }\n</style>\n<table border=\"1\" class=\"dataframe\">\n  <thead>\n    <tr style=\"text-align: right;\">\n      <th></th>\n      <th>name</th>\n      <th>top3_ratings</th>\n    </tr>\n  </thead>\n  <tbody>\n    <tr>\n      <th>0</th>\n      <td>Ken Robinson: Do schools kill creativity?</td>\n      <td>(Inspiring, Funny, Persuasive)</td>\n    </tr>\n    <tr>\n      <th>1346</th>\n      <td>Amy Cuddy: Your body language may shape who yo...</td>\n      <td>(Inspiring, Fascinating, Informative)</td>\n    </tr>\n    <tr>\n      <th>677</th>\n      <td>Simon Sinek: How great leaders inspire action</td>\n      <td>(Inspiring, Persuasive, Fascinating)</td>\n    </tr>\n    <tr>\n      <th>837</th>\n      <td>Brené Brown: The power of vulnerability</td>\n      <td>(Inspiring, Courageous, Beautiful)</td>\n    </tr>\n    <tr>\n      <th>452</th>\n      <td>Mary Roach: 10 things you didn't know about or...</td>\n      <td>(Funny, Informative, Fascinating)</td>\n    </tr>\n    <tr>\n      <th>1776</th>\n      <td>Julian Treasure: How to speak so that people w...</td>\n      <td>(Informative, Inspiring, Persuasive)</td>\n    </tr>\n    <tr>\n      <th>201</th>\n      <td>Jill Bolte Taylor: My stroke of insight</td>\n      <td>(Inspiring, Fascinating, Jaw-dropping)</td>\n    </tr>\n    <tr>\n      <th>5</th>\n      <td>Tony Robbins: Why we do what we do</td>\n      <td>(Inspiring, Persuasive, Fascinating)</td>\n    </tr>\n    <tr>\n      <th>2114</th>\n      <td>James Veitch: This is what happens when you re...</td>\n      <td>(Funny, Ingenious, Fascinating)</td>\n    </tr>\n    <tr>\n      <th>1416</th>\n      <td>Cameron Russell: Looks aren't everything. Beli...</td>\n      <td>(Courageous, Inspiring, Informative)</td>\n    </tr>\n  </tbody>\n</table>\n</div>"
     },
     "execution_count": 45,
     "metadata": {},
     "output_type": "execute_result"
    }
   ],
   "source": [
    "ted.sort_values(by='view_count', ascending=False)[['name','top3_ratings']].head(10)"
   ]
  },
  {
   "cell_type": "markdown",
   "metadata": {
    "pycharm": {
     "name": "#%% md\n"
    }
   },
   "source": [
    "### Task 3.2 Which TED events had the most 'Jaw-dropping' talks?"
   ]
  },
  {
   "cell_type": "markdown",
   "metadata": {
    "pycharm": {
     "name": "#%% md\n"
    }
   },
   "source": [
    "This task can be interpreted in different ways. One way is that we qualify a talk as *jaw-dropping* if 'Jaw dropping' ratings were among the top 3 most frequent kind of ratings for that talk.\n",
    "\n",
    "Let's start by creating the *jaw-dropping* column, as qualified above"
   ]
  },
  {
   "cell_type": "code",
   "execution_count": 46,
   "metadata": {
    "pycharm": {
     "name": "#%%\n"
    }
   },
   "outputs": [],
   "source": [
    "is_jaw_dropping = lambda ratings: any([r.lower()=='jaw-dropping' for r in ratings])\n",
    "\n",
    "ted['jaw_dropping'] = ted.top3_ratings.apply(is_jaw_dropping)"
   ]
  },
  {
   "cell_type": "markdown",
   "metadata": {
    "pycharm": {
     "name": "#%% md\n"
    }
   },
   "source": [
    "Note the selection based on a condition expressed as a function of column (top3_ratings) values"
   ]
  },
  {
   "cell_type": "markdown",
   "metadata": {
    "pycharm": {
     "name": "#%% md\n"
    }
   },
   "source": [
    "Take a sample of jaw dropping talks and check that 'Jaw-dropping' is really among the top 3 ratings"
   ]
  },
  {
   "cell_type": "code",
   "execution_count": 47,
   "metadata": {
    "pycharm": {
     "name": "#%%\n"
    }
   },
   "outputs": [
    {
     "data": {
      "text/plain": "                                  top3_ratings\n1063   (Jaw-dropping, Fascinating, Courageous)\n1649     (Inspiring, Courageous, Jaw-dropping)\n4     (Informative, Fascinating, Jaw-dropping)\n583   (Fascinating, Informative, Jaw-dropping)\n1292    (Fascinating, Jaw-dropping, Inspiring)\n1742   (Informative, Persuasive, Jaw-dropping)\n228    (Informative, Persuasive, Jaw-dropping)\n1286  (Informative, Fascinating, Jaw-dropping)\n230     (Fascinating, Inspiring, Jaw-dropping)\n215     (Ingenious, Jaw-dropping, Fascinating)",
      "text/html": "<div>\n<style scoped>\n    .dataframe tbody tr th:only-of-type {\n        vertical-align: middle;\n    }\n\n    .dataframe tbody tr th {\n        vertical-align: top;\n    }\n\n    .dataframe thead th {\n        text-align: right;\n    }\n</style>\n<table border=\"1\" class=\"dataframe\">\n  <thead>\n    <tr style=\"text-align: right;\">\n      <th></th>\n      <th>top3_ratings</th>\n    </tr>\n  </thead>\n  <tbody>\n    <tr>\n      <th>1063</th>\n      <td>(Jaw-dropping, Fascinating, Courageous)</td>\n    </tr>\n    <tr>\n      <th>1649</th>\n      <td>(Inspiring, Courageous, Jaw-dropping)</td>\n    </tr>\n    <tr>\n      <th>4</th>\n      <td>(Informative, Fascinating, Jaw-dropping)</td>\n    </tr>\n    <tr>\n      <th>583</th>\n      <td>(Fascinating, Informative, Jaw-dropping)</td>\n    </tr>\n    <tr>\n      <th>1292</th>\n      <td>(Fascinating, Jaw-dropping, Inspiring)</td>\n    </tr>\n    <tr>\n      <th>1742</th>\n      <td>(Informative, Persuasive, Jaw-dropping)</td>\n    </tr>\n    <tr>\n      <th>228</th>\n      <td>(Informative, Persuasive, Jaw-dropping)</td>\n    </tr>\n    <tr>\n      <th>1286</th>\n      <td>(Informative, Fascinating, Jaw-dropping)</td>\n    </tr>\n    <tr>\n      <th>230</th>\n      <td>(Fascinating, Inspiring, Jaw-dropping)</td>\n    </tr>\n    <tr>\n      <th>215</th>\n      <td>(Ingenious, Jaw-dropping, Fascinating)</td>\n    </tr>\n  </tbody>\n</table>\n</div>"
     },
     "execution_count": 47,
     "metadata": {},
     "output_type": "execute_result"
    }
   ],
   "source": [
    "ted.loc[ted.jaw_dropping, ['top3_ratings']].sample(10)"
   ]
  },
  {
   "cell_type": "markdown",
   "metadata": {
    "pycharm": {
     "name": "#%% md\n"
    }
   },
   "source": [
    "To answer the posed question, we can now simply group talks per event and compute the sum and mean of the jaw_dropping column - this will give as the number and proportion, respectively, of jaw-dropping talks per event"
   ]
  },
  {
   "cell_type": "code",
   "execution_count": 48,
   "metadata": {
    "pycharm": {
     "name": "#%%\n"
    }
   },
   "outputs": [
    {
     "data": {
      "text/plain": "                        sum      mean\nevent                                \nTED2007                  17  0.250000\nTED2009                  16  0.192771\nTED2013                  14  0.181818\nTED2008                  11  0.192982\nTED2011                  10  0.142857\n...                     ...       ...\nTEDxABQ                   0  0.000000\nTEDYouth 2015             0  0.000000\nTEDYouth 2014             0  0.000000\nTEDYouth 2013             0  0.000000\nWorld Science Festival    0  0.000000\n\n[355 rows x 2 columns]",
      "text/html": "<div>\n<style scoped>\n    .dataframe tbody tr th:only-of-type {\n        vertical-align: middle;\n    }\n\n    .dataframe tbody tr th {\n        vertical-align: top;\n    }\n\n    .dataframe thead th {\n        text-align: right;\n    }\n</style>\n<table border=\"1\" class=\"dataframe\">\n  <thead>\n    <tr style=\"text-align: right;\">\n      <th></th>\n      <th>sum</th>\n      <th>mean</th>\n    </tr>\n    <tr>\n      <th>event</th>\n      <th></th>\n      <th></th>\n    </tr>\n  </thead>\n  <tbody>\n    <tr>\n      <th>TED2007</th>\n      <td>17</td>\n      <td>0.250000</td>\n    </tr>\n    <tr>\n      <th>TED2009</th>\n      <td>16</td>\n      <td>0.192771</td>\n    </tr>\n    <tr>\n      <th>TED2013</th>\n      <td>14</td>\n      <td>0.181818</td>\n    </tr>\n    <tr>\n      <th>TED2008</th>\n      <td>11</td>\n      <td>0.192982</td>\n    </tr>\n    <tr>\n      <th>TED2011</th>\n      <td>10</td>\n      <td>0.142857</td>\n    </tr>\n    <tr>\n      <th>...</th>\n      <td>...</td>\n      <td>...</td>\n    </tr>\n    <tr>\n      <th>TEDxABQ</th>\n      <td>0</td>\n      <td>0.000000</td>\n    </tr>\n    <tr>\n      <th>TEDYouth 2015</th>\n      <td>0</td>\n      <td>0.000000</td>\n    </tr>\n    <tr>\n      <th>TEDYouth 2014</th>\n      <td>0</td>\n      <td>0.000000</td>\n    </tr>\n    <tr>\n      <th>TEDYouth 2013</th>\n      <td>0</td>\n      <td>0.000000</td>\n    </tr>\n    <tr>\n      <th>World Science Festival</th>\n      <td>0</td>\n      <td>0.000000</td>\n    </tr>\n  </tbody>\n</table>\n<p>355 rows × 2 columns</p>\n</div>"
     },
     "execution_count": 48,
     "metadata": {},
     "output_type": "execute_result"
    }
   ],
   "source": [
    "ted.groupby('event').jaw_dropping.agg(['sum', 'mean']).sort_values(by=\"sum\", ascending=False)"
   ]
  },
  {
   "cell_type": "markdown",
   "metadata": {
    "pycharm": {
     "name": "#%% md\n"
    }
   },
   "source": [
    "### Task 3.3 Compute the number of positive, negative, and neutral ratings, then add one column for each of these counts\n",
    "\n",
    "This practically means that we should add 3 columns - pos_ratings, neg_ratings, neutral_ratings - with the corresponding rating counts."
   ]
  },
  {
   "cell_type": "markdown",
   "metadata": {
    "pycharm": {
     "name": "#%% md\n"
    }
   },
   "source": [
    "We will achieve this through a multistep process:\n",
    "\n",
    "1) Identify different kinds of rating categories that have been used to characterise talks and classify them as positive, negative, or neutral\n",
    "\n",
    "2) Create a function for computing the number of ratings in each of the 3 groups (positive, negative, neutral)\n",
    "\n",
    "3) Add a column - ratings_counts - storing the computed values as tuples of the form (pos_ratings, neg_ratings, neutral_ratings)\n",
    "\n",
    "4) Transform the ratings_counts column into 3 columns: pos_ratings, neg_ratings, neutral_ratings "
   ]
  },
  {
   "cell_type": "markdown",
   "metadata": {
    "pycharm": {
     "name": "#%% md\n"
    }
   },
   "source": [
    "**Step 1.1**: Identify different kinds of rating categories and store them a set (e.g. rating_categories_set)"
   ]
  },
  {
   "cell_type": "code",
   "execution_count": 49,
   "metadata": {
    "pycharm": {
     "name": "#%%\n"
    }
   },
   "outputs": [
    {
     "data": {
      "text/plain": "[{'id': 7, 'name': 'Funny', 'count': 19645},\n {'id': 1, 'name': 'Beautiful', 'count': 4573},\n {'id': 9, 'name': 'Ingenious', 'count': 6073},\n {'id': 3, 'name': 'Courageous', 'count': 3253},\n {'id': 11, 'name': 'Longwinded', 'count': 387},\n {'id': 2, 'name': 'Confusing', 'count': 242},\n {'id': 8, 'name': 'Informative', 'count': 7346},\n {'id': 22, 'name': 'Fascinating', 'count': 10581},\n {'id': 21, 'name': 'Unconvincing', 'count': 300},\n {'id': 24, 'name': 'Persuasive', 'count': 10704},\n {'id': 23, 'name': 'Jaw-dropping', 'count': 4439},\n {'id': 25, 'name': 'OK', 'count': 1174},\n {'id': 26, 'name': 'Obnoxious', 'count': 209},\n {'id': 10, 'name': 'Inspiring', 'count': 24924}]"
     },
     "execution_count": 49,
     "metadata": {},
     "output_type": "execute_result"
    }
   ],
   "source": [
    "ted.ratings_list[0]"
   ]
  },
  {
   "cell_type": "code",
   "execution_count": 50,
   "metadata": {
    "pycharm": {
     "name": "#%%\n"
    }
   },
   "outputs": [
    {
     "data": {
      "text/plain": "{'Beautiful',\n 'Confusing',\n 'Courageous',\n 'Fascinating',\n 'Funny',\n 'Informative',\n 'Ingenious',\n 'Inspiring',\n 'Jaw-dropping',\n 'Longwinded',\n 'OK',\n 'Obnoxious',\n 'Persuasive',\n 'Unconvincing'}"
     },
     "execution_count": 50,
     "metadata": {},
     "output_type": "execute_result"
    }
   ],
   "source": [
    "rating_categories_set = set()\n",
    "for ratings in ted.ratings_list:\n",
    "    for rating_dict in ratings:\n",
    "        rating_categories_set.add(rating_dict['name'])\n",
    "\n",
    "rating_categories_set"
   ]
  },
  {
   "cell_type": "markdown",
   "metadata": {
    "pycharm": {
     "name": "#%% md\n"
    }
   },
   "source": [
    "**Step 1.2**: Classify rating categories as positive, negative, or neutral"
   ]
  },
  {
   "cell_type": "code",
   "execution_count": 51,
   "metadata": {
    "pycharm": {
     "name": "#%%\n"
    }
   },
   "outputs": [],
   "source": [
    "negative = {'Confusing','Longwinded', 'Obnoxious', 'Unconvincing'}\n",
    "neutral = {'OK'}\n",
    "positive = rating_categories_set - (negative | neutral)"
   ]
  },
  {
   "cell_type": "code",
   "execution_count": 52,
   "metadata": {
    "pycharm": {
     "name": "#%%\n"
    }
   },
   "outputs": [
    {
     "data": {
      "text/plain": "{'Beautiful',\n 'Courageous',\n 'Fascinating',\n 'Funny',\n 'Informative',\n 'Ingenious',\n 'Inspiring',\n 'Jaw-dropping',\n 'Persuasive'}"
     },
     "execution_count": 52,
     "metadata": {},
     "output_type": "execute_result"
    }
   ],
   "source": [
    "positive"
   ]
  },
  {
   "cell_type": "code",
   "execution_count": 53,
   "metadata": {
    "pycharm": {
     "name": "#%%\n"
    }
   },
   "outputs": [
    {
     "data": {
      "text/plain": "True"
     },
     "execution_count": 53,
     "metadata": {},
     "output_type": "execute_result"
    }
   ],
   "source": [
    "(positive | neutral | negative) == rating_categories_set"
   ]
  },
  {
   "cell_type": "markdown",
   "metadata": {
    "pycharm": {
     "name": "#%% md\n"
    }
   },
   "source": [
    "**Step 2**: Create a function that computes the number of ratings in each of the 3 classes and returns the result as a tuple of the form: (positive, negative, neutral)"
   ]
  },
  {
   "cell_type": "code",
   "execution_count": 54,
   "metadata": {
    "pycharm": {
     "name": "#%%\n"
    }
   },
   "outputs": [],
   "source": [
    "def pos_neg_neutral_ratings_count(ratings):\n",
    "    from collections import defaultdict\n",
    "    counts_dict = defaultdict(int)\n",
    "    for rating in ratings:\n",
    "        if rating['name'] in positive:\n",
    "            counts_dict['positive'] += rating['count']\n",
    "        elif rating['name'] in negative:\n",
    "            counts_dict['negative'] += rating['count']\n",
    "        else:\n",
    "            counts_dict['neutral'] += rating['count']\n",
    "    return tuple(counts_dict.values())"
   ]
  },
  {
   "cell_type": "code",
   "execution_count": 55,
   "metadata": {
    "pycharm": {
     "name": "#%%\n"
    }
   },
   "outputs": [
    {
     "data": {
      "text/plain": "(91538, 1138, 1174)"
     },
     "execution_count": 55,
     "metadata": {},
     "output_type": "execute_result"
    }
   ],
   "source": [
    "pos_neg_neutral_ratings_count(ted.ratings_list[0])"
   ]
  },
  {
   "cell_type": "markdown",
   "metadata": {
    "pycharm": {
     "name": "#%% md\n"
    }
   },
   "source": [
    "**Step 3**: Add a column - *ratings_counts* - storing the output of the above function applied to the `ratings` column"
   ]
  },
  {
   "cell_type": "code",
   "execution_count": 56,
   "metadata": {
    "pycharm": {
     "name": "#%%\n"
    }
   },
   "outputs": [],
   "source": [
    "ted['ratings_counts'] = ted.ratings_list.apply(pos_neg_neutral_ratings_count)"
   ]
  },
  {
   "cell_type": "code",
   "execution_count": 57,
   "metadata": {
    "pycharm": {
     "name": "#%%\n"
    }
   },
   "outputs": [
    {
     "data": {
      "text/plain": "   comment_count                                        description  duration  \\\n0           4553  Sir Ken Robinson makes an entertaining and pro...      1164   \n1            265  With the same humor and humanity he exuded in ...       977   \n2            124  New York Times columnist David Pogue takes aim...      1286   \n\n     event  languages  main_speaker  \\\n0  TED2006         60  Ken Robinson   \n1  TED2006         43       Al Gore   \n2  TED2006         26   David Pogue   \n\n                                        name  num_speaker  \\\n0  Ken Robinson: Do schools kill creativity?            1   \n1       Al Gore: Averting the climate crisis            1   \n2              David Pogue: Simplicity sells            1   \n\n                                             ratings  \\\n0  [{'id': 7, 'name': 'Funny', 'count': 19645}, {...   \n1  [{'id': 7, 'name': 'Funny', 'count': 544}, {'i...   \n2  [{'id': 7, 'name': 'Funny', 'count': 964}, {'i...   \n\n                                       related_talks  ...  \\\n0  [{'id': 865, 'hero': 'https://pe.tedcdn.com/im...  ...   \n1  [{'id': 243, 'hero': 'https://pe.tedcdn.com/im...  ...   \n2  [{'id': 1725, 'hero': 'https://pe.tedcdn.com/i...  ...   \n\n                         title  \\\n0  Do schools kill creativity?   \n1  Averting the climate crisis   \n2             Simplicity sells   \n\n                                                 url view_count filming_date  \\\n0  https://www.ted.com/talks/ken_robinson_says_sc...   47227110   2006-02-25   \n1  https://www.ted.com/talks/al_gore_on_averting_...    3200520   2006-02-25   \n2  https://www.ted.com/talks/david_pogue_says_sim...    1636292   2006-02-24   \n\n     publication_date event_year  \\\n0 2006-06-27 00:11:00       2006   \n1 2006-06-27 00:11:00       2006   \n2 2006-06-27 00:11:00       2006   \n\n                                        ratings_list  \\\n0  [{'id': 7, 'name': 'Funny', 'count': 19645}, {...   \n1  [{'id': 7, 'name': 'Funny', 'count': 544}, {'i...   \n2  [{'id': 7, 'name': 'Funny', 'count': 964}, {'i...   \n\n                      top3_ratings jaw_dropping       ratings_counts  \n0   (Inspiring, Funny, Persuasive)        False  (91538, 1138, 1174)  \n1  (Funny, Informative, Inspiring)        False     (2169, 564, 203)  \n2  (Funny, Informative, Inspiring)        False     (2327, 351, 146)  \n\n[3 rows x 22 columns]",
      "text/html": "<div>\n<style scoped>\n    .dataframe tbody tr th:only-of-type {\n        vertical-align: middle;\n    }\n\n    .dataframe tbody tr th {\n        vertical-align: top;\n    }\n\n    .dataframe thead th {\n        text-align: right;\n    }\n</style>\n<table border=\"1\" class=\"dataframe\">\n  <thead>\n    <tr style=\"text-align: right;\">\n      <th></th>\n      <th>comment_count</th>\n      <th>description</th>\n      <th>duration</th>\n      <th>event</th>\n      <th>languages</th>\n      <th>main_speaker</th>\n      <th>name</th>\n      <th>num_speaker</th>\n      <th>ratings</th>\n      <th>related_talks</th>\n      <th>...</th>\n      <th>title</th>\n      <th>url</th>\n      <th>view_count</th>\n      <th>filming_date</th>\n      <th>publication_date</th>\n      <th>event_year</th>\n      <th>ratings_list</th>\n      <th>top3_ratings</th>\n      <th>jaw_dropping</th>\n      <th>ratings_counts</th>\n    </tr>\n  </thead>\n  <tbody>\n    <tr>\n      <th>0</th>\n      <td>4553</td>\n      <td>Sir Ken Robinson makes an entertaining and pro...</td>\n      <td>1164</td>\n      <td>TED2006</td>\n      <td>60</td>\n      <td>Ken Robinson</td>\n      <td>Ken Robinson: Do schools kill creativity?</td>\n      <td>1</td>\n      <td>[{'id': 7, 'name': 'Funny', 'count': 19645}, {...</td>\n      <td>[{'id': 865, 'hero': 'https://pe.tedcdn.com/im...</td>\n      <td>...</td>\n      <td>Do schools kill creativity?</td>\n      <td>https://www.ted.com/talks/ken_robinson_says_sc...</td>\n      <td>47227110</td>\n      <td>2006-02-25</td>\n      <td>2006-06-27 00:11:00</td>\n      <td>2006</td>\n      <td>[{'id': 7, 'name': 'Funny', 'count': 19645}, {...</td>\n      <td>(Inspiring, Funny, Persuasive)</td>\n      <td>False</td>\n      <td>(91538, 1138, 1174)</td>\n    </tr>\n    <tr>\n      <th>1</th>\n      <td>265</td>\n      <td>With the same humor and humanity he exuded in ...</td>\n      <td>977</td>\n      <td>TED2006</td>\n      <td>43</td>\n      <td>Al Gore</td>\n      <td>Al Gore: Averting the climate crisis</td>\n      <td>1</td>\n      <td>[{'id': 7, 'name': 'Funny', 'count': 544}, {'i...</td>\n      <td>[{'id': 243, 'hero': 'https://pe.tedcdn.com/im...</td>\n      <td>...</td>\n      <td>Averting the climate crisis</td>\n      <td>https://www.ted.com/talks/al_gore_on_averting_...</td>\n      <td>3200520</td>\n      <td>2006-02-25</td>\n      <td>2006-06-27 00:11:00</td>\n      <td>2006</td>\n      <td>[{'id': 7, 'name': 'Funny', 'count': 544}, {'i...</td>\n      <td>(Funny, Informative, Inspiring)</td>\n      <td>False</td>\n      <td>(2169, 564, 203)</td>\n    </tr>\n    <tr>\n      <th>2</th>\n      <td>124</td>\n      <td>New York Times columnist David Pogue takes aim...</td>\n      <td>1286</td>\n      <td>TED2006</td>\n      <td>26</td>\n      <td>David Pogue</td>\n      <td>David Pogue: Simplicity sells</td>\n      <td>1</td>\n      <td>[{'id': 7, 'name': 'Funny', 'count': 964}, {'i...</td>\n      <td>[{'id': 1725, 'hero': 'https://pe.tedcdn.com/i...</td>\n      <td>...</td>\n      <td>Simplicity sells</td>\n      <td>https://www.ted.com/talks/david_pogue_says_sim...</td>\n      <td>1636292</td>\n      <td>2006-02-24</td>\n      <td>2006-06-27 00:11:00</td>\n      <td>2006</td>\n      <td>[{'id': 7, 'name': 'Funny', 'count': 964}, {'i...</td>\n      <td>(Funny, Informative, Inspiring)</td>\n      <td>False</td>\n      <td>(2327, 351, 146)</td>\n    </tr>\n  </tbody>\n</table>\n<p>3 rows × 22 columns</p>\n</div>"
     },
     "execution_count": 57,
     "metadata": {},
     "output_type": "execute_result"
    }
   ],
   "source": [
    "ted.head(3)"
   ]
  },
  {
   "cell_type": "markdown",
   "metadata": {
    "pycharm": {
     "name": "#%% md\n"
    }
   },
   "source": [
    "**Step 4.1**: Transform the *ratings_counts* column into a data frame with 3 columns: pos_ratings, neg_ratings, neutral_ratings\n",
    "\n",
    "To that end, we can `apply()` the Series constructor on the *ratings_counts* column"
   ]
  },
  {
   "cell_type": "code",
   "execution_count": 58,
   "metadata": {
    "pycharm": {
     "name": "#%%\n"
    }
   },
   "outputs": [
    {
     "data": {
      "text/plain": "       0     1     2\n0  91538  1138  1174\n1   2169   564   203\n2   2327   351   146\n3   3487   156    85\n4  25062   310   248",
      "text/html": "<div>\n<style scoped>\n    .dataframe tbody tr th:only-of-type {\n        vertical-align: middle;\n    }\n\n    .dataframe tbody tr th {\n        vertical-align: top;\n    }\n\n    .dataframe thead th {\n        text-align: right;\n    }\n</style>\n<table border=\"1\" class=\"dataframe\">\n  <thead>\n    <tr style=\"text-align: right;\">\n      <th></th>\n      <th>0</th>\n      <th>1</th>\n      <th>2</th>\n    </tr>\n  </thead>\n  <tbody>\n    <tr>\n      <th>0</th>\n      <td>91538</td>\n      <td>1138</td>\n      <td>1174</td>\n    </tr>\n    <tr>\n      <th>1</th>\n      <td>2169</td>\n      <td>564</td>\n      <td>203</td>\n    </tr>\n    <tr>\n      <th>2</th>\n      <td>2327</td>\n      <td>351</td>\n      <td>146</td>\n    </tr>\n    <tr>\n      <th>3</th>\n      <td>3487</td>\n      <td>156</td>\n      <td>85</td>\n    </tr>\n    <tr>\n      <th>4</th>\n      <td>25062</td>\n      <td>310</td>\n      <td>248</td>\n    </tr>\n  </tbody>\n</table>\n</div>"
     },
     "execution_count": 58,
     "metadata": {},
     "output_type": "execute_result"
    }
   ],
   "source": [
    "ted_ratings = ted.ratings_counts.apply(pd.Series)\n",
    "ted_ratings.head()"
   ]
  },
  {
   "cell_type": "code",
   "execution_count": 59,
   "metadata": {
    "pycharm": {
     "name": "#%%\n"
    }
   },
   "outputs": [
    {
     "data": {
      "text/plain": "   pos_ratings  neg_ratings  neutral_ratings\n0        91538         1138             1174\n1         2169          564              203\n2         2327          351              146\n3         3487          156               85\n4        25062          310              248",
      "text/html": "<div>\n<style scoped>\n    .dataframe tbody tr th:only-of-type {\n        vertical-align: middle;\n    }\n\n    .dataframe tbody tr th {\n        vertical-align: top;\n    }\n\n    .dataframe thead th {\n        text-align: right;\n    }\n</style>\n<table border=\"1\" class=\"dataframe\">\n  <thead>\n    <tr style=\"text-align: right;\">\n      <th></th>\n      <th>pos_ratings</th>\n      <th>neg_ratings</th>\n      <th>neutral_ratings</th>\n    </tr>\n  </thead>\n  <tbody>\n    <tr>\n      <th>0</th>\n      <td>91538</td>\n      <td>1138</td>\n      <td>1174</td>\n    </tr>\n    <tr>\n      <th>1</th>\n      <td>2169</td>\n      <td>564</td>\n      <td>203</td>\n    </tr>\n    <tr>\n      <th>2</th>\n      <td>2327</td>\n      <td>351</td>\n      <td>146</td>\n    </tr>\n    <tr>\n      <th>3</th>\n      <td>3487</td>\n      <td>156</td>\n      <td>85</td>\n    </tr>\n    <tr>\n      <th>4</th>\n      <td>25062</td>\n      <td>310</td>\n      <td>248</td>\n    </tr>\n  </tbody>\n</table>\n</div>"
     },
     "execution_count": 59,
     "metadata": {},
     "output_type": "execute_result"
    }
   ],
   "source": [
    "ted_ratings.columns = ['pos_ratings', 'neg_ratings', 'neutral_ratings']\n",
    "ted_ratings.head()"
   ]
  },
  {
   "cell_type": "markdown",
   "metadata": {
    "pycharm": {
     "name": "#%% md\n"
    }
   },
   "source": [
    "**Step 4.2**: Merge this new data frame with the original one (ted); this can be done using the `concat()` function. The auxiliary column - ratings_counts - can be dropped as it is no longer needed"
   ]
  },
  {
   "cell_type": "code",
   "execution_count": 60,
   "metadata": {
    "pycharm": {
     "name": "#%%\n"
    }
   },
   "outputs": [],
   "source": [
    "ted.drop(columns='ratings_counts', inplace=True)"
   ]
  },
  {
   "cell_type": "code",
   "execution_count": 61,
   "metadata": {
    "pycharm": {
     "name": "#%%\n"
    }
   },
   "outputs": [],
   "source": [
    "ted = pd.concat([ted, ted_ratings], axis=1)"
   ]
  },
  {
   "cell_type": "code",
   "execution_count": 62,
   "metadata": {
    "pycharm": {
     "name": "#%%\n"
    }
   },
   "outputs": [
    {
     "data": {
      "text/plain": "   comment_count                                        description  duration  \\\n0           4553  Sir Ken Robinson makes an entertaining and pro...      1164   \n1            265  With the same humor and humanity he exuded in ...       977   \n2            124  New York Times columnist David Pogue takes aim...      1286   \n3            200  In an emotionally charged talk, MacArthur-winn...      1116   \n4            593  You've never seen data presented like this. Wi...      1190   \n\n     event  languages   main_speaker  \\\n0  TED2006         60   Ken Robinson   \n1  TED2006         43        Al Gore   \n2  TED2006         26    David Pogue   \n3  TED2006         35  Majora Carter   \n4  TED2006         48   Hans Rosling   \n\n                                            name  num_speaker  \\\n0      Ken Robinson: Do schools kill creativity?            1   \n1           Al Gore: Averting the climate crisis            1   \n2                  David Pogue: Simplicity sells            1   \n3             Majora Carter: Greening the ghetto            1   \n4  Hans Rosling: The best stats you've ever seen            1   \n\n                                             ratings  \\\n0  [{'id': 7, 'name': 'Funny', 'count': 19645}, {...   \n1  [{'id': 7, 'name': 'Funny', 'count': 544}, {'i...   \n2  [{'id': 7, 'name': 'Funny', 'count': 964}, {'i...   \n3  [{'id': 3, 'name': 'Courageous', 'count': 760}...   \n4  [{'id': 9, 'name': 'Ingenious', 'count': 3202}...   \n\n                                       related_talks  ... view_count  \\\n0  [{'id': 865, 'hero': 'https://pe.tedcdn.com/im...  ...   47227110   \n1  [{'id': 243, 'hero': 'https://pe.tedcdn.com/im...  ...    3200520   \n2  [{'id': 1725, 'hero': 'https://pe.tedcdn.com/i...  ...    1636292   \n3  [{'id': 1041, 'hero': 'https://pe.tedcdn.com/i...  ...    1697550   \n4  [{'id': 2056, 'hero': 'https://pe.tedcdn.com/i...  ...   12005869   \n\n  filming_date    publication_date event_year  \\\n0   2006-02-25 2006-06-27 00:11:00       2006   \n1   2006-02-25 2006-06-27 00:11:00       2006   \n2   2006-02-24 2006-06-27 00:11:00       2006   \n3   2006-02-26 2006-06-27 00:11:00       2006   \n4   2006-02-22 2006-06-27 20:38:00       2006   \n\n                                        ratings_list  \\\n0  [{'id': 7, 'name': 'Funny', 'count': 19645}, {...   \n1  [{'id': 7, 'name': 'Funny', 'count': 544}, {'i...   \n2  [{'id': 7, 'name': 'Funny', 'count': 964}, {'i...   \n3  [{'id': 3, 'name': 'Courageous', 'count': 760}...   \n4  [{'id': 9, 'name': 'Ingenious', 'count': 3202}...   \n\n                               top3_ratings jaw_dropping  pos_ratings  \\\n0            (Inspiring, Funny, Persuasive)        False        91538   \n1           (Funny, Informative, Inspiring)        False         2169   \n2           (Funny, Informative, Inspiring)        False         2327   \n3       (Inspiring, Courageous, Persuasive)        False         3487   \n4  (Informative, Fascinating, Jaw-dropping)         True        25062   \n\n  neg_ratings neutral_ratings  \n0        1138            1174  \n1         564             203  \n2         351             146  \n3         156              85  \n4         310             248  \n\n[5 rows x 24 columns]",
      "text/html": "<div>\n<style scoped>\n    .dataframe tbody tr th:only-of-type {\n        vertical-align: middle;\n    }\n\n    .dataframe tbody tr th {\n        vertical-align: top;\n    }\n\n    .dataframe thead th {\n        text-align: right;\n    }\n</style>\n<table border=\"1\" class=\"dataframe\">\n  <thead>\n    <tr style=\"text-align: right;\">\n      <th></th>\n      <th>comment_count</th>\n      <th>description</th>\n      <th>duration</th>\n      <th>event</th>\n      <th>languages</th>\n      <th>main_speaker</th>\n      <th>name</th>\n      <th>num_speaker</th>\n      <th>ratings</th>\n      <th>related_talks</th>\n      <th>...</th>\n      <th>view_count</th>\n      <th>filming_date</th>\n      <th>publication_date</th>\n      <th>event_year</th>\n      <th>ratings_list</th>\n      <th>top3_ratings</th>\n      <th>jaw_dropping</th>\n      <th>pos_ratings</th>\n      <th>neg_ratings</th>\n      <th>neutral_ratings</th>\n    </tr>\n  </thead>\n  <tbody>\n    <tr>\n      <th>0</th>\n      <td>4553</td>\n      <td>Sir Ken Robinson makes an entertaining and pro...</td>\n      <td>1164</td>\n      <td>TED2006</td>\n      <td>60</td>\n      <td>Ken Robinson</td>\n      <td>Ken Robinson: Do schools kill creativity?</td>\n      <td>1</td>\n      <td>[{'id': 7, 'name': 'Funny', 'count': 19645}, {...</td>\n      <td>[{'id': 865, 'hero': 'https://pe.tedcdn.com/im...</td>\n      <td>...</td>\n      <td>47227110</td>\n      <td>2006-02-25</td>\n      <td>2006-06-27 00:11:00</td>\n      <td>2006</td>\n      <td>[{'id': 7, 'name': 'Funny', 'count': 19645}, {...</td>\n      <td>(Inspiring, Funny, Persuasive)</td>\n      <td>False</td>\n      <td>91538</td>\n      <td>1138</td>\n      <td>1174</td>\n    </tr>\n    <tr>\n      <th>1</th>\n      <td>265</td>\n      <td>With the same humor and humanity he exuded in ...</td>\n      <td>977</td>\n      <td>TED2006</td>\n      <td>43</td>\n      <td>Al Gore</td>\n      <td>Al Gore: Averting the climate crisis</td>\n      <td>1</td>\n      <td>[{'id': 7, 'name': 'Funny', 'count': 544}, {'i...</td>\n      <td>[{'id': 243, 'hero': 'https://pe.tedcdn.com/im...</td>\n      <td>...</td>\n      <td>3200520</td>\n      <td>2006-02-25</td>\n      <td>2006-06-27 00:11:00</td>\n      <td>2006</td>\n      <td>[{'id': 7, 'name': 'Funny', 'count': 544}, {'i...</td>\n      <td>(Funny, Informative, Inspiring)</td>\n      <td>False</td>\n      <td>2169</td>\n      <td>564</td>\n      <td>203</td>\n    </tr>\n    <tr>\n      <th>2</th>\n      <td>124</td>\n      <td>New York Times columnist David Pogue takes aim...</td>\n      <td>1286</td>\n      <td>TED2006</td>\n      <td>26</td>\n      <td>David Pogue</td>\n      <td>David Pogue: Simplicity sells</td>\n      <td>1</td>\n      <td>[{'id': 7, 'name': 'Funny', 'count': 964}, {'i...</td>\n      <td>[{'id': 1725, 'hero': 'https://pe.tedcdn.com/i...</td>\n      <td>...</td>\n      <td>1636292</td>\n      <td>2006-02-24</td>\n      <td>2006-06-27 00:11:00</td>\n      <td>2006</td>\n      <td>[{'id': 7, 'name': 'Funny', 'count': 964}, {'i...</td>\n      <td>(Funny, Informative, Inspiring)</td>\n      <td>False</td>\n      <td>2327</td>\n      <td>351</td>\n      <td>146</td>\n    </tr>\n    <tr>\n      <th>3</th>\n      <td>200</td>\n      <td>In an emotionally charged talk, MacArthur-winn...</td>\n      <td>1116</td>\n      <td>TED2006</td>\n      <td>35</td>\n      <td>Majora Carter</td>\n      <td>Majora Carter: Greening the ghetto</td>\n      <td>1</td>\n      <td>[{'id': 3, 'name': 'Courageous', 'count': 760}...</td>\n      <td>[{'id': 1041, 'hero': 'https://pe.tedcdn.com/i...</td>\n      <td>...</td>\n      <td>1697550</td>\n      <td>2006-02-26</td>\n      <td>2006-06-27 00:11:00</td>\n      <td>2006</td>\n      <td>[{'id': 3, 'name': 'Courageous', 'count': 760}...</td>\n      <td>(Inspiring, Courageous, Persuasive)</td>\n      <td>False</td>\n      <td>3487</td>\n      <td>156</td>\n      <td>85</td>\n    </tr>\n    <tr>\n      <th>4</th>\n      <td>593</td>\n      <td>You've never seen data presented like this. Wi...</td>\n      <td>1190</td>\n      <td>TED2006</td>\n      <td>48</td>\n      <td>Hans Rosling</td>\n      <td>Hans Rosling: The best stats you've ever seen</td>\n      <td>1</td>\n      <td>[{'id': 9, 'name': 'Ingenious', 'count': 3202}...</td>\n      <td>[{'id': 2056, 'hero': 'https://pe.tedcdn.com/i...</td>\n      <td>...</td>\n      <td>12005869</td>\n      <td>2006-02-22</td>\n      <td>2006-06-27 20:38:00</td>\n      <td>2006</td>\n      <td>[{'id': 9, 'name': 'Ingenious', 'count': 3202}...</td>\n      <td>(Informative, Fascinating, Jaw-dropping)</td>\n      <td>True</td>\n      <td>25062</td>\n      <td>310</td>\n      <td>248</td>\n    </tr>\n  </tbody>\n</table>\n<p>5 rows × 24 columns</p>\n</div>"
     },
     "execution_count": 62,
     "metadata": {},
     "output_type": "execute_result"
    }
   ],
   "source": [
    "ted.head()"
   ]
  },
  {
   "cell_type": "markdown",
   "metadata": {
    "pycharm": {
     "name": "#%% md\n"
    }
   },
   "source": [
    "### Task 3.4 Find speakers with the highest average number of positive ratings per talk"
   ]
  },
  {
   "cell_type": "markdown",
   "metadata": {
    "pycharm": {
     "name": "#%% md\n"
    }
   },
   "source": [
    "We need to group talks based on the 'main_speaker' column and, for each group, compute mean value of the pos_ratings column"
   ]
  },
  {
   "cell_type": "code",
   "execution_count": 63,
   "metadata": {
    "pycharm": {
     "name": "#%%\n"
    }
   },
   "outputs": [],
   "source": [
    "avg_pos_rating_per_speaker = ted.groupby('main_speaker').pos_ratings.mean()"
   ]
  },
  {
   "cell_type": "code",
   "execution_count": 64,
   "metadata": {
    "pycharm": {
     "name": "#%%\n"
    }
   },
   "outputs": [
    {
     "data": {
      "text/plain": "main_speaker\nJill Bolte Taylor    68436.00\nAmy Cuddy            63814.00\nSteve Jobs           36664.00\nBrené Brown          36572.00\nShawn Achor          31692.00\nKen Robinson         30361.75\nSusan Cain           29095.00\nPranav Mistry        26292.00\nGuy Winch            24204.00\nBenjamin Zander      23300.00\nName: pos_ratings, dtype: float64"
     },
     "execution_count": 64,
     "metadata": {},
     "output_type": "execute_result"
    }
   ],
   "source": [
    "avg_pos_rating_per_speaker.sort_values(ascending=False).head(10)"
   ]
  },
  {
   "cell_type": "markdown",
   "metadata": {
    "pycharm": {
     "name": "#%% md\n"
    }
   },
   "source": [
    "To answer this more thoroughly, we'll consider also the number of talks that a speaker gave"
   ]
  },
  {
   "cell_type": "code",
   "execution_count": 65,
   "metadata": {
    "pycharm": {
     "name": "#%%\n"
    }
   },
   "outputs": [
    {
     "data": {
      "text/plain": "                       mean  count\nmain_speaker                      \n OK Go                 43.0      1\n Rodrigo y Gabriela  1103.0      1\n Silk Road Ensemble   149.0      1\n Sofi Tukker           18.0      1\nAJ Jacobs            1705.0      3\nAakash Odedra         752.0      1\nAala El-Khani         690.0      1",
      "text/html": "<div>\n<style scoped>\n    .dataframe tbody tr th:only-of-type {\n        vertical-align: middle;\n    }\n\n    .dataframe tbody tr th {\n        vertical-align: top;\n    }\n\n    .dataframe thead th {\n        text-align: right;\n    }\n</style>\n<table border=\"1\" class=\"dataframe\">\n  <thead>\n    <tr style=\"text-align: right;\">\n      <th></th>\n      <th>mean</th>\n      <th>count</th>\n    </tr>\n    <tr>\n      <th>main_speaker</th>\n      <th></th>\n      <th></th>\n    </tr>\n  </thead>\n  <tbody>\n    <tr>\n      <th>OK Go</th>\n      <td>43.0</td>\n      <td>1</td>\n    </tr>\n    <tr>\n      <th>Rodrigo y Gabriela</th>\n      <td>1103.0</td>\n      <td>1</td>\n    </tr>\n    <tr>\n      <th>Silk Road Ensemble</th>\n      <td>149.0</td>\n      <td>1</td>\n    </tr>\n    <tr>\n      <th>Sofi Tukker</th>\n      <td>18.0</td>\n      <td>1</td>\n    </tr>\n    <tr>\n      <th>AJ Jacobs</th>\n      <td>1705.0</td>\n      <td>3</td>\n    </tr>\n    <tr>\n      <th>Aakash Odedra</th>\n      <td>752.0</td>\n      <td>1</td>\n    </tr>\n    <tr>\n      <th>Aala El-Khani</th>\n      <td>690.0</td>\n      <td>1</td>\n    </tr>\n  </tbody>\n</table>\n</div>"
     },
     "execution_count": 65,
     "metadata": {},
     "output_type": "execute_result"
    }
   ],
   "source": [
    "avg_pos_rating_per_speaker = ted.groupby('main_speaker').pos_ratings.agg(['mean', 'count'])\n",
    "avg_pos_rating_per_speaker.head(7)"
   ]
  },
  {
   "cell_type": "code",
   "execution_count": 66,
   "metadata": {
    "pycharm": {
     "name": "#%%\n"
    }
   },
   "outputs": [
    {
     "data": {
      "text/plain": "                   avg_pos_rating  talk_count\nmain_speaker                                 \nJill Bolte Taylor        68436.00           1\nAmy Cuddy                63814.00           1\nSteve Jobs               36664.00           1\nBrené Brown              36572.00           2\nShawn Achor              31692.00           1\nKen Robinson             30361.75           4\nSusan Cain               29095.00           1\nPranav Mistry            26292.00           1\nGuy Winch                24204.00           1\nBenjamin Zander          23300.00           1",
      "text/html": "<div>\n<style scoped>\n    .dataframe tbody tr th:only-of-type {\n        vertical-align: middle;\n    }\n\n    .dataframe tbody tr th {\n        vertical-align: top;\n    }\n\n    .dataframe thead th {\n        text-align: right;\n    }\n</style>\n<table border=\"1\" class=\"dataframe\">\n  <thead>\n    <tr style=\"text-align: right;\">\n      <th></th>\n      <th>avg_pos_rating</th>\n      <th>talk_count</th>\n    </tr>\n    <tr>\n      <th>main_speaker</th>\n      <th></th>\n      <th></th>\n    </tr>\n  </thead>\n  <tbody>\n    <tr>\n      <th>Jill Bolte Taylor</th>\n      <td>68436.00</td>\n      <td>1</td>\n    </tr>\n    <tr>\n      <th>Amy Cuddy</th>\n      <td>63814.00</td>\n      <td>1</td>\n    </tr>\n    <tr>\n      <th>Steve Jobs</th>\n      <td>36664.00</td>\n      <td>1</td>\n    </tr>\n    <tr>\n      <th>Brené Brown</th>\n      <td>36572.00</td>\n      <td>2</td>\n    </tr>\n    <tr>\n      <th>Shawn Achor</th>\n      <td>31692.00</td>\n      <td>1</td>\n    </tr>\n    <tr>\n      <th>Ken Robinson</th>\n      <td>30361.75</td>\n      <td>4</td>\n    </tr>\n    <tr>\n      <th>Susan Cain</th>\n      <td>29095.00</td>\n      <td>1</td>\n    </tr>\n    <tr>\n      <th>Pranav Mistry</th>\n      <td>26292.00</td>\n      <td>1</td>\n    </tr>\n    <tr>\n      <th>Guy Winch</th>\n      <td>24204.00</td>\n      <td>1</td>\n    </tr>\n    <tr>\n      <th>Benjamin Zander</th>\n      <td>23300.00</td>\n      <td>1</td>\n    </tr>\n  </tbody>\n</table>\n</div>"
     },
     "execution_count": 66,
     "metadata": {},
     "output_type": "execute_result"
    }
   ],
   "source": [
    "avg_pos_rating_per_speaker.columns = ['avg_pos_rating', 'talk_count']\n",
    "avg_pos_rating_per_speaker.sort_values(by='avg_pos_rating', ascending=False).head(10)"
   ]
  },
  {
   "cell_type": "markdown",
   "metadata": {
    "pycharm": {
     "name": "#%% md\n"
    }
   },
   "source": [
    "Identify the top 10 speakers among those who gave more than 1 talk"
   ]
  },
  {
   "cell_type": "code",
   "execution_count": 67,
   "metadata": {
    "pycharm": {
     "name": "#%%\n"
    }
   },
   "outputs": [
    {
     "data": {
      "text/plain": "                          avg_pos_rating  talk_count\nmain_speaker                                        \nBrené Brown                 36572.000000           2\nKen Robinson                30361.750000           4\nChimamanda Ngozi Adichie    15429.000000           2\nElizabeth Gilbert           14049.500000           2\nDavid Gallo                 10895.333333           3\nEsther Perel                 9948.500000           2\nDan Gilbert                  9529.000000           3\nAndrew Solomon               9261.666667           3\nSarah Kay                    8997.500000           2\nSimon Sinek                  8967.000000           2",
      "text/html": "<div>\n<style scoped>\n    .dataframe tbody tr th:only-of-type {\n        vertical-align: middle;\n    }\n\n    .dataframe tbody tr th {\n        vertical-align: top;\n    }\n\n    .dataframe thead th {\n        text-align: right;\n    }\n</style>\n<table border=\"1\" class=\"dataframe\">\n  <thead>\n    <tr style=\"text-align: right;\">\n      <th></th>\n      <th>avg_pos_rating</th>\n      <th>talk_count</th>\n    </tr>\n    <tr>\n      <th>main_speaker</th>\n      <th></th>\n      <th></th>\n    </tr>\n  </thead>\n  <tbody>\n    <tr>\n      <th>Brené Brown</th>\n      <td>36572.000000</td>\n      <td>2</td>\n    </tr>\n    <tr>\n      <th>Ken Robinson</th>\n      <td>30361.750000</td>\n      <td>4</td>\n    </tr>\n    <tr>\n      <th>Chimamanda Ngozi Adichie</th>\n      <td>15429.000000</td>\n      <td>2</td>\n    </tr>\n    <tr>\n      <th>Elizabeth Gilbert</th>\n      <td>14049.500000</td>\n      <td>2</td>\n    </tr>\n    <tr>\n      <th>David Gallo</th>\n      <td>10895.333333</td>\n      <td>3</td>\n    </tr>\n    <tr>\n      <th>Esther Perel</th>\n      <td>9948.500000</td>\n      <td>2</td>\n    </tr>\n    <tr>\n      <th>Dan Gilbert</th>\n      <td>9529.000000</td>\n      <td>3</td>\n    </tr>\n    <tr>\n      <th>Andrew Solomon</th>\n      <td>9261.666667</td>\n      <td>3</td>\n    </tr>\n    <tr>\n      <th>Sarah Kay</th>\n      <td>8997.500000</td>\n      <td>2</td>\n    </tr>\n    <tr>\n      <th>Simon Sinek</th>\n      <td>8967.000000</td>\n      <td>2</td>\n    </tr>\n  </tbody>\n</table>\n</div>"
     },
     "execution_count": 67,
     "metadata": {},
     "output_type": "execute_result"
    }
   ],
   "source": [
    "freq_speakers = avg_pos_rating_per_speaker.loc[avg_pos_rating_per_speaker.talk_count > 1]\n",
    "freq_speakers.sort_values(by='avg_pos_rating', ascending=False).head(10)"
   ]
  },
  {
   "cell_type": "markdown",
   "metadata": {
    "pycharm": {
     "name": "#%% md\n"
    }
   },
   "source": [
    "### Task 3.5 Identify 10 speakers with the largest proportion of negative ratings "
   ]
  },
  {
   "cell_type": "markdown",
   "metadata": {
    "pycharm": {
     "name": "#%% md\n"
    }
   },
   "source": [
    "Start by computing the proportion of negative ratings for all the talks"
   ]
  },
  {
   "cell_type": "code",
   "execution_count": 68,
   "metadata": {
    "pycharm": {
     "name": "#%%\n"
    }
   },
   "outputs": [],
   "source": [
    "ted['prop_neg_ratings'] = ted.neg_ratings / (ted.neg_ratings + ted.pos_ratings + ted.neutral_ratings)"
   ]
  },
  {
   "cell_type": "markdown",
   "metadata": {
    "pycharm": {
     "name": "#%% md\n"
    }
   },
   "source": [
    "Group talks by the main_speaker and, for each group (that is, speaker), compute the average proportion of negative ratings and number of talks"
   ]
  },
  {
   "cell_type": "code",
   "execution_count": 69,
   "metadata": {
    "pycharm": {
     "name": "#%%\n"
    }
   },
   "outputs": [
    {
     "data": {
      "text/plain": "                                    mean  count\nmain_speaker                                   \nChristopher \"moot\" Poole\"       0.080000      1\nRicardo Semler                  0.011053      1\nAdam Sadowsky                   0.051724      1\nMariana Mazzucato               0.754058      1\nDavid Grady                     0.828074      1\nRick Falkvinge                  0.075972      1\nAndreas Ekström                 0.036335      1\nLarry Smith                     0.873375      1\nCarlo Ratti                     0.111671      1\nGary Lauder's new traffic sign  0.053345      1",
      "text/html": "<div>\n<style scoped>\n    .dataframe tbody tr th:only-of-type {\n        vertical-align: middle;\n    }\n\n    .dataframe tbody tr th {\n        vertical-align: top;\n    }\n\n    .dataframe thead th {\n        text-align: right;\n    }\n</style>\n<table border=\"1\" class=\"dataframe\">\n  <thead>\n    <tr style=\"text-align: right;\">\n      <th></th>\n      <th>mean</th>\n      <th>count</th>\n    </tr>\n    <tr>\n      <th>main_speaker</th>\n      <th></th>\n      <th></th>\n    </tr>\n  </thead>\n  <tbody>\n    <tr>\n      <th>Christopher \"moot\" Poole\"</th>\n      <td>0.080000</td>\n      <td>1</td>\n    </tr>\n    <tr>\n      <th>Ricardo Semler</th>\n      <td>0.011053</td>\n      <td>1</td>\n    </tr>\n    <tr>\n      <th>Adam Sadowsky</th>\n      <td>0.051724</td>\n      <td>1</td>\n    </tr>\n    <tr>\n      <th>Mariana Mazzucato</th>\n      <td>0.754058</td>\n      <td>1</td>\n    </tr>\n    <tr>\n      <th>David Grady</th>\n      <td>0.828074</td>\n      <td>1</td>\n    </tr>\n    <tr>\n      <th>Rick Falkvinge</th>\n      <td>0.075972</td>\n      <td>1</td>\n    </tr>\n    <tr>\n      <th>Andreas Ekström</th>\n      <td>0.036335</td>\n      <td>1</td>\n    </tr>\n    <tr>\n      <th>Larry Smith</th>\n      <td>0.873375</td>\n      <td>1</td>\n    </tr>\n    <tr>\n      <th>Carlo Ratti</th>\n      <td>0.111671</td>\n      <td>1</td>\n    </tr>\n    <tr>\n      <th>Gary Lauder's new traffic sign</th>\n      <td>0.053345</td>\n      <td>1</td>\n    </tr>\n  </tbody>\n</table>\n</div>"
     },
     "execution_count": 69,
     "metadata": {},
     "output_type": "execute_result"
    }
   ],
   "source": [
    "prop_neg_rating_per_speaker = ted.groupby('main_speaker').prop_neg_ratings.agg(['mean', 'count'])\n",
    "prop_neg_rating_per_speaker.sample(10)"
   ]
  },
  {
   "cell_type": "code",
   "execution_count": 70,
   "metadata": {
    "pycharm": {
     "name": "#%%\n"
    }
   },
   "outputs": [
    {
     "data": {
      "text/plain": "                  avg_prop_neg_ratings  talk_count\nmain_speaker                                      \nJK Rowling                    0.977841           1\nChristopher Bell              0.969025           1\nEd Yong                       0.968276           1\nAndres Lozano                 0.968137           1\nDaan Roosegaarde              0.965812           1\nMaurice Conti                 0.963050           1\nTheo E.J. Wilson              0.962264           1\nNeil Harbisson                0.959244           1\nSandrine Thuret               0.958036           1\nBrian Little                  0.950907           1",
      "text/html": "<div>\n<style scoped>\n    .dataframe tbody tr th:only-of-type {\n        vertical-align: middle;\n    }\n\n    .dataframe tbody tr th {\n        vertical-align: top;\n    }\n\n    .dataframe thead th {\n        text-align: right;\n    }\n</style>\n<table border=\"1\" class=\"dataframe\">\n  <thead>\n    <tr style=\"text-align: right;\">\n      <th></th>\n      <th>avg_prop_neg_ratings</th>\n      <th>talk_count</th>\n    </tr>\n    <tr>\n      <th>main_speaker</th>\n      <th></th>\n      <th></th>\n    </tr>\n  </thead>\n  <tbody>\n    <tr>\n      <th>JK Rowling</th>\n      <td>0.977841</td>\n      <td>1</td>\n    </tr>\n    <tr>\n      <th>Christopher Bell</th>\n      <td>0.969025</td>\n      <td>1</td>\n    </tr>\n    <tr>\n      <th>Ed Yong</th>\n      <td>0.968276</td>\n      <td>1</td>\n    </tr>\n    <tr>\n      <th>Andres Lozano</th>\n      <td>0.968137</td>\n      <td>1</td>\n    </tr>\n    <tr>\n      <th>Daan Roosegaarde</th>\n      <td>0.965812</td>\n      <td>1</td>\n    </tr>\n    <tr>\n      <th>Maurice Conti</th>\n      <td>0.963050</td>\n      <td>1</td>\n    </tr>\n    <tr>\n      <th>Theo E.J. Wilson</th>\n      <td>0.962264</td>\n      <td>1</td>\n    </tr>\n    <tr>\n      <th>Neil Harbisson</th>\n      <td>0.959244</td>\n      <td>1</td>\n    </tr>\n    <tr>\n      <th>Sandrine Thuret</th>\n      <td>0.958036</td>\n      <td>1</td>\n    </tr>\n    <tr>\n      <th>Brian Little</th>\n      <td>0.950907</td>\n      <td>1</td>\n    </tr>\n  </tbody>\n</table>\n</div>"
     },
     "execution_count": 70,
     "metadata": {},
     "output_type": "execute_result"
    }
   ],
   "source": [
    "prop_neg_rating_per_speaker.columns = ['avg_prop_neg_ratings', 'talk_count']\n",
    "prop_neg_rating_per_speaker.sort_values(by='avg_prop_neg_ratings', ascending=False).head(10)"
   ]
  },
  {
   "cell_type": "markdown",
   "metadata": {
    "pycharm": {
     "name": "#%% md\n"
    }
   },
   "source": [
    "Maybe those with one talk just had a bad day or were not experienced enough... \n",
    "So, let's focus on speakers with 3+ talks"
   ]
  },
  {
   "cell_type": "code",
   "execution_count": 71,
   "metadata": {
    "pycharm": {
     "name": "#%%\n"
    }
   },
   "outputs": [
    {
     "data": {
      "text/plain": "                      avg_prop_neg_ratings  talk_count\nmain_speaker                                          \nSteven Johnson                    0.410903           4\nStefan Sagmeister                 0.299194           4\nChris Anderson                    0.278482           4\nKen Robinson                      0.255495           4\nJonathan Haidt                    0.251055           4\nStewart Brand                     0.237354           4\nBill Gates                        0.232409           5\nRives                             0.211085           6\nJacqueline Novogratz              0.207155           5\nJulian Treasure                   0.193004           5",
      "text/html": "<div>\n<style scoped>\n    .dataframe tbody tr th:only-of-type {\n        vertical-align: middle;\n    }\n\n    .dataframe tbody tr th {\n        vertical-align: top;\n    }\n\n    .dataframe thead th {\n        text-align: right;\n    }\n</style>\n<table border=\"1\" class=\"dataframe\">\n  <thead>\n    <tr style=\"text-align: right;\">\n      <th></th>\n      <th>avg_prop_neg_ratings</th>\n      <th>talk_count</th>\n    </tr>\n    <tr>\n      <th>main_speaker</th>\n      <th></th>\n      <th></th>\n    </tr>\n  </thead>\n  <tbody>\n    <tr>\n      <th>Steven Johnson</th>\n      <td>0.410903</td>\n      <td>4</td>\n    </tr>\n    <tr>\n      <th>Stefan Sagmeister</th>\n      <td>0.299194</td>\n      <td>4</td>\n    </tr>\n    <tr>\n      <th>Chris Anderson</th>\n      <td>0.278482</td>\n      <td>4</td>\n    </tr>\n    <tr>\n      <th>Ken Robinson</th>\n      <td>0.255495</td>\n      <td>4</td>\n    </tr>\n    <tr>\n      <th>Jonathan Haidt</th>\n      <td>0.251055</td>\n      <td>4</td>\n    </tr>\n    <tr>\n      <th>Stewart Brand</th>\n      <td>0.237354</td>\n      <td>4</td>\n    </tr>\n    <tr>\n      <th>Bill Gates</th>\n      <td>0.232409</td>\n      <td>5</td>\n    </tr>\n    <tr>\n      <th>Rives</th>\n      <td>0.211085</td>\n      <td>6</td>\n    </tr>\n    <tr>\n      <th>Jacqueline Novogratz</th>\n      <td>0.207155</td>\n      <td>5</td>\n    </tr>\n    <tr>\n      <th>Julian Treasure</th>\n      <td>0.193004</td>\n      <td>5</td>\n    </tr>\n  </tbody>\n</table>\n</div>"
     },
     "execution_count": 71,
     "metadata": {},
     "output_type": "execute_result"
    }
   ],
   "source": [
    "neg_rating_freq_speaker = prop_neg_rating_per_speaker[prop_neg_rating_per_speaker.talk_count > 3]\n",
    "neg_rating_freq_speaker.sort_values(by='avg_prop_neg_ratings', ascending=False).head(10)"
   ]
  },
  {
   "cell_type": "markdown",
   "metadata": {
    "pycharm": {
     "name": "#%% md\n"
    }
   },
   "source": [
    "It seems that those who gave more talks have lower proportion of negative ratings "
   ]
  },
  {
   "cell_type": "markdown",
   "metadata": {
    "pycharm": {
     "name": "#%% md\n"
    }
   },
   "source": [
    "### Task 3.6 Which occupations deliver the funniest TED talks on average?\n",
    "\n",
    "(Consider also how well represented occupations are)"
   ]
  },
  {
   "cell_type": "markdown",
   "metadata": {
    "pycharm": {
     "name": "#%% md\n"
    }
   },
   "source": [
    "We'll start by computing the number of Funny ratings per talk and storing the results in the (new) column 'funny_counts'"
   ]
  },
  {
   "cell_type": "code",
   "execution_count": 72,
   "metadata": {
    "pycharm": {
     "name": "#%%\n"
    }
   },
   "outputs": [],
   "source": [
    "ted['funny_counts'] = ted.ratings_list.apply(lambda ratings: sum(rating['count'] for rating in ratings if rating['name'].lower() == 'funny'))"
   ]
  },
  {
   "cell_type": "code",
   "execution_count": 73,
   "metadata": {
    "pycharm": {
     "name": "#%%\n"
    }
   },
   "outputs": [
    {
     "data": {
      "text/plain": "                                        ratings_list  funny_counts\n0  [{'id': 7, 'name': 'Funny', 'count': 19645}, {...         19645\n1  [{'id': 7, 'name': 'Funny', 'count': 544}, {'i...           544\n2  [{'id': 7, 'name': 'Funny', 'count': 964}, {'i...           964\n3  [{'id': 3, 'name': 'Courageous', 'count': 760}...            59",
      "text/html": "<div>\n<style scoped>\n    .dataframe tbody tr th:only-of-type {\n        vertical-align: middle;\n    }\n\n    .dataframe tbody tr th {\n        vertical-align: top;\n    }\n\n    .dataframe thead th {\n        text-align: right;\n    }\n</style>\n<table border=\"1\" class=\"dataframe\">\n  <thead>\n    <tr style=\"text-align: right;\">\n      <th></th>\n      <th>ratings_list</th>\n      <th>funny_counts</th>\n    </tr>\n  </thead>\n  <tbody>\n    <tr>\n      <th>0</th>\n      <td>[{'id': 7, 'name': 'Funny', 'count': 19645}, {...</td>\n      <td>19645</td>\n    </tr>\n    <tr>\n      <th>1</th>\n      <td>[{'id': 7, 'name': 'Funny', 'count': 544}, {'i...</td>\n      <td>544</td>\n    </tr>\n    <tr>\n      <th>2</th>\n      <td>[{'id': 7, 'name': 'Funny', 'count': 964}, {'i...</td>\n      <td>964</td>\n    </tr>\n    <tr>\n      <th>3</th>\n      <td>[{'id': 3, 'name': 'Courageous', 'count': 760}...</td>\n      <td>59</td>\n    </tr>\n  </tbody>\n</table>\n</div>"
     },
     "execution_count": 73,
     "metadata": {},
     "output_type": "execute_result"
    }
   ],
   "source": [
    "ted.loc[:,['ratings_list', 'funny_counts']].head(4)"
   ]
  },
  {
   "cell_type": "markdown",
   "metadata": {
    "pycharm": {
     "name": "#%% md\n"
    }
   },
   "source": [
    "This may be fine, but absolute values tend to be misleading - it is often better to take relative values, that is, proportions. <br>\n",
    "Therefore, instead of considering the funniest those talk with the highest absolute values of Funny ratings, better choose talks with the highest *proportion* of Funny ratings."
   ]
  },
  {
   "cell_type": "code",
   "execution_count": 74,
   "metadata": {
    "pycharm": {
     "name": "#%%\n"
    }
   },
   "outputs": [],
   "source": [
    "def funny_ratings_prop(ratings_list):\n",
    "    funny_ratings_cnt = 0\n",
    "    ratings_total = 0\n",
    "    for rating_dict in ratings_list:\n",
    "        ratings_total += rating_dict['count']\n",
    "        if rating_dict['name'] == 'Funny': funny_ratings_cnt += rating_dict['count']\n",
    "    return funny_ratings_cnt/ratings_total"
   ]
  },
  {
   "cell_type": "code",
   "execution_count": 75,
   "metadata": {
    "pycharm": {
     "name": "#%%\n"
    }
   },
   "outputs": [
    {
     "data": {
      "text/plain": "0    0.209323\n1    0.185286\n2    0.341360\n3    0.015826\n4    0.054254\nName: funny_prop, dtype: float64"
     },
     "execution_count": 75,
     "metadata": {},
     "output_type": "execute_result"
    }
   ],
   "source": [
    "ted['funny_prop'] = ted.funny_counts / (ted.pos_ratings + ted.neg_ratings + ted.neutral_ratings)\n",
    "ted['funny_prop'].head()"
   ]
  },
  {
   "cell_type": "markdown",
   "metadata": {
    "pycharm": {
     "name": "#%% md\n"
    }
   },
   "source": [
    "Let's examine absolute and relative counts of the top 10 fanniest talks based on the absolute counts. <br>(the idea is to see the difference of absolute vs relative counts)"
   ]
  },
  {
   "cell_type": "code",
   "execution_count": 76,
   "metadata": {
    "pycharm": {
     "name": "#%%\n"
    }
   },
   "outputs": [
    {
     "data": {
      "text/plain": "      funny_counts  funny_prop\n0            19645    0.209323\n2114          7731    0.625182\n2161          7445    0.333722\n1129          7315    0.227315\n675           5552    0.527406\n837           5225    0.086970\n452           4166    0.369556\n685           4025    0.702076\n747           4013    0.630677\n692           3000    0.139593",
      "text/html": "<div>\n<style scoped>\n    .dataframe tbody tr th:only-of-type {\n        vertical-align: middle;\n    }\n\n    .dataframe tbody tr th {\n        vertical-align: top;\n    }\n\n    .dataframe thead th {\n        text-align: right;\n    }\n</style>\n<table border=\"1\" class=\"dataframe\">\n  <thead>\n    <tr style=\"text-align: right;\">\n      <th></th>\n      <th>funny_counts</th>\n      <th>funny_prop</th>\n    </tr>\n  </thead>\n  <tbody>\n    <tr>\n      <th>0</th>\n      <td>19645</td>\n      <td>0.209323</td>\n    </tr>\n    <tr>\n      <th>2114</th>\n      <td>7731</td>\n      <td>0.625182</td>\n    </tr>\n    <tr>\n      <th>2161</th>\n      <td>7445</td>\n      <td>0.333722</td>\n    </tr>\n    <tr>\n      <th>1129</th>\n      <td>7315</td>\n      <td>0.227315</td>\n    </tr>\n    <tr>\n      <th>675</th>\n      <td>5552</td>\n      <td>0.527406</td>\n    </tr>\n    <tr>\n      <th>837</th>\n      <td>5225</td>\n      <td>0.086970</td>\n    </tr>\n    <tr>\n      <th>452</th>\n      <td>4166</td>\n      <td>0.369556</td>\n    </tr>\n    <tr>\n      <th>685</th>\n      <td>4025</td>\n      <td>0.702076</td>\n    </tr>\n    <tr>\n      <th>747</th>\n      <td>4013</td>\n      <td>0.630677</td>\n    </tr>\n    <tr>\n      <th>692</th>\n      <td>3000</td>\n      <td>0.139593</td>\n    </tr>\n  </tbody>\n</table>\n</div>"
     },
     "execution_count": 76,
     "metadata": {},
     "output_type": "execute_result"
    }
   ],
   "source": [
    "ted.loc[:, ['funny_counts', 'funny_prop']].sort_values(by='funny_counts', ascending=False).head(10)"
   ]
  },
  {
   "cell_type": "markdown",
   "metadata": {
    "pycharm": {
     "name": "#%% md\n"
    }
   },
   "source": [
    "Next, do the grouping based on the speaker_occupation and compute, for each group (i.e., each occupation), average counts and proportions of Funny ratings"
   ]
  },
  {
   "cell_type": "code",
   "execution_count": 77,
   "metadata": {
    "pycharm": {
     "name": "#%%\n"
    }
   },
   "outputs": [
    {
     "data": {
      "text/plain": "                                             funny_counts  funny_prop\nspeaker_occupation                                                   \n Chairman of the Cordoba Initiative                   0.0    0.000000\n Child protection leader, activist, author            1.0    0.002421\n Robotics engineer                                    1.0    0.007353\n Space physicist                                     19.0    0.015447\n3D printer                                           18.0    0.007789\n...                                                   ...         ...\ne-Patient                                            21.0    0.014374\ninventor, engineer                                   21.0    0.011745\nmedical inventor                                      8.0    0.002993\nphotographer + visual artist                        310.0    0.236461\nphysicist                                            13.0    0.017105\n\n[1458 rows x 2 columns]",
      "text/html": "<div>\n<style scoped>\n    .dataframe tbody tr th:only-of-type {\n        vertical-align: middle;\n    }\n\n    .dataframe tbody tr th {\n        vertical-align: top;\n    }\n\n    .dataframe thead th {\n        text-align: right;\n    }\n</style>\n<table border=\"1\" class=\"dataframe\">\n  <thead>\n    <tr style=\"text-align: right;\">\n      <th></th>\n      <th>funny_counts</th>\n      <th>funny_prop</th>\n    </tr>\n    <tr>\n      <th>speaker_occupation</th>\n      <th></th>\n      <th></th>\n    </tr>\n  </thead>\n  <tbody>\n    <tr>\n      <th>Chairman of the Cordoba Initiative</th>\n      <td>0.0</td>\n      <td>0.000000</td>\n    </tr>\n    <tr>\n      <th>Child protection leader, activist, author</th>\n      <td>1.0</td>\n      <td>0.002421</td>\n    </tr>\n    <tr>\n      <th>Robotics engineer</th>\n      <td>1.0</td>\n      <td>0.007353</td>\n    </tr>\n    <tr>\n      <th>Space physicist</th>\n      <td>19.0</td>\n      <td>0.015447</td>\n    </tr>\n    <tr>\n      <th>3D printer</th>\n      <td>18.0</td>\n      <td>0.007789</td>\n    </tr>\n    <tr>\n      <th>...</th>\n      <td>...</td>\n      <td>...</td>\n    </tr>\n    <tr>\n      <th>e-Patient</th>\n      <td>21.0</td>\n      <td>0.014374</td>\n    </tr>\n    <tr>\n      <th>inventor, engineer</th>\n      <td>21.0</td>\n      <td>0.011745</td>\n    </tr>\n    <tr>\n      <th>medical inventor</th>\n      <td>8.0</td>\n      <td>0.002993</td>\n    </tr>\n    <tr>\n      <th>photographer + visual artist</th>\n      <td>310.0</td>\n      <td>0.236461</td>\n    </tr>\n    <tr>\n      <th>physicist</th>\n      <td>13.0</td>\n      <td>0.017105</td>\n    </tr>\n  </tbody>\n</table>\n<p>1458 rows × 2 columns</p>\n</div>"
     },
     "execution_count": 77,
     "metadata": {},
     "output_type": "execute_result"
    }
   ],
   "source": [
    "avg_fr_per_occupation = ted.groupby('speaker_occupation')[['funny_counts', 'funny_prop']].mean()\n",
    "avg_fr_per_occupation"
   ]
  },
  {
   "cell_type": "markdown",
   "metadata": {
    "pycharm": {
     "name": "#%% md\n"
    }
   },
   "source": [
    "Take the top 10 occupations based on the average count of Funny ratings"
   ]
  },
  {
   "cell_type": "code",
   "execution_count": 78,
   "metadata": {
    "pycharm": {
     "name": "#%%\n"
    }
   },
   "outputs": [
    {
     "data": {
      "text/plain": "                                                funny_counts  funny_prop\nspeaker_occupation                                                      \nAuthor/educator                                       6190.0    0.142086\nComedian and writer                                   4970.5    0.602085\nBlogger                                               3773.0    0.196885\nActor, comedian, playwright                           3254.5    0.558107\nVulnerability researcher                              3088.0    0.075958\nComedian and writer                                   2779.0    0.256887\nProfessor of Economics, University of Waterloo        1960.0    0.152541\nGentleman thief                                       1864.0    0.242456\nAuthor, blogger, entrepreneur                         1856.0    0.193777\nComedian                                              1839.0    0.512457",
      "text/html": "<div>\n<style scoped>\n    .dataframe tbody tr th:only-of-type {\n        vertical-align: middle;\n    }\n\n    .dataframe tbody tr th {\n        vertical-align: top;\n    }\n\n    .dataframe thead th {\n        text-align: right;\n    }\n</style>\n<table border=\"1\" class=\"dataframe\">\n  <thead>\n    <tr style=\"text-align: right;\">\n      <th></th>\n      <th>funny_counts</th>\n      <th>funny_prop</th>\n    </tr>\n    <tr>\n      <th>speaker_occupation</th>\n      <th></th>\n      <th></th>\n    </tr>\n  </thead>\n  <tbody>\n    <tr>\n      <th>Author/educator</th>\n      <td>6190.0</td>\n      <td>0.142086</td>\n    </tr>\n    <tr>\n      <th>Comedian and writer</th>\n      <td>4970.5</td>\n      <td>0.602085</td>\n    </tr>\n    <tr>\n      <th>Blogger</th>\n      <td>3773.0</td>\n      <td>0.196885</td>\n    </tr>\n    <tr>\n      <th>Actor, comedian, playwright</th>\n      <td>3254.5</td>\n      <td>0.558107</td>\n    </tr>\n    <tr>\n      <th>Vulnerability researcher</th>\n      <td>3088.0</td>\n      <td>0.075958</td>\n    </tr>\n    <tr>\n      <th>Comedian and writer</th>\n      <td>2779.0</td>\n      <td>0.256887</td>\n    </tr>\n    <tr>\n      <th>Professor of Economics, University of Waterloo</th>\n      <td>1960.0</td>\n      <td>0.152541</td>\n    </tr>\n    <tr>\n      <th>Gentleman thief</th>\n      <td>1864.0</td>\n      <td>0.242456</td>\n    </tr>\n    <tr>\n      <th>Author, blogger, entrepreneur</th>\n      <td>1856.0</td>\n      <td>0.193777</td>\n    </tr>\n    <tr>\n      <th>Comedian</th>\n      <td>1839.0</td>\n      <td>0.512457</td>\n    </tr>\n  </tbody>\n</table>\n</div>"
     },
     "execution_count": 78,
     "metadata": {},
     "output_type": "execute_result"
    }
   ],
   "source": [
    "avg_fr_per_occupation.sort_values(by='funny_counts', ascending=False).head(10)"
   ]
  },
  {
   "cell_type": "markdown",
   "metadata": {
    "pycharm": {
     "name": "#%% md\n"
    }
   },
   "source": [
    "Now, do the same, but using average proportion of Funny ratings as the criterion"
   ]
  },
  {
   "cell_type": "code",
   "execution_count": 79,
   "metadata": {
    "pycharm": {
     "name": "#%%\n"
    }
   },
   "outputs": [
    {
     "data": {
      "text/plain": "                             funny_counts  funny_prop\nspeaker_occupation                                   \nComedian and writer                4970.5    0.602085\nJugglers                           1637.0    0.566828\nActor, comedian, playwright        3254.5    0.558107\nActor, writer                       374.0    0.515152\nComedian                           1839.0    0.512457\nSatirist                            600.0    0.512383\nCartoon editor                      616.0    0.511628\nComedian, voice artist              782.0    0.503542\nSocial energy entrepreneur         1423.0    0.502117\nScience humorist                    934.0    0.468405",
      "text/html": "<div>\n<style scoped>\n    .dataframe tbody tr th:only-of-type {\n        vertical-align: middle;\n    }\n\n    .dataframe tbody tr th {\n        vertical-align: top;\n    }\n\n    .dataframe thead th {\n        text-align: right;\n    }\n</style>\n<table border=\"1\" class=\"dataframe\">\n  <thead>\n    <tr style=\"text-align: right;\">\n      <th></th>\n      <th>funny_counts</th>\n      <th>funny_prop</th>\n    </tr>\n    <tr>\n      <th>speaker_occupation</th>\n      <th></th>\n      <th></th>\n    </tr>\n  </thead>\n  <tbody>\n    <tr>\n      <th>Comedian and writer</th>\n      <td>4970.5</td>\n      <td>0.602085</td>\n    </tr>\n    <tr>\n      <th>Jugglers</th>\n      <td>1637.0</td>\n      <td>0.566828</td>\n    </tr>\n    <tr>\n      <th>Actor, comedian, playwright</th>\n      <td>3254.5</td>\n      <td>0.558107</td>\n    </tr>\n    <tr>\n      <th>Actor, writer</th>\n      <td>374.0</td>\n      <td>0.515152</td>\n    </tr>\n    <tr>\n      <th>Comedian</th>\n      <td>1839.0</td>\n      <td>0.512457</td>\n    </tr>\n    <tr>\n      <th>Satirist</th>\n      <td>600.0</td>\n      <td>0.512383</td>\n    </tr>\n    <tr>\n      <th>Cartoon editor</th>\n      <td>616.0</td>\n      <td>0.511628</td>\n    </tr>\n    <tr>\n      <th>Comedian, voice artist</th>\n      <td>782.0</td>\n      <td>0.503542</td>\n    </tr>\n    <tr>\n      <th>Social energy entrepreneur</th>\n      <td>1423.0</td>\n      <td>0.502117</td>\n    </tr>\n    <tr>\n      <th>Science humorist</th>\n      <td>934.0</td>\n      <td>0.468405</td>\n    </tr>\n  </tbody>\n</table>\n</div>"
     },
     "execution_count": 79,
     "metadata": {},
     "output_type": "execute_result"
    }
   ],
   "source": [
    "avg_fr_per_occupation.sort_values(by='funny_prop', ascending=False).head(10)"
   ]
  },
  {
   "cell_type": "markdown",
   "metadata": {
    "pycharm": {
     "name": "#%% md\n"
    }
   },
   "source": [
    "It seems that relative values serve as the better criterion for selecting occupations that delivered the funniest talks. So, we'll continue with the `funny_ratings_prop` values.<br>\n",
    "\n",
    "Note that some occupations sound rather exotic and unique (e.g. \"Gentleman thief\", \"Science humorist\"). Let's also consider both the proportion of funny ratings and frequency of different occupations."
   ]
  },
  {
   "cell_type": "code",
   "execution_count": 80,
   "metadata": {
    "pycharm": {
     "name": "#%%\n"
    }
   },
   "outputs": [
    {
     "data": {
      "text/plain": "                                                 mean  count\nspeaker_occupation                                          \n Chairman of the Cordoba Initiative          0.000000      1\n Child protection leader, activist, author   0.002421      1\n Robotics engineer                           0.007353      1\n Space physicist                             0.015447      1\n3D printer                                   0.007789      1\n3D printing entrepreneur                     0.006599      1\n9/11 mothers                                 0.001733      1\nA capella ensemble                           0.035811      1\nAI expert                                    0.080183      2\nAI pioneer                                   0.144628      1",
      "text/html": "<div>\n<style scoped>\n    .dataframe tbody tr th:only-of-type {\n        vertical-align: middle;\n    }\n\n    .dataframe tbody tr th {\n        vertical-align: top;\n    }\n\n    .dataframe thead th {\n        text-align: right;\n    }\n</style>\n<table border=\"1\" class=\"dataframe\">\n  <thead>\n    <tr style=\"text-align: right;\">\n      <th></th>\n      <th>mean</th>\n      <th>count</th>\n    </tr>\n    <tr>\n      <th>speaker_occupation</th>\n      <th></th>\n      <th></th>\n    </tr>\n  </thead>\n  <tbody>\n    <tr>\n      <th>Chairman of the Cordoba Initiative</th>\n      <td>0.000000</td>\n      <td>1</td>\n    </tr>\n    <tr>\n      <th>Child protection leader, activist, author</th>\n      <td>0.002421</td>\n      <td>1</td>\n    </tr>\n    <tr>\n      <th>Robotics engineer</th>\n      <td>0.007353</td>\n      <td>1</td>\n    </tr>\n    <tr>\n      <th>Space physicist</th>\n      <td>0.015447</td>\n      <td>1</td>\n    </tr>\n    <tr>\n      <th>3D printer</th>\n      <td>0.007789</td>\n      <td>1</td>\n    </tr>\n    <tr>\n      <th>3D printing entrepreneur</th>\n      <td>0.006599</td>\n      <td>1</td>\n    </tr>\n    <tr>\n      <th>9/11 mothers</th>\n      <td>0.001733</td>\n      <td>1</td>\n    </tr>\n    <tr>\n      <th>A capella ensemble</th>\n      <td>0.035811</td>\n      <td>1</td>\n    </tr>\n    <tr>\n      <th>AI expert</th>\n      <td>0.080183</td>\n      <td>2</td>\n    </tr>\n    <tr>\n      <th>AI pioneer</th>\n      <td>0.144628</td>\n      <td>1</td>\n    </tr>\n  </tbody>\n</table>\n</div>"
     },
     "execution_count": 80,
     "metadata": {},
     "output_type": "execute_result"
    }
   ],
   "source": [
    "occupation_funny_ratings = ted.groupby('speaker_occupation')['funny_prop'].agg(['mean', 'count'])\n",
    "occupation_funny_ratings.head(10)"
   ]
  },
  {
   "cell_type": "code",
   "execution_count": 81,
   "metadata": {
    "pycharm": {
     "name": "#%%\n"
    }
   },
   "outputs": [],
   "source": [
    "occupation_funny_ratings.columns = [\"mean_prop_funny_ratings\", \"occupation_freq\"]"
   ]
  },
  {
   "cell_type": "markdown",
   "metadata": {
    "pycharm": {
     "name": "#%% md\n"
    }
   },
   "source": [
    "Note that many occupations seem to appear only once. To verify this, let's compute some basic statistics for the occupation frequency"
   ]
  },
  {
   "cell_type": "code",
   "execution_count": 82,
   "metadata": {
    "pycharm": {
     "name": "#%%\n"
    }
   },
   "outputs": [
    {
     "data": {
      "text/plain": "count    1458.000000\nmean        1.744856\nstd         2.995889\nmin         1.000000\n25%         1.000000\n50%         1.000000\n75%         1.000000\nmax        45.000000\nName: occupation_freq, dtype: float64"
     },
     "execution_count": 82,
     "metadata": {},
     "output_type": "execute_result"
    }
   ],
   "source": [
    "occupation_funny_ratings.occupation_freq.describe()"
   ]
  },
  {
   "cell_type": "markdown",
   "metadata": {
    "pycharm": {
     "name": "#%% md\n"
    }
   },
   "source": [
    "The stats indicate that 75% of occupations appear only once in the dataset. Let's also consider higher percentiles:"
   ]
  },
  {
   "cell_type": "code",
   "execution_count": 83,
   "metadata": {
    "pycharm": {
     "name": "#%%\n"
    }
   },
   "outputs": [
    {
     "data": {
      "text/plain": "0.80    2.0\n0.85    2.0\n0.90    3.0\n0.95    4.0\nName: occupation_freq, dtype: float64"
     },
     "execution_count": 83,
     "metadata": {},
     "output_type": "execute_result"
    }
   ],
   "source": [
    "occupation_funny_ratings.occupation_freq.quantile([0.8, 0.85, 0.9, 0.95])"
   ]
  },
  {
   "cell_type": "markdown",
   "metadata": {
    "pycharm": {
     "name": "#%% md\n"
    }
   },
   "source": [
    "Only 5% of all occupations appear 4 or more times.\n",
    "Since, we cannot make any conclusion about an occupation based on just one representative, let's consider those 5% or occupations that are somewhat more represented. To that end, select those with frequency > 95th percentile."
   ]
  },
  {
   "cell_type": "code",
   "execution_count": 84,
   "metadata": {
    "pycharm": {
     "name": "#%%\n"
    }
   },
   "outputs": [],
   "source": [
    "occupation_freq_95th_perc =  occupation_funny_ratings.occupation_freq.quantile(0.95)"
   ]
  },
  {
   "cell_type": "code",
   "execution_count": 85,
   "metadata": {
    "pycharm": {
     "name": "#%%\n"
    }
   },
   "outputs": [],
   "source": [
    "freq_occupation_funny_ratings = occupation_funny_ratings.loc[occupation_funny_ratings.occupation_freq > occupation_freq_95th_perc,]"
   ]
  },
  {
   "cell_type": "markdown",
   "metadata": {
    "pycharm": {
     "name": "#%% md\n"
    }
   },
   "source": [
    "Let's see how many occupations we have selected as \"well represented\""
   ]
  },
  {
   "cell_type": "code",
   "execution_count": 86,
   "metadata": {
    "pycharm": {
     "name": "#%%\n"
    }
   },
   "outputs": [
    {
     "data": {
      "text/plain": "68"
     },
     "execution_count": 86,
     "metadata": {},
     "output_type": "execute_result"
    }
   ],
   "source": [
    "freq_occupation_funny_ratings.shape[0]"
   ]
  },
  {
   "cell_type": "markdown",
   "metadata": {
    "pycharm": {
     "name": "#%% md\n"
    }
   },
   "source": [
    "\n",
    "Finally, let's examine how funny are talks by the representatives of such occupations."
   ]
  },
  {
   "cell_type": "code",
   "execution_count": 87,
   "metadata": {
    "pycharm": {
     "name": "#%%\n"
    }
   },
   "outputs": [
    {
     "data": {
      "text/plain": "                                            mean_prop_funny_ratings  \\\nspeaker_occupation                                                    \nComedian                                                   0.512457   \nPerformance poet, multimedia artist                        0.306468   \nSinger/songwriter                                          0.252205   \nProducer                                                   0.202531   \nData scientist                                             0.184076   \n...                                                             ...   \nPhotographer                                               0.007152   \nInvestor and advocate for moral leadership                 0.005198   \nPhotojournalist                                            0.004908   \nPhysician                                                  0.004515   \nSurgeon                                                    0.002465   \n\n                                            occupation_freq  \nspeaker_occupation                                           \nComedian                                                  6  \nPerformance poet, multimedia artist                       6  \nSinger/songwriter                                         9  \nProducer                                                  5  \nData scientist                                            5  \n...                                                     ...  \nPhotographer                                             25  \nInvestor and advocate for moral leadership                5  \nPhotojournalist                                           6  \nPhysician                                                 5  \nSurgeon                                                   5  \n\n[68 rows x 2 columns]",
      "text/html": "<div>\n<style scoped>\n    .dataframe tbody tr th:only-of-type {\n        vertical-align: middle;\n    }\n\n    .dataframe tbody tr th {\n        vertical-align: top;\n    }\n\n    .dataframe thead th {\n        text-align: right;\n    }\n</style>\n<table border=\"1\" class=\"dataframe\">\n  <thead>\n    <tr style=\"text-align: right;\">\n      <th></th>\n      <th>mean_prop_funny_ratings</th>\n      <th>occupation_freq</th>\n    </tr>\n    <tr>\n      <th>speaker_occupation</th>\n      <th></th>\n      <th></th>\n    </tr>\n  </thead>\n  <tbody>\n    <tr>\n      <th>Comedian</th>\n      <td>0.512457</td>\n      <td>6</td>\n    </tr>\n    <tr>\n      <th>Performance poet, multimedia artist</th>\n      <td>0.306468</td>\n      <td>6</td>\n    </tr>\n    <tr>\n      <th>Singer/songwriter</th>\n      <td>0.252205</td>\n      <td>9</td>\n    </tr>\n    <tr>\n      <th>Producer</th>\n      <td>0.202531</td>\n      <td>5</td>\n    </tr>\n    <tr>\n      <th>Data scientist</th>\n      <td>0.184076</td>\n      <td>5</td>\n    </tr>\n    <tr>\n      <th>...</th>\n      <td>...</td>\n      <td>...</td>\n    </tr>\n    <tr>\n      <th>Photographer</th>\n      <td>0.007152</td>\n      <td>25</td>\n    </tr>\n    <tr>\n      <th>Investor and advocate for moral leadership</th>\n      <td>0.005198</td>\n      <td>5</td>\n    </tr>\n    <tr>\n      <th>Photojournalist</th>\n      <td>0.004908</td>\n      <td>6</td>\n    </tr>\n    <tr>\n      <th>Physician</th>\n      <td>0.004515</td>\n      <td>5</td>\n    </tr>\n    <tr>\n      <th>Surgeon</th>\n      <td>0.002465</td>\n      <td>5</td>\n    </tr>\n  </tbody>\n</table>\n<p>68 rows × 2 columns</p>\n</div>"
     },
     "execution_count": 87,
     "metadata": {},
     "output_type": "execute_result"
    }
   ],
   "source": [
    "freq_occupation_funny_ratings.sort_values(by=\"mean_prop_funny_ratings\", ascending=False)"
   ]
  },
  {
   "cell_type": "markdown",
   "metadata": {
    "pycharm": {
     "name": "#%% md\n"
    }
   },
   "source": [
    "As expected, comedians gave the funniest talks. On the other hand, talks by physicians and surgeons, again, as expected, are the least funny. <br>\n",
    "Something probably unexpected: data scientists got 5th place (among 68 occupations)"
   ]
  },
  {
   "cell_type": "markdown",
   "metadata": {
    "pycharm": {
     "name": "#%% md\n"
    }
   },
   "source": [
    "### Task 4. Examine the topics of the 100 best 'Inspiring' talks, present them in a tag cloud \n",
    "\n",
    "While talks can be ranked based on a variety of criteria, we will value and rank them based on the proportion of positive ratings"
   ]
  },
  {
   "cell_type": "markdown",
   "metadata": {
    "pycharm": {
     "name": "#%% md\n"
    }
   },
   "source": [
    "Let's start by creating a subset of talks that have the 'Inspiring' rating among the top 3 ratings"
   ]
  },
  {
   "cell_type": "code",
   "execution_count": 88,
   "metadata": {
    "pycharm": {
     "name": "#%%\n"
    }
   },
   "outputs": [],
   "source": [
    "inspiring_talks = ted.loc[ted.top3_ratings.apply(lambda top3: 'inspiring' in [r.lower() for r in top3])].copy()"
   ]
  },
  {
   "cell_type": "markdown",
   "metadata": {
    "pycharm": {
     "name": "#%% md\n"
    }
   },
   "source": [
    "Note the call of the copy function at the end of the above line. This will allow us to alter the new dataframe (inspiring_talks) without inadvertently affecting the main (ted) dataframe."
   ]
  },
  {
   "cell_type": "code",
   "execution_count": 89,
   "metadata": {
    "pycharm": {
     "name": "#%%\n"
    }
   },
   "outputs": [
    {
     "data": {
      "text/plain": "(1752, 27)"
     },
     "execution_count": 89,
     "metadata": {},
     "output_type": "execute_result"
    }
   ],
   "source": [
    "inspiring_talks.shape"
   ]
  },
  {
   "cell_type": "markdown",
   "metadata": {
    "pycharm": {
     "name": "#%% md\n"
    }
   },
   "source": [
    "Next, order these talks based on the proportion of positive ratings and take top 100"
   ]
  },
  {
   "cell_type": "code",
   "execution_count": 90,
   "metadata": {
    "pycharm": {
     "name": "#%%\n"
    }
   },
   "outputs": [],
   "source": [
    "inspiring_talks['pos_ratings_prop'] = inspiring_talks.pos_ratings / (inspiring_talks.pos_ratings \\\n",
    "                                                                     + inspiring_talks.neg_ratings \\\n",
    "                                                                     + inspiring_talks.neutral_ratings)\n",
    "\n",
    "top100_inspiring_talks = inspiring_talks.sort_values(by='pos_ratings_prop', ascending=False).head(100)"
   ]
  },
  {
   "cell_type": "markdown",
   "metadata": {
    "pycharm": {
     "name": "#%% md\n"
    }
   },
   "source": [
    "To be able to access rows of this new data frame using regular indices (0,1,2,...), we need to reset its index"
   ]
  },
  {
   "cell_type": "code",
   "execution_count": 91,
   "metadata": {
    "pycharm": {
     "name": "#%%\n"
    }
   },
   "outputs": [
    {
     "data": {
      "text/plain": "Int64Index([2528, 2511, 2497, 2485, 2483], dtype='int64')"
     },
     "execution_count": 91,
     "metadata": {},
     "output_type": "execute_result"
    }
   ],
   "source": [
    "top100_inspiring_talks.index[:5]"
   ]
  },
  {
   "cell_type": "code",
   "execution_count": 92,
   "metadata": {
    "pycharm": {
     "name": "#%%\n"
    }
   },
   "outputs": [
    {
     "data": {
      "text/plain": "RangeIndex(start=0, stop=100, step=1)"
     },
     "execution_count": 92,
     "metadata": {},
     "output_type": "execute_result"
    }
   ],
   "source": [
    "top100_inspiring_talks.reset_index(drop=True, inplace=True)\n",
    "top100_inspiring_talks.index"
   ]
  },
  {
   "cell_type": "markdown",
   "metadata": {
    "pycharm": {
     "name": "#%% md\n"
    }
   },
   "source": [
    "Next, let's examine tags associated with the inspiring talks"
   ]
  },
  {
   "cell_type": "code",
   "execution_count": 93,
   "metadata": {
    "pycharm": {
     "name": "#%%\n"
    }
   },
   "outputs": [
    {
     "data": {
      "text/plain": "11    ['Blindness', 'brain', 'choice', 'fear', 'huma...\n99    ['TEDx', 'design', 'health care', 'product des...\n41    ['children', 'education', 'motivation', 'teach...\n1     ['Criminal Justice', 'TEDx', 'United States', ...\n60    ['code', 'creativity', 'drones', 'education', ...\nName: tags, dtype: object"
     },
     "execution_count": 93,
     "metadata": {},
     "output_type": "execute_result"
    }
   ],
   "source": [
    "top100_inspiring_talks.tags.sample(5)"
   ]
  },
  {
   "cell_type": "markdown",
   "metadata": {
    "pycharm": {
     "name": "#%% md\n"
    }
   },
   "source": [
    "It seems that tags of a particular talk are stored as a list. But, we should take a closer look..."
   ]
  },
  {
   "cell_type": "code",
   "execution_count": 94,
   "metadata": {
    "pycharm": {
     "name": "#%%\n"
    }
   },
   "outputs": [
    {
     "data": {
      "text/plain": "\"['TEDx', 'ancient world', 'archaeology', 'conservation', 'culture', 'history', 'museums', 'photography', 'technology', 'terrorism', 'war']\""
     },
     "execution_count": 94,
     "metadata": {},
     "output_type": "execute_result"
    }
   ],
   "source": [
    "top100_inspiring_talks.tags[0]"
   ]
  },
  {
   "cell_type": "code",
   "execution_count": 95,
   "metadata": {
    "pycharm": {
     "name": "#%%\n"
    }
   },
   "outputs": [
    {
     "data": {
      "text/plain": "str"
     },
     "execution_count": 95,
     "metadata": {},
     "output_type": "execute_result"
    }
   ],
   "source": [
    "type(top100_inspiring_talks.tags[0])"
   ]
  },
  {
   "cell_type": "markdown",
   "metadata": {
    "pycharm": {
     "name": "#%% md\n"
    }
   },
   "source": [
    "Ratings are, in fact, encoded as a string... <br>\n",
    "So, we (again) have to use `ast.literal_eval()` function to get a list out of a string (representation of the list)"
   ]
  },
  {
   "cell_type": "code",
   "execution_count": 96,
   "metadata": {
    "pycharm": {
     "name": "#%%\n"
    }
   },
   "outputs": [],
   "source": [
    "top100_inspiring_talks['tags'] = top100_inspiring_talks.tags.apply(ast.literal_eval)"
   ]
  },
  {
   "cell_type": "code",
   "execution_count": 97,
   "metadata": {
    "pycharm": {
     "name": "#%%\n"
    }
   },
   "outputs": [
    {
     "data": {
      "text/plain": "['TEDx',\n 'ancient world',\n 'archaeology',\n 'conservation',\n 'culture',\n 'history',\n 'museums',\n 'photography',\n 'technology',\n 'terrorism',\n 'war']"
     },
     "execution_count": 97,
     "metadata": {},
     "output_type": "execute_result"
    }
   ],
   "source": [
    "top100_inspiring_talks.tags[0]"
   ]
  },
  {
   "cell_type": "code",
   "execution_count": 98,
   "metadata": {
    "pycharm": {
     "name": "#%%\n"
    }
   },
   "outputs": [
    {
     "data": {
      "text/plain": "list"
     },
     "execution_count": 98,
     "metadata": {},
     "output_type": "execute_result"
    }
   ],
   "source": [
    "type(top100_inspiring_talks.tags[0])"
   ]
  },
  {
   "cell_type": "markdown",
   "metadata": {
    "pycharm": {
     "name": "#%% md\n"
    }
   },
   "source": [
    "Next, we will create a dictionary of the tags that were used to describe the inspiring talks. Keys in this dictionary will be individual tags, while values will be frequencies of tags' occurrences in relation to the inspiring talks. We need this type of dictionary for the creation of a tag cloud."
   ]
  },
  {
   "cell_type": "code",
   "execution_count": 99,
   "metadata": {
    "pycharm": {
     "name": "#%%\n"
    }
   },
   "outputs": [],
   "source": [
    "from collections import defaultdict\n",
    "\n",
    "inspiring_topics_dict = defaultdict(int)\n",
    "\n",
    "for tags_list in top100_inspiring_talks.tags:\n",
    "    for tag in tags_list:\n",
    "        tag = tag.lower().replace(' ', '_') # this is not necessary\n",
    "        inspiring_topics_dict[tag] += 1"
   ]
  },
  {
   "cell_type": "markdown",
   "metadata": {
    "pycharm": {
     "name": "#%% md\n"
    }
   },
   "source": [
    "How many unique tags were identified?"
   ]
  },
  {
   "cell_type": "code",
   "execution_count": 100,
   "metadata": {
    "pycharm": {
     "name": "#%%\n"
    }
   },
   "outputs": [
    {
     "data": {
      "text/plain": "226"
     },
     "execution_count": 100,
     "metadata": {},
     "output_type": "execute_result"
    }
   ],
   "source": [
    "len(inspiring_topics_dict.keys())"
   ]
  },
  {
   "cell_type": "markdown",
   "metadata": {
    "pycharm": {
     "name": "#%% md\n"
    }
   },
   "source": [
    "How frequent those tags are? Compute some basic statistics that describe tag frequency distribution <br> \n",
    "This can be done using functions from the statistics module, but let's do it by creating and using pandas Series (for the sake of practicing pandas):"
   ]
  },
  {
   "cell_type": "code",
   "execution_count": 101,
   "metadata": {
    "pycharm": {
     "name": "#%%\n"
    }
   },
   "outputs": [],
   "source": [
    "tag_freq_series = pd.Series(data=inspiring_topics_dict.values(), index=inspiring_topics_dict.keys())"
   ]
  },
  {
   "cell_type": "code",
   "execution_count": 102,
   "metadata": {
    "pycharm": {
     "name": "#%%\n"
    }
   },
   "outputs": [
    {
     "data": {
      "text/plain": "tedx             23\nancient_world     2\narchaeology       1\nconservation      2\nculture          14\nhistory           4\nmuseums           1\nphotography       6\ntechnology       13\nterrorism         2\ndtype: int64"
     },
     "execution_count": 102,
     "metadata": {},
     "output_type": "execute_result"
    }
   ],
   "source": [
    "tag_freq_series.head(10)"
   ]
  },
  {
   "cell_type": "code",
   "execution_count": 103,
   "metadata": {
    "pycharm": {
     "name": "#%%\n"
    }
   },
   "outputs": [
    {
     "data": {
      "text/plain": "count    226.000000\nmean       3.654867\nstd        3.719665\nmin        1.000000\n25%        1.000000\n50%        2.000000\n75%        4.000000\nmax       23.000000\ndtype: float64"
     },
     "execution_count": 103,
     "metadata": {},
     "output_type": "execute_result"
    }
   ],
   "source": [
    "tag_freq_series.describe()"
   ]
  },
  {
   "cell_type": "markdown",
   "metadata": {
    "pycharm": {
     "name": "#%% md\n"
    }
   },
   "source": [
    "Keep only tags with above average (median) frequency"
   ]
  },
  {
   "cell_type": "code",
   "execution_count": 104,
   "metadata": {
    "pycharm": {
     "name": "#%%\n"
    }
   },
   "outputs": [],
   "source": [
    "mdn_freq = tag_freq_series.describe()['50%']"
   ]
  },
  {
   "cell_type": "code",
   "execution_count": 105,
   "metadata": {
    "pycharm": {
     "name": "#%%\n"
    }
   },
   "outputs": [],
   "source": [
    "frequent_tags = tag_freq_series.loc[tag_freq_series > mdn_freq]"
   ]
  },
  {
   "cell_type": "code",
   "execution_count": 106,
   "metadata": {
    "pycharm": {
     "name": "#%%\n"
    }
   },
   "outputs": [
    {
     "data": {
      "text/plain": "tedx           23\nculture        14\nhistory         4\nphotography     6\ntechnology     13\ndtype: int64"
     },
     "execution_count": 106,
     "metadata": {},
     "output_type": "execute_result"
    }
   ],
   "source": [
    "frequent_tags.head()"
   ]
  },
  {
   "cell_type": "code",
   "execution_count": 107,
   "metadata": {
    "pycharm": {
     "name": "#%%\n"
    }
   },
   "outputs": [
    {
     "data": {
      "text/plain": "(106,)"
     },
     "execution_count": 107,
     "metadata": {},
     "output_type": "execute_result"
    }
   ],
   "source": [
    "frequent_tags.shape"
   ]
  },
  {
   "cell_type": "markdown",
   "metadata": {
    "pycharm": {
     "name": "#%% md\n"
    }
   },
   "source": [
    "Print 15 most frequent tags (and their frequencies)"
   ]
  },
  {
   "cell_type": "code",
   "execution_count": 108,
   "metadata": {
    "pycharm": {
     "name": "#%%\n"
    }
   },
   "outputs": [
    {
     "data": {
      "text/plain": "tedx               23\nhealth             18\nhumanity           18\nsocial_change      17\npersonal_growth    15\nglobal_issues      15\nculture            14\neducation          14\nchildren           14\ntechnology         13\nscience            13\ncommunity          12\nsociety            12\nhealth_care        12\ndesign             11\ndtype: int64"
     },
     "execution_count": 108,
     "metadata": {},
     "output_type": "execute_result"
    }
   ],
   "source": [
    "frequent_tags.sort_values(ascending=False).head(15)"
   ]
  },
  {
   "cell_type": "markdown",
   "metadata": {
    "pycharm": {
     "name": "#%% md\n"
    }
   },
   "source": [
    "Now, we can create a word cloud\n",
    "\n",
    "Some useful materials for word cloud: <br>\n",
    "* [https://www.datacamp.com/community/tutorials/wordcloud-python](https://www.datacamp.com/community/tutorials/wordcloud-python) <br>\n",
    "* [https://gist.github.com/izikeros/fca85e2d7b9eae3e0d9dec6a1f1635b3](https://gist.github.com/izikeros/fca85e2d7b9eae3e0d9dec6a1f1635b3) <br>\n"
   ]
  },
  {
   "cell_type": "code",
   "execution_count": 109,
   "metadata": {
    "pycharm": {
     "name": "#%%\n"
    }
   },
   "outputs": [
    {
     "data": {
      "text/plain": "<Figure size 900x600 with 1 Axes>",
      "image/png": "[encoded data removed]"
     },
     "metadata": {},
     "output_type": "display_data"
    }
   ],
   "source": [
    "from wordcloud import WordCloud\n",
    "\n",
    "wordcloud = WordCloud(background_color='white',\n",
    "                      width=1500,\n",
    "                      height=1000\n",
    "                      ).generate_from_frequencies(frequent_tags)\n",
    "\n",
    "plt.figure(figsize=(9,6))\n",
    "\n",
    "plt.imshow(wordcloud, interpolation='bilinear')\n",
    "# Note: interpolation makes the figure smoother\n",
    "# different interpolation options are given here:\n",
    "# https://matplotlib.org/gallery/images_contours_and_fields/interpolation_methods.html\n",
    "\n",
    "\n",
    "plt.axis('off')\n",
    "plt.show()"
   ]
  }
 ],
 "metadata": {
  "kernelspec": {
   "display_name": "Python 3 (ipykernel)",
   "language": "python",
   "name": "python3"
  },
  "language_info": {
   "codemirror_mode": {
    "name": "ipython",
    "version": 3
   },
   "file_extension": ".py",
   "mimetype": "text/x-python",
   "name": "python",
   "nbconvert_exporter": "python",
   "pygments_lexer": "ipython3",
   "version": "3.10.0"
  }
 },
 "nbformat": 4,
 "nbformat_minor": 4
}