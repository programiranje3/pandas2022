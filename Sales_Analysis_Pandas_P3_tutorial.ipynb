{
 "cells": [
  {
   "cell_type": "markdown",
   "metadata": {
    "pycharm": {
     "name": "#%% md\n"
    }
   },
   "source": [
    "# Introduction to Pandas\n",
    "\n",
    "This tutorial is partially based on the [\"Solving real world data science tasks with Python Pandas!\"](https://github.com/KeithGalli/Pandas-Data-Science-Tasks) tutorial, by Keith Galli.\n",
    "\n",
    "The [Sales dataset](https://github.com/KeithGalli/Pandas-Data-Science-Tasks/tree/master/SalesAnalysis/Sales_Data) used in this tutorial comes from the aforementioned Keith's tutorial."
   ]
  },
  {
   "cell_type": "markdown",
   "metadata": {
    "pycharm": {
     "name": "#%% md\n"
    }
   },
   "source": [
    "## Import necessary libraries"
   ]
  },
  {
   "cell_type": "code",
   "execution_count": 1,
   "metadata": {
    "pycharm": {
     "name": "#%%\n"
    }
   },
   "outputs": [],
   "source": [
    "import pandas as pd\n",
    "import matplotlib.pyplot as plt\n",
    "\n",
    "from pathlib import Path"
   ]
  },
  {
   "cell_type": "markdown",
   "metadata": {
    "pycharm": {
     "name": "#%% md\n"
    }
   },
   "source": [
    "## Load and explore sales data for one month "
   ]
  },
  {
   "cell_type": "markdown",
   "metadata": {
    "pycharm": {
     "name": "#%% md\n"
    }
   },
   "source": [
    "### Load sales data from a csv file\n",
    "\n",
    "The data is stored in the 'sales_data' subdirectory, within the 'data' directory. We'll start by creating a function for accessing the sales data directory."
   ]
  },
  {
   "cell_type": "code",
   "execution_count": 2,
   "outputs": [],
   "source": [
    "DATA_DIR = \"data/sales_data\""
   ],
   "metadata": {
    "collapsed": false,
    "pycharm": {
     "name": "#%%\n"
    }
   }
  },
  {
   "cell_type": "code",
   "execution_count": 3,
   "metadata": {
    "pycharm": {
     "name": "#%%\n"
    }
   },
   "outputs": [],
   "source": [
    "def get_data_dir():\n",
    "    data_dir = Path.cwd() / DATA_DIR\n",
    "    if not data_dir.exists(): data_dir.mkdir()\n",
    "    return data_dir"
   ]
  },
  {
   "cell_type": "code",
   "execution_count": 4,
   "metadata": {
    "pycharm": {
     "name": "#%%\n"
    }
   },
   "outputs": [
    {
     "name": "stdout",
     "output_type": "stream",
     "text": [
      "/Users/jelena/DataspellProjects/pandas2022/data/sales_data\n"
     ]
    }
   ],
   "source": [
    "print(get_data_dir())"
   ]
  },
  {
   "cell_type": "markdown",
   "metadata": {
    "pycharm": {
     "name": "#%% md\n"
    }
   },
   "source": [
    "Load the data from the 'Sales_January_2019' csv file, from the 'sales_data' directory "
   ]
  },
  {
   "cell_type": "code",
   "execution_count": 5,
   "metadata": {
    "pycharm": {
     "name": "#%%\n"
    }
   },
   "outputs": [
    {
     "data": {
      "text/plain": "  Order ID                   Product Quantity Ordered Price Each  \\\n0   141234                    iPhone                1        700   \n1   141235  Lightning Charging Cable                1      14.95   \n2   141236          Wired Headphones                2      11.99   \n3   141237          27in FHD Monitor                1     149.99   \n4   141238          Wired Headphones                1      11.99   \n\n       Order Date                       Purchase Address  \n0  01/22/19 21:25        944 Walnut St, Boston, MA 02215  \n1  01/28/19 14:15       185 Maple St, Portland, OR 97035  \n2  01/17/19 13:33  538 Adams St, San Francisco, CA 94016  \n3  01/05/19 20:33     738 10th St, Los Angeles, CA 90001  \n4  01/25/19 11:59          387 10th St, Austin, TX 73301  ",
      "text/html": "<div>\n<style scoped>\n    .dataframe tbody tr th:only-of-type {\n        vertical-align: middle;\n    }\n\n    .dataframe tbody tr th {\n        vertical-align: top;\n    }\n\n    .dataframe thead th {\n        text-align: right;\n    }\n</style>\n<table border=\"1\" class=\"dataframe\">\n  <thead>\n    <tr style=\"text-align: right;\">\n      <th></th>\n      <th>Order ID</th>\n      <th>Product</th>\n      <th>Quantity Ordered</th>\n      <th>Price Each</th>\n      <th>Order Date</th>\n      <th>Purchase Address</th>\n    </tr>\n  </thead>\n  <tbody>\n    <tr>\n      <th>0</th>\n      <td>141234</td>\n      <td>iPhone</td>\n      <td>1</td>\n      <td>700</td>\n      <td>01/22/19 21:25</td>\n      <td>944 Walnut St, Boston, MA 02215</td>\n    </tr>\n    <tr>\n      <th>1</th>\n      <td>141235</td>\n      <td>Lightning Charging Cable</td>\n      <td>1</td>\n      <td>14.95</td>\n      <td>01/28/19 14:15</td>\n      <td>185 Maple St, Portland, OR 97035</td>\n    </tr>\n    <tr>\n      <th>2</th>\n      <td>141236</td>\n      <td>Wired Headphones</td>\n      <td>2</td>\n      <td>11.99</td>\n      <td>01/17/19 13:33</td>\n      <td>538 Adams St, San Francisco, CA 94016</td>\n    </tr>\n    <tr>\n      <th>3</th>\n      <td>141237</td>\n      <td>27in FHD Monitor</td>\n      <td>1</td>\n      <td>149.99</td>\n      <td>01/05/19 20:33</td>\n      <td>738 10th St, Los Angeles, CA 90001</td>\n    </tr>\n    <tr>\n      <th>4</th>\n      <td>141238</td>\n      <td>Wired Headphones</td>\n      <td>1</td>\n      <td>11.99</td>\n      <td>01/25/19 11:59</td>\n      <td>387 10th St, Austin, TX 73301</td>\n    </tr>\n  </tbody>\n</table>\n</div>"
     },
     "execution_count": 5,
     "metadata": {},
     "output_type": "execute_result"
    }
   ],
   "source": [
    "jan_sales = pd.read_csv(get_data_dir() / 'Sales_January_2019.csv')\n",
    "jan_sales.head()"
   ]
  },
  {
   "cell_type": "markdown",
   "metadata": {
    "pycharm": {
     "name": "#%% md\n"
    }
   },
   "source": [
    "### Explore the loaded data"
   ]
  },
  {
   "cell_type": "markdown",
   "metadata": {
    "pycharm": {
     "name": "#%% md\n"
    }
   },
   "source": [
    "First, get the size of the dataframe, that is, the number of rows and columns"
   ]
  },
  {
   "cell_type": "code",
   "execution_count": 6,
   "metadata": {
    "pycharm": {
     "name": "#%%\n"
    }
   },
   "outputs": [
    {
     "data": {
      "text/plain": "(9723, 6)"
     },
     "execution_count": 6,
     "metadata": {},
     "output_type": "execute_result"
    }
   ],
   "source": [
    "jan_sales.shape"
   ]
  },
  {
   "cell_type": "markdown",
   "metadata": {
    "pycharm": {
     "name": "#%% md\n"
    }
   },
   "source": [
    "Access the columns' names"
   ]
  },
  {
   "cell_type": "code",
   "execution_count": 7,
   "metadata": {
    "pycharm": {
     "name": "#%%\n"
    }
   },
   "outputs": [
    {
     "data": {
      "text/plain": "['Order ID',\n 'Product',\n 'Quantity Ordered',\n 'Price Each',\n 'Order Date',\n 'Purchase Address']"
     },
     "execution_count": 7,
     "metadata": {},
     "output_type": "execute_result"
    }
   ],
   "source": [
    "jan_sales.columns.values.tolist()"
   ]
  },
  {
   "cell_type": "markdown",
   "metadata": {
    "pycharm": {
     "name": "#%% md\n"
    }
   },
   "source": [
    "Examine the columns' data types"
   ]
  },
  {
   "cell_type": "code",
   "execution_count": 8,
   "metadata": {
    "pycharm": {
     "name": "#%%\n"
    }
   },
   "outputs": [
    {
     "data": {
      "text/plain": "Order ID            object\nProduct             object\nQuantity Ordered    object\nPrice Each          object\nOrder Date          object\nPurchase Address    object\ndtype: object"
     },
     "execution_count": 8,
     "metadata": {},
     "output_type": "execute_result"
    }
   ],
   "source": [
    "jan_sales.dtypes"
   ]
  },
  {
   "cell_type": "markdown",
   "metadata": {
    "pycharm": {
     "name": "#%% md\n"
    }
   },
   "source": [
    "A nice overview of pandas' data types can be found, for example, in [this article](https://pbpython.com/pandas_dtypes.html)."
   ]
  },
  {
   "cell_type": "markdown",
   "metadata": {
    "pycharm": {
     "name": "#%% md\n"
    }
   },
   "source": [
    "Get a complete set of information about the data frame"
   ]
  },
  {
   "cell_type": "code",
   "execution_count": 9,
   "metadata": {
    "pycharm": {
     "name": "#%%\n"
    }
   },
   "outputs": [
    {
     "name": "stdout",
     "output_type": "stream",
     "text": [
      "<class 'pandas.core.frame.DataFrame'>\n",
      "RangeIndex: 9723 entries, 0 to 9722\n",
      "Data columns (total 6 columns):\n",
      " #   Column            Non-Null Count  Dtype \n",
      "---  ------            --------------  ----- \n",
      " 0   Order ID          9697 non-null   object\n",
      " 1   Product           9697 non-null   object\n",
      " 2   Quantity Ordered  9697 non-null   object\n",
      " 3   Price Each        9697 non-null   object\n",
      " 4   Order Date        9697 non-null   object\n",
      " 5   Purchase Address  9697 non-null   object\n",
      "dtypes: object(6)\n",
      "memory usage: 455.9+ KB\n"
     ]
    }
   ],
   "source": [
    "jan_sales.info()"
   ]
  },
  {
   "cell_type": "markdown",
   "metadata": {
    "pycharm": {
     "name": "#%% md\n"
    }
   },
   "source": [
    "### Examine the missing values\n",
    "\n",
    "To do that, we'll use the `isna()` method"
   ]
  },
  {
   "cell_type": "code",
   "execution_count": 10,
   "metadata": {
    "pycharm": {
     "name": "#%%\n"
    }
   },
   "outputs": [
    {
     "data": {
      "text/plain": "Order ID            26\nProduct             26\nQuantity Ordered    26\nPrice Each          26\nOrder Date          26\nPurchase Address    26\ndtype: int64"
     },
     "execution_count": 10,
     "metadata": {},
     "output_type": "execute_result"
    }
   ],
   "source": [
    "jan_sales.isna().sum()"
   ]
  },
  {
   "cell_type": "markdown",
   "metadata": {
    "pycharm": {
     "name": "#%% md\n"
    }
   },
   "source": [
    "#### Remove rows with all missing values\n",
    "\n",
    "This can be done with the `dropna()` method"
   ]
  },
  {
   "cell_type": "code",
   "execution_count": 11,
   "metadata": {
    "pycharm": {
     "name": "#%%\n"
    }
   },
   "outputs": [],
   "source": [
    "jan_sales.dropna(how='all', inplace=True)"
   ]
  },
  {
   "cell_type": "code",
   "execution_count": 12,
   "metadata": {
    "pycharm": {
     "name": "#%%\n"
    }
   },
   "outputs": [
    {
     "data": {
      "text/plain": "0"
     },
     "execution_count": 12,
     "metadata": {},
     "output_type": "execute_result"
    }
   ],
   "source": [
    "jan_sales.isna().sum().sum()"
   ]
  },
  {
   "cell_type": "markdown",
   "metadata": {
    "pycharm": {
     "name": "#%% md\n"
    }
   },
   "source": [
    "### Subset the data frame or select particular rows / columns\n",
    "\n",
    "This can be done in different ways; the recommended practice is to use Dataframe methods `loc` or `iloc`.\n",
    "\n",
    "When doing the selection based on the ordinal number of rows and columns, `iloc` should be used.\n",
    "\n",
    "When the selection is to be based on a condition to be evaluated against rows and / or columns are to be selected based on their names, `loc` should be used. "
   ]
  },
  {
   "cell_type": "markdown",
   "metadata": {
    "pycharm": {
     "name": "#%% md\n"
    }
   },
   "source": [
    "**Example 1**: select first 3 columns and first 6 rows"
   ]
  },
  {
   "cell_type": "code",
   "execution_count": 13,
   "metadata": {
    "pycharm": {
     "name": "#%%\n"
    }
   },
   "outputs": [
    {
     "data": {
      "text/plain": "  Order ID                   Product Quantity Ordered\n0   141234                    iPhone                1\n1   141235  Lightning Charging Cable                1\n2   141236          Wired Headphones                2\n3   141237          27in FHD Monitor                1\n4   141238          Wired Headphones                1\n5   141239    AAA Batteries (4-pack)                1",
      "text/html": "<div>\n<style scoped>\n    .dataframe tbody tr th:only-of-type {\n        vertical-align: middle;\n    }\n\n    .dataframe tbody tr th {\n        vertical-align: top;\n    }\n\n    .dataframe thead th {\n        text-align: right;\n    }\n</style>\n<table border=\"1\" class=\"dataframe\">\n  <thead>\n    <tr style=\"text-align: right;\">\n      <th></th>\n      <th>Order ID</th>\n      <th>Product</th>\n      <th>Quantity Ordered</th>\n    </tr>\n  </thead>\n  <tbody>\n    <tr>\n      <th>0</th>\n      <td>141234</td>\n      <td>iPhone</td>\n      <td>1</td>\n    </tr>\n    <tr>\n      <th>1</th>\n      <td>141235</td>\n      <td>Lightning Charging Cable</td>\n      <td>1</td>\n    </tr>\n    <tr>\n      <th>2</th>\n      <td>141236</td>\n      <td>Wired Headphones</td>\n      <td>2</td>\n    </tr>\n    <tr>\n      <th>3</th>\n      <td>141237</td>\n      <td>27in FHD Monitor</td>\n      <td>1</td>\n    </tr>\n    <tr>\n      <th>4</th>\n      <td>141238</td>\n      <td>Wired Headphones</td>\n      <td>1</td>\n    </tr>\n    <tr>\n      <th>5</th>\n      <td>141239</td>\n      <td>AAA Batteries (4-pack)</td>\n      <td>1</td>\n    </tr>\n  </tbody>\n</table>\n</div>"
     },
     "execution_count": 13,
     "metadata": {},
     "output_type": "execute_result"
    }
   ],
   "source": [
    "jan_sales.iloc[:6, :3]"
   ]
  },
  {
   "cell_type": "markdown",
   "metadata": {
    "pycharm": {
     "name": "#%% md\n"
    }
   },
   "source": [
    "**Example 2**: select the last 5 rows and 1st, 2nd and 5th column"
   ]
  },
  {
   "cell_type": "code",
   "execution_count": 14,
   "metadata": {
    "pycharm": {
     "name": "#%%\n"
    }
   },
   "outputs": [
    {
     "data": {
      "text/plain": "     Order ID                 Product      Order Date\n9718   150497            20in Monitor  01/26/19 19:09\n9719   150498        27in FHD Monitor  01/10/19 22:58\n9720   150499         ThinkPad Laptop  01/21/19 14:31\n9721   150500  AAA Batteries (4-pack)  01/15/19 14:21\n9722   150501            Google Phone  01/13/19 16:43",
      "text/html": "<div>\n<style scoped>\n    .dataframe tbody tr th:only-of-type {\n        vertical-align: middle;\n    }\n\n    .dataframe tbody tr th {\n        vertical-align: top;\n    }\n\n    .dataframe thead th {\n        text-align: right;\n    }\n</style>\n<table border=\"1\" class=\"dataframe\">\n  <thead>\n    <tr style=\"text-align: right;\">\n      <th></th>\n      <th>Order ID</th>\n      <th>Product</th>\n      <th>Order Date</th>\n    </tr>\n  </thead>\n  <tbody>\n    <tr>\n      <th>9718</th>\n      <td>150497</td>\n      <td>20in Monitor</td>\n      <td>01/26/19 19:09</td>\n    </tr>\n    <tr>\n      <th>9719</th>\n      <td>150498</td>\n      <td>27in FHD Monitor</td>\n      <td>01/10/19 22:58</td>\n    </tr>\n    <tr>\n      <th>9720</th>\n      <td>150499</td>\n      <td>ThinkPad Laptop</td>\n      <td>01/21/19 14:31</td>\n    </tr>\n    <tr>\n      <th>9721</th>\n      <td>150500</td>\n      <td>AAA Batteries (4-pack)</td>\n      <td>01/15/19 14:21</td>\n    </tr>\n    <tr>\n      <th>9722</th>\n      <td>150501</td>\n      <td>Google Phone</td>\n      <td>01/13/19 16:43</td>\n    </tr>\n  </tbody>\n</table>\n</div>"
     },
     "execution_count": 14,
     "metadata": {},
     "output_type": "execute_result"
    }
   ],
   "source": [
    "jan_sales.iloc[-5:, [0,1,4]]"
   ]
  },
  {
   "cell_type": "markdown",
   "metadata": {
    "pycharm": {
     "name": "#%% md\n"
    }
   },
   "source": [
    "**Example 3**: Select Order ID, Order Date, and Purchase Address for orders coming from Boston\n",
    "\n",
    "Note: we can use `str` to get the string value of a pandas Series (the 'Purchase Address' column, in this case), so that we can call any string method on it."
   ]
  },
  {
   "cell_type": "code",
   "execution_count": 15,
   "metadata": {
    "pycharm": {
     "name": "#%%\n"
    }
   },
   "outputs": [
    {
     "data": {
      "text/plain": "     Order ID      Order Date                  Purchase Address\n0      141234  01/22/19 21:25   944 Walnut St, Boston, MA 02215\n17     141251  01/24/19 08:13   414 Walnut St, Boston, MA 02215\n29     141263  01/11/19 23:33   640 Spruce St, Boston, MA 02215\n31     141265  01/01/19 16:52    853 Ridge St, Boston, MA 02215\n37     141271  01/30/19 10:51      90 13th St, Boston, MA 02215\n...       ...             ...                               ...\n9627   150409  01/10/19 02:38   410 Forest St, Boston, MA 02215\n9660   150440  01/10/19 19:19   82 Johnson St, Boston, MA 02215\n9666   150445  01/11/19 13:56  147 Lincoln St, Boston, MA 02215\n9694   150473  01/10/19 09:09  148 Hickory St, Boston, MA 02215\n9722   150501  01/13/19 16:43    428 Cedar St, Boston, MA 02215\n\n[1048 rows x 3 columns]",
      "text/html": "<div>\n<style scoped>\n    .dataframe tbody tr th:only-of-type {\n        vertical-align: middle;\n    }\n\n    .dataframe tbody tr th {\n        vertical-align: top;\n    }\n\n    .dataframe thead th {\n        text-align: right;\n    }\n</style>\n<table border=\"1\" class=\"dataframe\">\n  <thead>\n    <tr style=\"text-align: right;\">\n      <th></th>\n      <th>Order ID</th>\n      <th>Order Date</th>\n      <th>Purchase Address</th>\n    </tr>\n  </thead>\n  <tbody>\n    <tr>\n      <th>0</th>\n      <td>141234</td>\n      <td>01/22/19 21:25</td>\n      <td>944 Walnut St, Boston, MA 02215</td>\n    </tr>\n    <tr>\n      <th>17</th>\n      <td>141251</td>\n      <td>01/24/19 08:13</td>\n      <td>414 Walnut St, Boston, MA 02215</td>\n    </tr>\n    <tr>\n      <th>29</th>\n      <td>141263</td>\n      <td>01/11/19 23:33</td>\n      <td>640 Spruce St, Boston, MA 02215</td>\n    </tr>\n    <tr>\n      <th>31</th>\n      <td>141265</td>\n      <td>01/01/19 16:52</td>\n      <td>853 Ridge St, Boston, MA 02215</td>\n    </tr>\n    <tr>\n      <th>37</th>\n      <td>141271</td>\n      <td>01/30/19 10:51</td>\n      <td>90 13th St, Boston, MA 02215</td>\n    </tr>\n    <tr>\n      <th>...</th>\n      <td>...</td>\n      <td>...</td>\n      <td>...</td>\n    </tr>\n    <tr>\n      <th>9627</th>\n      <td>150409</td>\n      <td>01/10/19 02:38</td>\n      <td>410 Forest St, Boston, MA 02215</td>\n    </tr>\n    <tr>\n      <th>9660</th>\n      <td>150440</td>\n      <td>01/10/19 19:19</td>\n      <td>82 Johnson St, Boston, MA 02215</td>\n    </tr>\n    <tr>\n      <th>9666</th>\n      <td>150445</td>\n      <td>01/11/19 13:56</td>\n      <td>147 Lincoln St, Boston, MA 02215</td>\n    </tr>\n    <tr>\n      <th>9694</th>\n      <td>150473</td>\n      <td>01/10/19 09:09</td>\n      <td>148 Hickory St, Boston, MA 02215</td>\n    </tr>\n    <tr>\n      <th>9722</th>\n      <td>150501</td>\n      <td>01/13/19 16:43</td>\n      <td>428 Cedar St, Boston, MA 02215</td>\n    </tr>\n  </tbody>\n</table>\n<p>1048 rows × 3 columns</p>\n</div>"
     },
     "execution_count": 15,
     "metadata": {},
     "output_type": "execute_result"
    }
   ],
   "source": [
    "jan_sales.loc[jan_sales['Purchase Address'].str.contains('Boston'), ['Order ID', 'Order Date', 'Purchase Address']]"
   ]
  },
  {
   "cell_type": "markdown",
   "metadata": {
    "pycharm": {
     "name": "#%% md\n"
    }
   },
   "source": [
    "**Example 4**: Select Order ID, Product and Price Each for orders where the ordered quantity is at least 3\n",
    "\n",
    "Note that even though the Quantity Ordered column stores numeric information, its values are encoded as strings: "
   ]
  },
  {
   "cell_type": "code",
   "execution_count": 16,
   "metadata": {
    "pycharm": {
     "name": "#%%\n"
    }
   },
   "outputs": [
    {
     "data": {
      "text/plain": "str"
     },
     "execution_count": 16,
     "metadata": {},
     "output_type": "execute_result"
    }
   ],
   "source": [
    "type(jan_sales['Quantity Ordered'][0])"
   ]
  },
  {
   "cell_type": "markdown",
   "metadata": {
    "pycharm": {
     "name": "#%% md\n"
    }
   },
   "source": [
    "So, we first need to transform the Quantity Ordered column to numeric type. <br>To that end, we use `pd.to_numeric()` function:"
   ]
  },
  {
   "cell_type": "code",
   "execution_count": 17,
   "metadata": {
    "pycharm": {
     "name": "#%%\n"
    }
   },
   "outputs": [],
   "source": [
    "jan_sales['Quantity Ordered'] = pd.to_numeric(jan_sales['Quantity Ordered'], errors='coerce')"
   ]
  },
  {
   "cell_type": "markdown",
   "metadata": {
    "pycharm": {
     "name": "#%% md\n"
    }
   },
   "source": [
    "Now, we can do the intended selection:"
   ]
  },
  {
   "cell_type": "code",
   "execution_count": 18,
   "metadata": {
    "pycharm": {
     "name": "#%%\n"
    }
   },
   "outputs": [
    {
     "data": {
      "text/plain": "     Order ID Price Each                 Product\n12     141246       2.99  AAA Batteries (4-pack)\n52     141285       2.99  AAA Batteries (4-pack)\n58     141290       3.84   AA Batteries (4-pack)\n73     141305       2.99  AAA Batteries (4-pack)\n84     141316       2.99  AAA Batteries (4-pack)\n...       ...        ...                     ...\n9513   150299       3.84   AA Batteries (4-pack)\n9590   150372       2.99  AAA Batteries (4-pack)\n9636   150417      11.99        Wired Headphones\n9659   150439      11.99        Wired Headphones\n9700   150479       3.84   AA Batteries (4-pack)\n\n[216 rows x 3 columns]",
      "text/html": "<div>\n<style scoped>\n    .dataframe tbody tr th:only-of-type {\n        vertical-align: middle;\n    }\n\n    .dataframe tbody tr th {\n        vertical-align: top;\n    }\n\n    .dataframe thead th {\n        text-align: right;\n    }\n</style>\n<table border=\"1\" class=\"dataframe\">\n  <thead>\n    <tr style=\"text-align: right;\">\n      <th></th>\n      <th>Order ID</th>\n      <th>Price Each</th>\n      <th>Product</th>\n    </tr>\n  </thead>\n  <tbody>\n    <tr>\n      <th>12</th>\n      <td>141246</td>\n      <td>2.99</td>\n      <td>AAA Batteries (4-pack)</td>\n    </tr>\n    <tr>\n      <th>52</th>\n      <td>141285</td>\n      <td>2.99</td>\n      <td>AAA Batteries (4-pack)</td>\n    </tr>\n    <tr>\n      <th>58</th>\n      <td>141290</td>\n      <td>3.84</td>\n      <td>AA Batteries (4-pack)</td>\n    </tr>\n    <tr>\n      <th>73</th>\n      <td>141305</td>\n      <td>2.99</td>\n      <td>AAA Batteries (4-pack)</td>\n    </tr>\n    <tr>\n      <th>84</th>\n      <td>141316</td>\n      <td>2.99</td>\n      <td>AAA Batteries (4-pack)</td>\n    </tr>\n    <tr>\n      <th>...</th>\n      <td>...</td>\n      <td>...</td>\n      <td>...</td>\n    </tr>\n    <tr>\n      <th>9513</th>\n      <td>150299</td>\n      <td>3.84</td>\n      <td>AA Batteries (4-pack)</td>\n    </tr>\n    <tr>\n      <th>9590</th>\n      <td>150372</td>\n      <td>2.99</td>\n      <td>AAA Batteries (4-pack)</td>\n    </tr>\n    <tr>\n      <th>9636</th>\n      <td>150417</td>\n      <td>11.99</td>\n      <td>Wired Headphones</td>\n    </tr>\n    <tr>\n      <th>9659</th>\n      <td>150439</td>\n      <td>11.99</td>\n      <td>Wired Headphones</td>\n    </tr>\n    <tr>\n      <th>9700</th>\n      <td>150479</td>\n      <td>3.84</td>\n      <td>AA Batteries (4-pack)</td>\n    </tr>\n  </tbody>\n</table>\n<p>216 rows × 3 columns</p>\n</div>"
     },
     "execution_count": 18,
     "metadata": {},
     "output_type": "execute_result"
    }
   ],
   "source": [
    "jan_sales.loc[jan_sales['Quantity Ordered'] >= 3, ['Order ID', 'Price Each', 'Product']]"
   ]
  },
  {
   "cell_type": "markdown",
   "metadata": {
    "pycharm": {
     "name": "#%% md\n"
    }
   },
   "source": [
    "## Load sales data for all months in 2019 and merge them into one data set"
   ]
  },
  {
   "cell_type": "markdown",
   "metadata": {
    "pycharm": {
     "name": "#%% md\n"
    }
   },
   "source": [
    "We need to load the sales data from all csv files (one for each month) available in the 'sales_data' directory. \n",
    "\n",
    "Let's first see how to take only .csv files from a given directory:"
   ]
  },
  {
   "cell_type": "code",
   "execution_count": 19,
   "metadata": {
    "pycharm": {
     "name": "#%%\n"
    }
   },
   "outputs": [],
   "source": [
    "def get_csv_files(fpath):\n",
    "    csv_files = []\n",
    "    if not fpath.is_dir():\n",
    "        print(\"Error! Not a directory! Cannot proceed\")\n",
    "        return\n",
    "    for f in fpath.iterdir():\n",
    "        if f.is_dir(): continue\n",
    "        if f.suffix == \".csv\":\n",
    "            csv_files.append(f)\n",
    "    return csv_files"
   ]
  },
  {
   "cell_type": "code",
   "execution_count": 20,
   "outputs": [
    {
     "data": {
      "text/plain": "[PosixPath('/Users/jelena/DataspellProjects/pandas2022/data/sales_data/Sales_December_2019.csv'),\n PosixPath('/Users/jelena/DataspellProjects/pandas2022/data/sales_data/Sales_April_2019.csv'),\n PosixPath('/Users/jelena/DataspellProjects/pandas2022/data/sales_data/Sales_February_2019.csv'),\n PosixPath('/Users/jelena/DataspellProjects/pandas2022/data/sales_data/Sales_March_2019.csv'),\n PosixPath('/Users/jelena/DataspellProjects/pandas2022/data/sales_data/Sales_August_2019.csv'),\n PosixPath('/Users/jelena/DataspellProjects/pandas2022/data/sales_data/Sales_May_2019.csv'),\n PosixPath('/Users/jelena/DataspellProjects/pandas2022/data/sales_data/Sales_November_2019.csv'),\n PosixPath('/Users/jelena/DataspellProjects/pandas2022/data/sales_data/Sales_October_2019.csv'),\n PosixPath('/Users/jelena/DataspellProjects/pandas2022/data/sales_data/Sales_January_2019.csv'),\n PosixPath('/Users/jelena/DataspellProjects/pandas2022/data/sales_data/Sales_September_2019.csv'),\n PosixPath('/Users/jelena/DataspellProjects/pandas2022/data/sales_data/Sales_July_2019.csv'),\n PosixPath('/Users/jelena/DataspellProjects/pandas2022/data/sales_data/Sales_June_2019.csv')]"
     },
     "execution_count": 20,
     "metadata": {},
     "output_type": "execute_result"
    }
   ],
   "source": [
    "get_csv_files(get_data_dir())"
   ],
   "metadata": {
    "collapsed": false,
    "pycharm": {
     "name": "#%%\n"
    }
   }
  },
  {
   "cell_type": "markdown",
   "metadata": {
    "pycharm": {
     "name": "#%% md\n"
    }
   },
   "source": [
    "We'll now take each csv file in turn, load the data from it and add the loaded data into a common DataFrame that stores sales data for the whole year.\n",
    "\n",
    "To merge two DataFrames, we'll use `pd.concat` function"
   ]
  },
  {
   "cell_type": "code",
   "execution_count": 21,
   "metadata": {
    "pycharm": {
     "name": "#%%\n"
    }
   },
   "outputs": [],
   "source": [
    "pd.concat?"
   ]
  },
  {
   "cell_type": "code",
   "execution_count": 22,
   "metadata": {
    "pycharm": {
     "name": "#%%\n"
    }
   },
   "outputs": [
    {
     "data": {
      "text/plain": "  Order ID               Product Quantity Ordered Price Each      Order Date  \\\n0   295665    Macbook Pro Laptop                1       1700  12/30/19 00:01   \n1   295666    LG Washing Machine                1      600.0  12/29/19 07:03   \n2   295667  USB-C Charging Cable                1      11.95  12/12/19 18:21   \n3   295668      27in FHD Monitor                1     149.99  12/22/19 15:13   \n4   295669  USB-C Charging Cable                1      11.95  12/18/19 12:38   \n\n                         Purchase Address  \n0  136 Church St, New York City, NY 10001  \n1     562 2nd St, New York City, NY 10001  \n2    277 Main St, New York City, NY 10001  \n3     410 6th St, San Francisco, CA 94016  \n4           43 Hill St, Atlanta, GA 30301  ",
      "text/html": "<div>\n<style scoped>\n    .dataframe tbody tr th:only-of-type {\n        vertical-align: middle;\n    }\n\n    .dataframe tbody tr th {\n        vertical-align: top;\n    }\n\n    .dataframe thead th {\n        text-align: right;\n    }\n</style>\n<table border=\"1\" class=\"dataframe\">\n  <thead>\n    <tr style=\"text-align: right;\">\n      <th></th>\n      <th>Order ID</th>\n      <th>Product</th>\n      <th>Quantity Ordered</th>\n      <th>Price Each</th>\n      <th>Order Date</th>\n      <th>Purchase Address</th>\n    </tr>\n  </thead>\n  <tbody>\n    <tr>\n      <th>0</th>\n      <td>295665</td>\n      <td>Macbook Pro Laptop</td>\n      <td>1</td>\n      <td>1700</td>\n      <td>12/30/19 00:01</td>\n      <td>136 Church St, New York City, NY 10001</td>\n    </tr>\n    <tr>\n      <th>1</th>\n      <td>295666</td>\n      <td>LG Washing Machine</td>\n      <td>1</td>\n      <td>600.0</td>\n      <td>12/29/19 07:03</td>\n      <td>562 2nd St, New York City, NY 10001</td>\n    </tr>\n    <tr>\n      <th>2</th>\n      <td>295667</td>\n      <td>USB-C Charging Cable</td>\n      <td>1</td>\n      <td>11.95</td>\n      <td>12/12/19 18:21</td>\n      <td>277 Main St, New York City, NY 10001</td>\n    </tr>\n    <tr>\n      <th>3</th>\n      <td>295668</td>\n      <td>27in FHD Monitor</td>\n      <td>1</td>\n      <td>149.99</td>\n      <td>12/22/19 15:13</td>\n      <td>410 6th St, San Francisco, CA 94016</td>\n    </tr>\n    <tr>\n      <th>4</th>\n      <td>295669</td>\n      <td>USB-C Charging Cable</td>\n      <td>1</td>\n      <td>11.95</td>\n      <td>12/18/19 12:38</td>\n      <td>43 Hill St, Atlanta, GA 30301</td>\n    </tr>\n  </tbody>\n</table>\n</div>"
     },
     "execution_count": 22,
     "metadata": {},
     "output_type": "execute_result"
    }
   ],
   "source": [
    "all_sales = pd.DataFrame()\n",
    "\n",
    "for sales_file in get_csv_files(get_data_dir()):\n",
    "    sales_data = pd.read_csv(sales_file)\n",
    "    all_sales = pd.concat([all_sales, sales_data])\n",
    "\n",
    "all_sales.head()"
   ]
  },
  {
   "cell_type": "markdown",
   "metadata": {
    "pycharm": {
     "name": "#%% md\n"
    }
   },
   "source": [
    "### Examine and save the DataFrame with the merged data"
   ]
  },
  {
   "cell_type": "code",
   "execution_count": 23,
   "metadata": {
    "pycharm": {
     "name": "#%%\n"
    }
   },
   "outputs": [
    {
     "data": {
      "text/plain": "(186850, 6)"
     },
     "execution_count": 23,
     "metadata": {},
     "output_type": "execute_result"
    }
   ],
   "source": [
    "all_sales.shape"
   ]
  },
  {
   "cell_type": "code",
   "execution_count": 24,
   "metadata": {
    "pycharm": {
     "name": "#%%\n"
    }
   },
   "outputs": [
    {
     "name": "stdout",
     "output_type": "stream",
     "text": [
      "<class 'pandas.core.frame.DataFrame'>\n",
      "Int64Index: 186850 entries, 0 to 13621\n",
      "Data columns (total 6 columns):\n",
      " #   Column            Non-Null Count   Dtype \n",
      "---  ------            --------------   ----- \n",
      " 0   Order ID          186305 non-null  object\n",
      " 1   Product           186305 non-null  object\n",
      " 2   Quantity Ordered  186305 non-null  object\n",
      " 3   Price Each        186305 non-null  object\n",
      " 4   Order Date        186305 non-null  object\n",
      " 5   Purchase Address  186305 non-null  object\n",
      "dtypes: object(6)\n",
      "memory usage: 10.0+ MB\n"
     ]
    }
   ],
   "source": [
    "all_sales.info()"
   ]
  },
  {
   "cell_type": "markdown",
   "metadata": {
    "pycharm": {
     "name": "#%% md\n"
    }
   },
   "source": [
    "Note the difference between the number of entries (rows) and the index values. It seems that some of the loaded files have overlaping indexes. To fix this, we need to reset the index of the merged data frame."
   ]
  },
  {
   "cell_type": "code",
   "execution_count": 25,
   "metadata": {
    "pycharm": {
     "name": "#%%\n"
    }
   },
   "outputs": [],
   "source": [
    "all_sales.reset_index(drop=True, inplace=True)"
   ]
  },
  {
   "cell_type": "code",
   "execution_count": 26,
   "metadata": {
    "pycharm": {
     "name": "#%%\n"
    }
   },
   "outputs": [
    {
     "name": "stdout",
     "output_type": "stream",
     "text": [
      "<class 'pandas.core.frame.DataFrame'>\n",
      "RangeIndex: 186850 entries, 0 to 186849\n",
      "Data columns (total 6 columns):\n",
      " #   Column            Non-Null Count   Dtype \n",
      "---  ------            --------------   ----- \n",
      " 0   Order ID          186305 non-null  object\n",
      " 1   Product           186305 non-null  object\n",
      " 2   Quantity Ordered  186305 non-null  object\n",
      " 3   Price Each        186305 non-null  object\n",
      " 4   Order Date        186305 non-null  object\n",
      " 5   Purchase Address  186305 non-null  object\n",
      "dtypes: object(6)\n",
      "memory usage: 8.6+ MB\n"
     ]
    }
   ],
   "source": [
    "all_sales.info()"
   ]
  },
  {
   "cell_type": "markdown",
   "metadata": {
    "pycharm": {
     "name": "#%% md\n"
    }
   },
   "source": [
    "Write the merged data to a file, in case we need to get back to it"
   ]
  },
  {
   "cell_type": "code",
   "execution_count": 27,
   "metadata": {
    "pycharm": {
     "name": "#%%\n"
    }
   },
   "outputs": [],
   "source": [
    "all_sales.to_csv(Path.cwd() / 'data' / 'all_sales_data.csv', index=False)"
   ]
  },
  {
   "cell_type": "markdown",
   "metadata": {
    "pycharm": {
     "name": "#%% md\n"
    }
   },
   "source": [
    "## Explore the merged sales data "
   ]
  },
  {
   "cell_type": "markdown",
   "metadata": {
    "pycharm": {
     "name": "#%% md\n"
    }
   },
   "source": [
    "Rename the DataFrame, to reduce the typing: "
   ]
  },
  {
   "cell_type": "code",
   "execution_count": 28,
   "metadata": {
    "pycharm": {
     "name": "#%%\n"
    }
   },
   "outputs": [],
   "source": [
    "sales = all_sales"
   ]
  },
  {
   "cell_type": "markdown",
   "metadata": {
    "pycharm": {
     "name": "#%% md\n"
    }
   },
   "source": [
    "Note that we are just giving a new name (reference) to the same object, that is, we are not creating a new DataFrame object with this statement. <br>\n",
    "We can verify that by comparing the two data frame references:"
   ]
  },
  {
   "cell_type": "code",
   "execution_count": 29,
   "metadata": {
    "pycharm": {
     "name": "#%%\n"
    }
   },
   "outputs": [
    {
     "data": {
      "text/plain": "True"
     },
     "execution_count": 29,
     "metadata": {},
     "output_type": "execute_result"
    }
   ],
   "source": [
    "id(sales) == id(all_sales)"
   ]
  },
  {
   "cell_type": "markdown",
   "metadata": {
    "pycharm": {
     "name": "#%% md\n"
    }
   },
   "source": [
    "To create a new DataFrame object, we would need to do, for example, the following:"
   ]
  },
  {
   "cell_type": "code",
   "execution_count": 30,
   "metadata": {
    "pycharm": {
     "name": "#%%\n"
    }
   },
   "outputs": [
    {
     "data": {
      "text/plain": "False"
     },
     "execution_count": 30,
     "metadata": {},
     "output_type": "execute_result"
    }
   ],
   "source": [
    "tmp = all_sales.copy()\n",
    "tmp is all_sales"
   ]
  },
  {
   "cell_type": "code",
   "execution_count": 31,
   "metadata": {
    "pycharm": {
     "name": "#%%\n"
    }
   },
   "outputs": [],
   "source": [
    "del tmp"
   ]
  },
  {
   "cell_type": "markdown",
   "metadata": {
    "pycharm": {
     "name": "#%% md\n"
    }
   },
   "source": [
    "Let's take another look at the data..."
   ]
  },
  {
   "cell_type": "code",
   "execution_count": 32,
   "metadata": {
    "pycharm": {
     "name": "#%%\n"
    }
   },
   "outputs": [
    {
     "data": {
      "text/plain": "  Order ID               Product Quantity Ordered Price Each      Order Date  \\\n0   295665    Macbook Pro Laptop                1       1700  12/30/19 00:01   \n1   295666    LG Washing Machine                1      600.0  12/29/19 07:03   \n2   295667  USB-C Charging Cable                1      11.95  12/12/19 18:21   \n3   295668      27in FHD Monitor                1     149.99  12/22/19 15:13   \n4   295669  USB-C Charging Cable                1      11.95  12/18/19 12:38   \n\n                         Purchase Address  \n0  136 Church St, New York City, NY 10001  \n1     562 2nd St, New York City, NY 10001  \n2    277 Main St, New York City, NY 10001  \n3     410 6th St, San Francisco, CA 94016  \n4           43 Hill St, Atlanta, GA 30301  ",
      "text/html": "<div>\n<style scoped>\n    .dataframe tbody tr th:only-of-type {\n        vertical-align: middle;\n    }\n\n    .dataframe tbody tr th {\n        vertical-align: top;\n    }\n\n    .dataframe thead th {\n        text-align: right;\n    }\n</style>\n<table border=\"1\" class=\"dataframe\">\n  <thead>\n    <tr style=\"text-align: right;\">\n      <th></th>\n      <th>Order ID</th>\n      <th>Product</th>\n      <th>Quantity Ordered</th>\n      <th>Price Each</th>\n      <th>Order Date</th>\n      <th>Purchase Address</th>\n    </tr>\n  </thead>\n  <tbody>\n    <tr>\n      <th>0</th>\n      <td>295665</td>\n      <td>Macbook Pro Laptop</td>\n      <td>1</td>\n      <td>1700</td>\n      <td>12/30/19 00:01</td>\n      <td>136 Church St, New York City, NY 10001</td>\n    </tr>\n    <tr>\n      <th>1</th>\n      <td>295666</td>\n      <td>LG Washing Machine</td>\n      <td>1</td>\n      <td>600.0</td>\n      <td>12/29/19 07:03</td>\n      <td>562 2nd St, New York City, NY 10001</td>\n    </tr>\n    <tr>\n      <th>2</th>\n      <td>295667</td>\n      <td>USB-C Charging Cable</td>\n      <td>1</td>\n      <td>11.95</td>\n      <td>12/12/19 18:21</td>\n      <td>277 Main St, New York City, NY 10001</td>\n    </tr>\n    <tr>\n      <th>3</th>\n      <td>295668</td>\n      <td>27in FHD Monitor</td>\n      <td>1</td>\n      <td>149.99</td>\n      <td>12/22/19 15:13</td>\n      <td>410 6th St, San Francisco, CA 94016</td>\n    </tr>\n    <tr>\n      <th>4</th>\n      <td>295669</td>\n      <td>USB-C Charging Cable</td>\n      <td>1</td>\n      <td>11.95</td>\n      <td>12/18/19 12:38</td>\n      <td>43 Hill St, Atlanta, GA 30301</td>\n    </tr>\n  </tbody>\n</table>\n</div>"
     },
     "execution_count": 32,
     "metadata": {},
     "output_type": "execute_result"
    }
   ],
   "source": [
    "sales.head()"
   ]
  },
  {
   "cell_type": "code",
   "execution_count": 33,
   "metadata": {
    "pycharm": {
     "name": "#%%\n"
    }
   },
   "outputs": [
    {
     "name": "stdout",
     "output_type": "stream",
     "text": [
      "<class 'pandas.core.frame.DataFrame'>\n",
      "RangeIndex: 186850 entries, 0 to 186849\n",
      "Data columns (total 6 columns):\n",
      " #   Column            Non-Null Count   Dtype \n",
      "---  ------            --------------   ----- \n",
      " 0   Order ID          186305 non-null  object\n",
      " 1   Product           186305 non-null  object\n",
      " 2   Quantity Ordered  186305 non-null  object\n",
      " 3   Price Each        186305 non-null  object\n",
      " 4   Order Date        186305 non-null  object\n",
      " 5   Purchase Address  186305 non-null  object\n",
      "dtypes: object(6)\n",
      "memory usage: 8.6+ MB\n"
     ]
    }
   ],
   "source": [
    "sales.info()"
   ]
  },
  {
   "cell_type": "markdown",
   "metadata": {
    "pycharm": {
     "name": "#%% md\n"
    }
   },
   "source": [
    "Note that all the data are stored as object (string) values. We will need to change that for the Quantity Ordered, Price Each and Order Date columns. But before that, we will handle missing values.\n",
    "\n",
    "### Remove observations with all missing values"
   ]
  },
  {
   "cell_type": "markdown",
   "metadata": {
    "pycharm": {
     "name": "#%% md\n"
    }
   },
   "source": [
    "Let's first check for the presence of missing values across columns"
   ]
  },
  {
   "cell_type": "code",
   "execution_count": 34,
   "metadata": {
    "pycharm": {
     "name": "#%%\n"
    }
   },
   "outputs": [
    {
     "data": {
      "text/plain": "Order ID            545\nProduct             545\nQuantity Ordered    545\nPrice Each          545\nOrder Date          545\nPurchase Address    545\ndtype: int64"
     },
     "execution_count": 34,
     "metadata": {},
     "output_type": "execute_result"
    }
   ],
   "source": [
    "sales.isna().sum()"
   ]
  },
  {
   "cell_type": "markdown",
   "metadata": {
    "pycharm": {
     "name": "#%% md\n"
    }
   },
   "source": [
    "It seems that entire rows of data are missing, that is, we have observations with all missing values. <br>Let's take a sample to check that:"
   ]
  },
  {
   "cell_type": "code",
   "execution_count": 35,
   "metadata": {
    "pycharm": {
     "name": "#%%\n"
    }
   },
   "outputs": [
    {
     "data": {
      "text/plain": "       Order ID Product Quantity Ordered Price Each Order Date  \\\n158833      NaN     NaN              NaN        NaN        NaN   \n146044      NaN     NaN              NaN        NaN        NaN   \n171893      NaN     NaN              NaN        NaN        NaN   \n10574       NaN     NaN              NaN        NaN        NaN   \n135377      NaN     NaN              NaN        NaN        NaN   \n110410      NaN     NaN              NaN        NaN        NaN   \n171377      NaN     NaN              NaN        NaN        NaN   \n45017       NaN     NaN              NaN        NaN        NaN   \n16011       NaN     NaN              NaN        NaN        NaN   \n125065      NaN     NaN              NaN        NaN        NaN   \n\n       Purchase Address  \n158833              NaN  \n146044              NaN  \n171893              NaN  \n10574               NaN  \n135377              NaN  \n110410              NaN  \n171377              NaN  \n45017               NaN  \n16011               NaN  \n125065              NaN  ",
      "text/html": "<div>\n<style scoped>\n    .dataframe tbody tr th:only-of-type {\n        vertical-align: middle;\n    }\n\n    .dataframe tbody tr th {\n        vertical-align: top;\n    }\n\n    .dataframe thead th {\n        text-align: right;\n    }\n</style>\n<table border=\"1\" class=\"dataframe\">\n  <thead>\n    <tr style=\"text-align: right;\">\n      <th></th>\n      <th>Order ID</th>\n      <th>Product</th>\n      <th>Quantity Ordered</th>\n      <th>Price Each</th>\n      <th>Order Date</th>\n      <th>Purchase Address</th>\n    </tr>\n  </thead>\n  <tbody>\n    <tr>\n      <th>158833</th>\n      <td>NaN</td>\n      <td>NaN</td>\n      <td>NaN</td>\n      <td>NaN</td>\n      <td>NaN</td>\n      <td>NaN</td>\n    </tr>\n    <tr>\n      <th>146044</th>\n      <td>NaN</td>\n      <td>NaN</td>\n      <td>NaN</td>\n      <td>NaN</td>\n      <td>NaN</td>\n      <td>NaN</td>\n    </tr>\n    <tr>\n      <th>171893</th>\n      <td>NaN</td>\n      <td>NaN</td>\n      <td>NaN</td>\n      <td>NaN</td>\n      <td>NaN</td>\n      <td>NaN</td>\n    </tr>\n    <tr>\n      <th>10574</th>\n      <td>NaN</td>\n      <td>NaN</td>\n      <td>NaN</td>\n      <td>NaN</td>\n      <td>NaN</td>\n      <td>NaN</td>\n    </tr>\n    <tr>\n      <th>135377</th>\n      <td>NaN</td>\n      <td>NaN</td>\n      <td>NaN</td>\n      <td>NaN</td>\n      <td>NaN</td>\n      <td>NaN</td>\n    </tr>\n    <tr>\n      <th>110410</th>\n      <td>NaN</td>\n      <td>NaN</td>\n      <td>NaN</td>\n      <td>NaN</td>\n      <td>NaN</td>\n      <td>NaN</td>\n    </tr>\n    <tr>\n      <th>171377</th>\n      <td>NaN</td>\n      <td>NaN</td>\n      <td>NaN</td>\n      <td>NaN</td>\n      <td>NaN</td>\n      <td>NaN</td>\n    </tr>\n    <tr>\n      <th>45017</th>\n      <td>NaN</td>\n      <td>NaN</td>\n      <td>NaN</td>\n      <td>NaN</td>\n      <td>NaN</td>\n      <td>NaN</td>\n    </tr>\n    <tr>\n      <th>16011</th>\n      <td>NaN</td>\n      <td>NaN</td>\n      <td>NaN</td>\n      <td>NaN</td>\n      <td>NaN</td>\n      <td>NaN</td>\n    </tr>\n    <tr>\n      <th>125065</th>\n      <td>NaN</td>\n      <td>NaN</td>\n      <td>NaN</td>\n      <td>NaN</td>\n      <td>NaN</td>\n      <td>NaN</td>\n    </tr>\n  </tbody>\n</table>\n</div>"
     },
     "execution_count": 35,
     "metadata": {},
     "output_type": "execute_result"
    }
   ],
   "source": [
    "sales.loc[sales.Product.isna(),].sample(10)"
   ]
  },
  {
   "cell_type": "markdown",
   "metadata": {
    "pycharm": {
     "name": "#%% md\n"
    }
   },
   "source": [
    "Remove observations with all missing values"
   ]
  },
  {
   "cell_type": "code",
   "execution_count": 36,
   "metadata": {
    "pycharm": {
     "name": "#%%\n"
    }
   },
   "outputs": [],
   "source": [
    "sales.dropna(how='all', inplace=True)"
   ]
  },
  {
   "cell_type": "code",
   "execution_count": 37,
   "metadata": {
    "pycharm": {
     "name": "#%%\n"
    }
   },
   "outputs": [
    {
     "data": {
      "text/plain": "0"
     },
     "execution_count": 37,
     "metadata": {},
     "output_type": "execute_result"
    }
   ],
   "source": [
    "sales.isna().sum().sum()"
   ]
  },
  {
   "cell_type": "markdown",
   "metadata": {
    "pycharm": {
     "name": "#%% md\n"
    }
   },
   "source": [
    "### Convert Quantity Ordered and Price Each to numeric values, and Order Date into datetime type\n",
    "\n",
    "A useful reference for this type of conversion can be found in [this StackOverflow thread](https://stackoverflow.com/questions/15891038/change-column-type-in-pandas)"
   ]
  },
  {
   "cell_type": "markdown",
   "metadata": {
    "pycharm": {
     "name": "#%% md\n"
    }
   },
   "source": [
    "Let's start by taking another look at the columns' data types"
   ]
  },
  {
   "cell_type": "code",
   "execution_count": 38,
   "metadata": {
    "pycharm": {
     "name": "#%%\n"
    }
   },
   "outputs": [
    {
     "data": {
      "text/plain": "Order ID            object\nProduct             object\nQuantity Ordered    object\nPrice Each          object\nOrder Date          object\nPurchase Address    object\ndtype: object"
     },
     "execution_count": 38,
     "metadata": {},
     "output_type": "execute_result"
    }
   ],
   "source": [
    "sales.dtypes"
   ]
  },
  {
   "cell_type": "markdown",
   "metadata": {
    "pycharm": {
     "name": "#%% md\n"
    }
   },
   "source": [
    "First, we'll try to convert Quantity Ordered to a numeric column"
   ]
  },
  {
   "cell_type": "code",
   "execution_count": 39,
   "metadata": {
    "pycharm": {
     "name": "#%%\n"
    }
   },
   "outputs": [
    {
     "name": "stdout",
     "output_type": "stream",
     "text": [
      "Unable to parse string \"Quantity Ordered\" at position 254\n"
     ]
    }
   ],
   "source": [
    "try:\n",
    "    sales['Quantity Ordered'] = pd.to_numeric(sales['Quantity Ordered'])\n",
    "except ValueError as err:\n",
    "    print(err)"
   ]
  },
  {
   "cell_type": "markdown",
   "metadata": {
    "pycharm": {
     "name": "#%% md\n"
    }
   },
   "source": [
    "Take a look at the entry (observation) where the error occurred"
   ]
  },
  {
   "cell_type": "code",
   "execution_count": 40,
   "metadata": {
    "pycharm": {
     "name": "#%%\n"
    }
   },
   "outputs": [
    {
     "data": {
      "text/plain": "Order ID                    Order ID\nProduct                      Product\nQuantity Ordered    Quantity Ordered\nPrice Each                Price Each\nOrder Date                Order Date\nPurchase Address    Purchase Address\nName: 254, dtype: object"
     },
     "execution_count": 40,
     "metadata": {},
     "output_type": "execute_result"
    }
   ],
   "source": [
    "sales.iloc[254, :]"
   ]
  },
  {
   "cell_type": "markdown",
   "metadata": {
    "pycharm": {
     "name": "#%% md\n"
    }
   },
   "source": [
    "This looks like some erroneous data that we do not need. So, we will do the conversion (to numeric type) and, along the way, replace such erronous data with NaN (that is, mark the data as missing)  "
   ]
  },
  {
   "cell_type": "code",
   "execution_count": 41,
   "metadata": {
    "pycharm": {
     "name": "#%%\n"
    }
   },
   "outputs": [],
   "source": [
    "sales['Quantity Ordered'] = pd.to_numeric(sales['Quantity Ordered'], errors='coerce')"
   ]
  },
  {
   "cell_type": "markdown",
   "metadata": {
    "pycharm": {
     "name": "#%% md\n"
    }
   },
   "source": [
    "Compute the basic statistics for the newly created numeric column"
   ]
  },
  {
   "cell_type": "code",
   "execution_count": 42,
   "metadata": {
    "pycharm": {
     "name": "#%%\n"
    }
   },
   "outputs": [
    {
     "data": {
      "text/plain": "count    185950.000000\nmean          1.124383\nstd           0.442793\nmin           1.000000\n25%           1.000000\n50%           1.000000\n75%           1.000000\nmax           9.000000\nName: Quantity Ordered, dtype: float64"
     },
     "execution_count": 42,
     "metadata": {},
     "output_type": "execute_result"
    }
   ],
   "source": [
    "sales['Quantity Ordered'].describe()"
   ]
  },
  {
   "cell_type": "markdown",
   "metadata": {
    "pycharm": {
     "name": "#%% md\n"
    }
   },
   "source": [
    "Get the number and proportion of the introduced missing values in the Quantity Ordered column"
   ]
  },
  {
   "cell_type": "code",
   "execution_count": 43,
   "metadata": {
    "pycharm": {
     "name": "#%%\n"
    }
   },
   "outputs": [
    {
     "data": {
      "text/plain": "355"
     },
     "execution_count": 43,
     "metadata": {},
     "output_type": "execute_result"
    }
   ],
   "source": [
    "sales['Quantity Ordered'].isna().sum()"
   ]
  },
  {
   "cell_type": "code",
   "execution_count": 44,
   "metadata": {
    "pycharm": {
     "name": "#%%\n"
    }
   },
   "outputs": [
    {
     "data": {
      "text/plain": "0.0019054775770913288"
     },
     "execution_count": 44,
     "metadata": {},
     "output_type": "execute_result"
    }
   ],
   "source": [
    "sales['Quantity Ordered'].isna().mean()"
   ]
  },
  {
   "cell_type": "markdown",
   "metadata": {
    "pycharm": {
     "name": "#%% md\n"
    }
   },
   "source": [
    "Do the same for the Price Each column"
   ]
  },
  {
   "cell_type": "code",
   "execution_count": 45,
   "metadata": {
    "pycharm": {
     "name": "#%%\n"
    }
   },
   "outputs": [],
   "source": [
    "sales['Price Each'] = pd.to_numeric(sales['Price Each'], errors='coerce')"
   ]
  },
  {
   "cell_type": "code",
   "execution_count": 46,
   "metadata": {
    "pycharm": {
     "name": "#%%\n"
    }
   },
   "outputs": [
    {
     "data": {
      "text/plain": "count    185950.000000\nmean        184.399735\nstd         332.731330\nmin           2.990000\n25%          11.950000\n50%          14.950000\n75%         150.000000\nmax        1700.000000\nName: Price Each, dtype: float64"
     },
     "execution_count": 46,
     "metadata": {},
     "output_type": "execute_result"
    }
   ],
   "source": [
    "sales['Price Each'].describe()"
   ]
  },
  {
   "cell_type": "code",
   "execution_count": 47,
   "metadata": {
    "pycharm": {
     "name": "#%%\n"
    }
   },
   "outputs": [
    {
     "data": {
      "text/plain": "355"
     },
     "execution_count": 47,
     "metadata": {},
     "output_type": "execute_result"
    }
   ],
   "source": [
    "sales['Price Each'].isna().sum()"
   ]
  },
  {
   "cell_type": "markdown",
   "metadata": {
    "pycharm": {
     "name": "#%% md\n"
    }
   },
   "source": [
    "Drop rows where ordered quantity or unit price are unavailable (NaN)"
   ]
  },
  {
   "cell_type": "code",
   "execution_count": 48,
   "metadata": {
    "pycharm": {
     "name": "#%%\n"
    }
   },
   "outputs": [],
   "source": [
    "rows_to_drop = sales.loc[sales['Quantity Ordered'].isna() | sales['Price Each'].isna(),].index"
   ]
  },
  {
   "cell_type": "code",
   "execution_count": 49,
   "metadata": {
    "pycharm": {
     "name": "#%%\n"
    }
   },
   "outputs": [],
   "source": [
    "sales.drop(rows_to_drop, inplace=True)"
   ]
  },
  {
   "cell_type": "markdown",
   "metadata": {
    "pycharm": {
     "name": "#%% md\n"
    }
   },
   "source": [
    "Check the size of the dataset after the removal of rows with missing values"
   ]
  },
  {
   "cell_type": "code",
   "execution_count": 50,
   "metadata": {
    "pycharm": {
     "name": "#%%\n"
    }
   },
   "outputs": [
    {
     "data": {
      "text/plain": "(185950, 6)"
     },
     "execution_count": 50,
     "metadata": {},
     "output_type": "execute_result"
    }
   ],
   "source": [
    "sales.shape"
   ]
  },
  {
   "cell_type": "markdown",
   "metadata": {
    "pycharm": {
     "name": "#%% md\n"
    }
   },
   "source": [
    "Finally, transform the Order Date to datetime type"
   ]
  },
  {
   "cell_type": "code",
   "execution_count": 51,
   "metadata": {
    "pycharm": {
     "name": "#%%\n"
    }
   },
   "outputs": [],
   "source": [
    "try:\n",
    "    sales['Order Date'] =  pd.to_datetime(sales['Order Date'], infer_datetime_format=True)\n",
    "except ValueError as err:\n",
    "    print(err)"
   ]
  },
  {
   "cell_type": "markdown",
   "metadata": {
    "pycharm": {
     "name": "#%% md\n"
    }
   },
   "source": [
    "It seems that this transformation went well. \n",
    "\n",
    "Let's check the data types after the transformations done above"
   ]
  },
  {
   "cell_type": "code",
   "execution_count": 52,
   "metadata": {
    "pycharm": {
     "name": "#%%\n"
    }
   },
   "outputs": [
    {
     "name": "stdout",
     "output_type": "stream",
     "text": [
      "<class 'pandas.core.frame.DataFrame'>\n",
      "Int64Index: 185950 entries, 0 to 186849\n",
      "Data columns (total 6 columns):\n",
      " #   Column            Non-Null Count   Dtype         \n",
      "---  ------            --------------   -----         \n",
      " 0   Order ID          185950 non-null  object        \n",
      " 1   Product           185950 non-null  object        \n",
      " 2   Quantity Ordered  185950 non-null  float64       \n",
      " 3   Price Each        185950 non-null  float64       \n",
      " 4   Order Date        185950 non-null  datetime64[ns]\n",
      " 5   Purchase Address  185950 non-null  object        \n",
      "dtypes: datetime64[ns](1), float64(2), object(3)\n",
      "memory usage: 9.9+ MB\n"
     ]
    }
   ],
   "source": [
    "sales.info()"
   ]
  },
  {
   "cell_type": "markdown",
   "metadata": {
    "pycharm": {
     "name": "#%% md\n"
    }
   },
   "source": [
    "### Add Purchase City column\n",
    "\n",
    "Let's see how we can create a new column out of an existing one.\n",
    "\n",
    "Since we may be interested in comparing sales across cities, we will add a column with the name of the city where the order was made. The city name should be followed by the state label, given in brackets (e.g. 'Atlanta (GA)'), to disambigute cities with common names.   "
   ]
  },
  {
   "cell_type": "markdown",
   "metadata": {
    "pycharm": {
     "name": "#%% md\n"
    }
   },
   "source": [
    "Take a sample of values of the Purchase Address column, to examine how addresses are formatted"
   ]
  },
  {
   "cell_type": "code",
   "execution_count": 53,
   "metadata": {
    "pycharm": {
     "name": "#%%\n"
    }
   },
   "outputs": [
    {
     "data": {
      "text/plain": "0    136 Church St, New York City, NY 10001\n1       562 2nd St, New York City, NY 10001\n2      277 Main St, New York City, NY 10001\n3       410 6th St, San Francisco, CA 94016\n4             43 Hill St, Atlanta, GA 30301\nName: Purchase Address, dtype: object"
     },
     "execution_count": 53,
     "metadata": {},
     "output_type": "execute_result"
    }
   ],
   "source": [
    "sales['Purchase Address'].head()"
   ]
  },
  {
   "cell_type": "markdown",
   "metadata": {
    "pycharm": {
     "name": "#%% md\n"
    }
   },
   "source": [
    "We will start by creating a function that can extract the city (and state label) from the Purchase Address column. "
   ]
  },
  {
   "cell_type": "code",
   "execution_count": 54,
   "metadata": {
    "pycharm": {
     "name": "#%%\n"
    }
   },
   "outputs": [],
   "source": [
    "def get_city(address):\n",
    "    street, city, state = address.split(',')\n",
    "    st_label, st_zip = state.lstrip().split()\n",
    "    return f\"{city.lstrip()} ({st_label})\""
   ]
  },
  {
   "cell_type": "markdown",
   "metadata": {
    "pycharm": {
     "name": "#%% md\n"
    }
   },
   "source": [
    "Next, we will *apply* the `get_city` function to each value of the Purchase Address series. First, on a sample of addresses:"
   ]
  },
  {
   "cell_type": "code",
   "execution_count": 55,
   "metadata": {
    "pycharm": {
     "name": "#%%\n"
    }
   },
   "outputs": [
    {
     "data": {
      "text/plain": "163804    San Francisco (CA)\n118754           Austin (TX)\n42437     New York City (NY)\n123237    New York City (NY)\n185117    San Francisco (CA)\n64000            Boston (MA)\n180399           Boston (MA)\n4844             Boston (MA)\n130072         Portland (OR)\n177338    San Francisco (CA)\nName: Purchase Address, dtype: object"
     },
     "execution_count": 55,
     "metadata": {},
     "output_type": "execute_result"
    }
   ],
   "source": [
    "sales['Purchase Address'].sample(10).apply(get_city)"
   ]
  },
  {
   "cell_type": "markdown",
   "metadata": {
    "pycharm": {
     "name": "#%% md\n"
    }
   },
   "source": [
    "Then, on all `Purchase Address` values, to create the new column `Purchase City`"
   ]
  },
  {
   "cell_type": "code",
   "execution_count": 56,
   "metadata": {
    "pycharm": {
     "name": "#%%\n"
    }
   },
   "outputs": [],
   "source": [
    "sales['Purchase City'] = sales['Purchase Address'].apply(get_city)"
   ]
  },
  {
   "cell_type": "code",
   "execution_count": 57,
   "metadata": {
    "pycharm": {
     "name": "#%%\n"
    }
   },
   "outputs": [
    {
     "data": {
      "text/plain": "  Order ID               Product  Quantity Ordered  Price Each  \\\n0   295665    Macbook Pro Laptop               1.0     1700.00   \n1   295666    LG Washing Machine               1.0      600.00   \n2   295667  USB-C Charging Cable               1.0       11.95   \n3   295668      27in FHD Monitor               1.0      149.99   \n4   295669  USB-C Charging Cable               1.0       11.95   \n\n           Order Date                        Purchase Address  \\\n0 2019-12-30 00:01:00  136 Church St, New York City, NY 10001   \n1 2019-12-29 07:03:00     562 2nd St, New York City, NY 10001   \n2 2019-12-12 18:21:00    277 Main St, New York City, NY 10001   \n3 2019-12-22 15:13:00     410 6th St, San Francisco, CA 94016   \n4 2019-12-18 12:38:00           43 Hill St, Atlanta, GA 30301   \n\n        Purchase City  \n0  New York City (NY)  \n1  New York City (NY)  \n2  New York City (NY)  \n3  San Francisco (CA)  \n4        Atlanta (GA)  ",
      "text/html": "<div>\n<style scoped>\n    .dataframe tbody tr th:only-of-type {\n        vertical-align: middle;\n    }\n\n    .dataframe tbody tr th {\n        vertical-align: top;\n    }\n\n    .dataframe thead th {\n        text-align: right;\n    }\n</style>\n<table border=\"1\" class=\"dataframe\">\n  <thead>\n    <tr style=\"text-align: right;\">\n      <th></th>\n      <th>Order ID</th>\n      <th>Product</th>\n      <th>Quantity Ordered</th>\n      <th>Price Each</th>\n      <th>Order Date</th>\n      <th>Purchase Address</th>\n      <th>Purchase City</th>\n    </tr>\n  </thead>\n  <tbody>\n    <tr>\n      <th>0</th>\n      <td>295665</td>\n      <td>Macbook Pro Laptop</td>\n      <td>1.0</td>\n      <td>1700.00</td>\n      <td>2019-12-30 00:01:00</td>\n      <td>136 Church St, New York City, NY 10001</td>\n      <td>New York City (NY)</td>\n    </tr>\n    <tr>\n      <th>1</th>\n      <td>295666</td>\n      <td>LG Washing Machine</td>\n      <td>1.0</td>\n      <td>600.00</td>\n      <td>2019-12-29 07:03:00</td>\n      <td>562 2nd St, New York City, NY 10001</td>\n      <td>New York City (NY)</td>\n    </tr>\n    <tr>\n      <th>2</th>\n      <td>295667</td>\n      <td>USB-C Charging Cable</td>\n      <td>1.0</td>\n      <td>11.95</td>\n      <td>2019-12-12 18:21:00</td>\n      <td>277 Main St, New York City, NY 10001</td>\n      <td>New York City (NY)</td>\n    </tr>\n    <tr>\n      <th>3</th>\n      <td>295668</td>\n      <td>27in FHD Monitor</td>\n      <td>1.0</td>\n      <td>149.99</td>\n      <td>2019-12-22 15:13:00</td>\n      <td>410 6th St, San Francisco, CA 94016</td>\n      <td>San Francisco (CA)</td>\n    </tr>\n    <tr>\n      <th>4</th>\n      <td>295669</td>\n      <td>USB-C Charging Cable</td>\n      <td>1.0</td>\n      <td>11.95</td>\n      <td>2019-12-18 12:38:00</td>\n      <td>43 Hill St, Atlanta, GA 30301</td>\n      <td>Atlanta (GA)</td>\n    </tr>\n  </tbody>\n</table>\n</div>"
     },
     "execution_count": 57,
     "metadata": {},
     "output_type": "execute_result"
    }
   ],
   "source": [
    "sales.head()"
   ]
  },
  {
   "cell_type": "markdown",
   "metadata": {
    "pycharm": {
     "name": "#%% md\n"
    }
   },
   "source": [
    "## Exploratory data analysis\n",
    "\n",
    "Let's now try to answer some sales-related questions by exploring the 2019 sales data"
   ]
  },
  {
   "cell_type": "markdown",
   "metadata": {
    "pycharm": {
     "name": "#%% md\n"
    }
   },
   "source": [
    "### Task 1. What was the best month for sales? How much was earned that month?"
   ]
  },
  {
   "cell_type": "markdown",
   "metadata": {
    "pycharm": {
     "name": "#%% md\n"
    }
   },
   "source": [
    "To answer this question, we need to:\n",
    "- compute total revenue per order\n",
    "- extract month from the Order Date, so that we can group orders on the montly basis\n",
    "- compute total revenue per month"
   ]
  },
  {
   "cell_type": "markdown",
   "metadata": {
    "pycharm": {
     "name": "#%% md\n"
    }
   },
   "source": [
    "**Step 1**: Compute total revenue per order"
   ]
  },
  {
   "cell_type": "code",
   "execution_count": 58,
   "metadata": {
    "pycharm": {
     "name": "#%%\n"
    }
   },
   "outputs": [],
   "source": [
    "sales['Total price'] = sales['Quantity Ordered'] * sales['Price Each']"
   ]
  },
  {
   "cell_type": "markdown",
   "metadata": {
    "pycharm": {
     "name": "#%% md\n"
    }
   },
   "source": [
    "**Step 2**: Extract month from the Order Date"
   ]
  },
  {
   "cell_type": "markdown",
   "metadata": {
    "pycharm": {
     "name": "#%% md\n"
    }
   },
   "source": [
    "Note that Order Date is a datetime Series. We can use `dt` to get access to each value in the Series as a datetime object. <br>Having access to a particular order date as a datetime object, we can take any element of the order date and time through appropriate fields (year, month, day, etc.)"
   ]
  },
  {
   "cell_type": "code",
   "execution_count": 59,
   "metadata": {
    "pycharm": {
     "name": "#%%\n"
    }
   },
   "outputs": [],
   "source": [
    "sales['Order Month'] = sales['Order Date'].dt.month"
   ]
  },
  {
   "cell_type": "code",
   "execution_count": 60,
   "metadata": {
    "pycharm": {
     "name": "#%%\n"
    }
   },
   "outputs": [
    {
     "data": {
      "text/plain": "       Order ID                 Product  Quantity Ordered  Price Each  \\\n81334    246785   AA Batteries (4-pack)               1.0        3.84   \n80355    245844  27in 4K Gaming Monitor               1.0      389.99   \n103302   282525    USB-C Charging Cable               1.0       11.95   \n2154     297709        Wired Headphones               1.0       11.99   \n58654    164971  AAA Batteries (4-pack)               1.0        2.99   \n\n                Order Date                       Purchase Address  \\\n81334  2019-08-05 23:19:00           610 Elm St, Boston, MA 02215   \n80355  2019-08-12 13:33:00          591 Hill St, Boston, MA 02215   \n103302 2019-11-08 21:51:00  337 Ridge St, San Francisco, CA 94016   \n2154   2019-12-22 14:08:00          526 5th St, Seattle, WA 98101   \n58654  2019-03-09 23:04:00      308 1st St, Los Angeles, CA 90001   \n\n             Purchase City  Total price  Order Month  \n81334          Boston (MA)         3.84            8  \n80355          Boston (MA)       389.99            8  \n103302  San Francisco (CA)        11.95           11  \n2154          Seattle (WA)        11.99           12  \n58654     Los Angeles (CA)         2.99            3  ",
      "text/html": "<div>\n<style scoped>\n    .dataframe tbody tr th:only-of-type {\n        vertical-align: middle;\n    }\n\n    .dataframe tbody tr th {\n        vertical-align: top;\n    }\n\n    .dataframe thead th {\n        text-align: right;\n    }\n</style>\n<table border=\"1\" class=\"dataframe\">\n  <thead>\n    <tr style=\"text-align: right;\">\n      <th></th>\n      <th>Order ID</th>\n      <th>Product</th>\n      <th>Quantity Ordered</th>\n      <th>Price Each</th>\n      <th>Order Date</th>\n      <th>Purchase Address</th>\n      <th>Purchase City</th>\n      <th>Total price</th>\n      <th>Order Month</th>\n    </tr>\n  </thead>\n  <tbody>\n    <tr>\n      <th>81334</th>\n      <td>246785</td>\n      <td>AA Batteries (4-pack)</td>\n      <td>1.0</td>\n      <td>3.84</td>\n      <td>2019-08-05 23:19:00</td>\n      <td>610 Elm St, Boston, MA 02215</td>\n      <td>Boston (MA)</td>\n      <td>3.84</td>\n      <td>8</td>\n    </tr>\n    <tr>\n      <th>80355</th>\n      <td>245844</td>\n      <td>27in 4K Gaming Monitor</td>\n      <td>1.0</td>\n      <td>389.99</td>\n      <td>2019-08-12 13:33:00</td>\n      <td>591 Hill St, Boston, MA 02215</td>\n      <td>Boston (MA)</td>\n      <td>389.99</td>\n      <td>8</td>\n    </tr>\n    <tr>\n      <th>103302</th>\n      <td>282525</td>\n      <td>USB-C Charging Cable</td>\n      <td>1.0</td>\n      <td>11.95</td>\n      <td>2019-11-08 21:51:00</td>\n      <td>337 Ridge St, San Francisco, CA 94016</td>\n      <td>San Francisco (CA)</td>\n      <td>11.95</td>\n      <td>11</td>\n    </tr>\n    <tr>\n      <th>2154</th>\n      <td>297709</td>\n      <td>Wired Headphones</td>\n      <td>1.0</td>\n      <td>11.99</td>\n      <td>2019-12-22 14:08:00</td>\n      <td>526 5th St, Seattle, WA 98101</td>\n      <td>Seattle (WA)</td>\n      <td>11.99</td>\n      <td>12</td>\n    </tr>\n    <tr>\n      <th>58654</th>\n      <td>164971</td>\n      <td>AAA Batteries (4-pack)</td>\n      <td>1.0</td>\n      <td>2.99</td>\n      <td>2019-03-09 23:04:00</td>\n      <td>308 1st St, Los Angeles, CA 90001</td>\n      <td>Los Angeles (CA)</td>\n      <td>2.99</td>\n      <td>3</td>\n    </tr>\n  </tbody>\n</table>\n</div>"
     },
     "execution_count": 60,
     "metadata": {},
     "output_type": "execute_result"
    }
   ],
   "source": [
    "sales.sample(5)"
   ]
  },
  {
   "cell_type": "markdown",
   "metadata": {
    "pycharm": {
     "name": "#%% md\n"
    }
   },
   "source": [
    "**Step 3**: Compute total revenue per month"
   ]
  },
  {
   "cell_type": "code",
   "execution_count": 61,
   "metadata": {
    "pycharm": {
     "name": "#%%\n"
    }
   },
   "outputs": [
    {
     "data": {
      "text/plain": "Order Month\n1     1822256.73\n2     2202022.42\n3     2807100.38\n4     3390670.24\n5     3152606.75\n6     2577802.26\n7     2647775.76\n8     2244467.88\n9     2097560.13\n10    3736726.88\n11    3199603.20\n12    4613443.34\nName: Total price, dtype: float64"
     },
     "execution_count": 61,
     "metadata": {},
     "output_type": "execute_result"
    }
   ],
   "source": [
    "sales.groupby('Order Month')['Total price'].sum()"
   ]
  },
  {
   "cell_type": "markdown",
   "metadata": {
    "pycharm": {
     "name": "#%% md\n"
    }
   },
   "source": [
    "Sort the results in the decreasing order of monthly total revenue"
   ]
  },
  {
   "cell_type": "code",
   "execution_count": 62,
   "metadata": {
    "pycharm": {
     "name": "#%%\n"
    }
   },
   "outputs": [
    {
     "data": {
      "text/plain": "Order Month\n12    4613443.34\n10    3736726.88\n4     3390670.24\n11    3199603.20\n5     3152606.75\n3     2807100.38\n7     2647775.76\n6     2577802.26\n8     2244467.88\n2     2202022.42\n9     2097560.13\n1     1822256.73\nName: Total price, dtype: float64"
     },
     "execution_count": 62,
     "metadata": {},
     "output_type": "execute_result"
    }
   ],
   "source": [
    "total_montly_sales = sales.groupby('Order Month')['Total price'].sum()\n",
    "total_montly_sales.sort_values(ascending=False)"
   ]
  },
  {
   "cell_type": "markdown",
   "metadata": {
    "pycharm": {
     "name": "#%% md\n"
    }
   },
   "source": [
    "We can see that the last month, December, had the highest revenue and that it was ~4.6M USD.\n",
    "\n",
    "We can also examine monthly revenues on a (bar) chart, as visual representation of data often facilitates the comprehension of trends that may be present in the data.\n",
    "\n",
    "For plotting, we will use the Matplotlib library. Its documentation is available [here](https://matplotlib.org/3.5.3/api/_as_gen/matplotlib.pyplot.html), while [this example](https://matplotlib.org/stable/gallery/lines_bars_and_markers/bar_colors.html#sphx-glr-gallery-lines-bars-and-markers-bar-colors-py) can be helpful as the starting point for this task.\n",
    "\n",
    "Note: [This GitHub repo](https://github.com/matplotlib/cheatsheets) offers very well done cheat sheets and tips for Mathplotlib"
   ]
  },
  {
   "cell_type": "code",
   "execution_count": 63,
   "metadata": {
    "pycharm": {
     "name": "#%%\n"
    }
   },
   "outputs": [
    {
     "data": {
      "text/plain": "<Figure size 800x600 with 1 Axes>",
      "image/png": "[encoded data removed]"
     },
     "metadata": {},
     "output_type": "display_data"
    }
   ],
   "source": [
    "x = total_montly_sales.index\n",
    "y = total_montly_sales.values\n",
    "\n",
    "fig, ax = plt.subplots(figsize=(8,6))\n",
    "\n",
    "ax.bar(x, y)\n",
    "ax.set_ylabel('Revenue in million USD')\n",
    "ax.set_xlabel('Months')\n",
    "ax.set_xticks(range(1,13))\n",
    "ax.set_title('Monthly sales revenue')\n",
    "\n",
    "plt.show()"
   ]
  },
  {
   "cell_type": "markdown",
   "metadata": {
    "pycharm": {
     "name": "#%% md\n"
    }
   },
   "source": [
    "### Task 2. What city ordered the largest quantity of products?"
   ]
  },
  {
   "cell_type": "markdown",
   "metadata": {
    "pycharm": {
     "name": "#%% md\n"
    }
   },
   "source": [
    "This time we will group orders based on the city. <br>\n",
    "Recall that we have created Purchase City column out of the Purchase Address column"
   ]
  },
  {
   "cell_type": "code",
   "execution_count": 64,
   "metadata": {
    "pycharm": {
     "name": "#%%\n"
    }
   },
   "outputs": [],
   "source": [
    "products_per_city = sales.groupby('Purchase City')['Quantity Ordered'].sum()"
   ]
  },
  {
   "cell_type": "markdown",
   "metadata": {
    "pycharm": {
     "name": "#%% md\n"
    }
   },
   "source": [
    "Sort the results in the decreasing order of the per-city ordered quantity"
   ]
  },
  {
   "cell_type": "code",
   "execution_count": 65,
   "metadata": {
    "pycharm": {
     "name": "#%%\n"
    }
   },
   "outputs": [],
   "source": [
    "products_per_city.sort_values(ascending=False, inplace=True)"
   ]
  },
  {
   "cell_type": "markdown",
   "metadata": {
    "pycharm": {
     "name": "#%% md\n"
    }
   },
   "source": [
    "Finally, plot the per-city ordered quantites on a bar chart"
   ]
  },
  {
   "cell_type": "code",
   "execution_count": 66,
   "metadata": {
    "pycharm": {
     "name": "#%%\n"
    }
   },
   "outputs": [
    {
     "data": {
      "text/plain": "<Figure size 800x600 with 1 Axes>",
      "image/png": "[encoded data removed]"
     },
     "metadata": {},
     "output_type": "display_data"
    }
   ],
   "source": [
    "x = products_per_city.index\n",
    "y = products_per_city.values\n",
    "\n",
    "_, ax = plt.subplots(figsize=(8,6))\n",
    "\n",
    "ax.bar(x, y, color='gray')\n",
    "ax.set_title('Total revenue per city')\n",
    "ax.tick_params(labelrotation=90, labelsize=9)\n",
    "ax.set_ylabel(\"Revenue in million USD\")\n",
    "ax.set_xlabel(\"Cities\")\n",
    "\n",
    "plt.show()"
   ]
  },
  {
   "cell_type": "markdown",
   "metadata": {
    "pycharm": {
     "name": "#%% md\n"
    }
   },
   "source": [
    "### Task 3. When, during a day, customers are likely to make most valuable orders?"
   ]
  },
  {
   "cell_type": "markdown",
   "metadata": {
    "pycharm": {
     "name": "#%% md\n"
    }
   },
   "source": [
    "To answer this one, we can extract the hour from the Order Date and examine the average total order price across the 24 hours of a day"
   ]
  },
  {
   "cell_type": "markdown",
   "metadata": {
    "pycharm": {
     "name": "#%% md\n"
    }
   },
   "source": [
    "**Step 1**: Create the 'Order Hour' column"
   ]
  },
  {
   "cell_type": "code",
   "execution_count": 67,
   "metadata": {
    "pycharm": {
     "name": "#%%\n"
    }
   },
   "outputs": [],
   "source": [
    "sales['Order Hour'] = sales['Order Date'].dt.hour"
   ]
  },
  {
   "cell_type": "code",
   "execution_count": 68,
   "metadata": {
    "pycharm": {
     "name": "#%%\n"
    }
   },
   "outputs": [
    {
     "data": {
      "text/plain": "                Order Date  Order Hour\n163931 2019-07-22 18:02:00          18\n160960 2019-07-18 18:03:00          18\n105178 2019-11-14 12:43:00          12\n151560 2019-09-09 11:02:00          11\n66764  2019-03-05 17:44:00          17",
      "text/html": "<div>\n<style scoped>\n    .dataframe tbody tr th:only-of-type {\n        vertical-align: middle;\n    }\n\n    .dataframe tbody tr th {\n        vertical-align: top;\n    }\n\n    .dataframe thead th {\n        text-align: right;\n    }\n</style>\n<table border=\"1\" class=\"dataframe\">\n  <thead>\n    <tr style=\"text-align: right;\">\n      <th></th>\n      <th>Order Date</th>\n      <th>Order Hour</th>\n    </tr>\n  </thead>\n  <tbody>\n    <tr>\n      <th>163931</th>\n      <td>2019-07-22 18:02:00</td>\n      <td>18</td>\n    </tr>\n    <tr>\n      <th>160960</th>\n      <td>2019-07-18 18:03:00</td>\n      <td>18</td>\n    </tr>\n    <tr>\n      <th>105178</th>\n      <td>2019-11-14 12:43:00</td>\n      <td>12</td>\n    </tr>\n    <tr>\n      <th>151560</th>\n      <td>2019-09-09 11:02:00</td>\n      <td>11</td>\n    </tr>\n    <tr>\n      <th>66764</th>\n      <td>2019-03-05 17:44:00</td>\n      <td>17</td>\n    </tr>\n  </tbody>\n</table>\n</div>"
     },
     "execution_count": 68,
     "metadata": {},
     "output_type": "execute_result"
    }
   ],
   "source": [
    "sales.loc[:,['Order Date', 'Order Hour']].sample(5)"
   ]
  },
  {
   "cell_type": "markdown",
   "metadata": {
    "pycharm": {
     "name": "#%% md\n"
    }
   },
   "source": [
    "**Step 2**: Group orders per Order Hour and compute mean Total price for each group"
   ]
  },
  {
   "cell_type": "code",
   "execution_count": 69,
   "metadata": {
    "pycharm": {
     "name": "#%%\n"
    }
   },
   "outputs": [],
   "source": [
    "avg_price_per_hour = sales.groupby('Order Hour')['Total price'].mean()"
   ]
  },
  {
   "cell_type": "markdown",
   "metadata": {
    "pycharm": {
     "name": "#%% md\n"
    }
   },
   "source": [
    "Sort the results in the descending order of the mean total price"
   ]
  },
  {
   "cell_type": "code",
   "execution_count": 70,
   "metadata": {
    "pycharm": {
     "name": "#%%\n"
    }
   },
   "outputs": [
    {
     "data": {
      "text/plain": "Order Hour\n1     196.113566\n17    195.372200\n15    190.815686\n8     190.592866\n4     190.469567\n14    189.700722\n2     188.939212\n23    187.936963\n9     187.360606\n21    186.979293\n19    186.977028\n20    186.597664\n7     185.702847\n11    185.368644\n12    184.064617\n16    183.416921\n0     182.537409\n22    182.220495\n18    180.728689\n6     180.545125\n13    177.705483\n10    177.657782\n3     175.400590\n5     174.625148\nName: Total price, dtype: float64"
     },
     "execution_count": 70,
     "metadata": {},
     "output_type": "execute_result"
    }
   ],
   "source": [
    "avg_price_per_hour.sort_values(ascending=False)"
   ]
  },
  {
   "cell_type": "markdown",
   "metadata": {
    "pycharm": {
     "name": "#%% md\n"
    }
   },
   "source": [
    "Examine the results on a line chart"
   ]
  },
  {
   "cell_type": "code",
   "execution_count": 71,
   "metadata": {
    "pycharm": {
     "name": "#%%\n"
    }
   },
   "outputs": [
    {
     "data": {
      "text/plain": "<Figure size 800x600 with 1 Axes>",
      "image/png": "[encoded data removed]"
     },
     "metadata": {},
     "output_type": "display_data"
    }
   ],
   "source": [
    "x = avg_price_per_hour.index\n",
    "y = avg_price_per_hour.values\n",
    "\n",
    "_, ax = plt.subplots(figsize=(8,6))\n",
    "\n",
    "ax.plot(x, y, color='violet', marker='*')\n",
    "ax.set_title('Average order revenue for each hour in a day')\n",
    "ax.set_xticks(range(24))\n",
    "ax.set_ylabel(\"Revenue in million USD\")\n",
    "ax.set_xlabel(\"Hours\")\n",
    "ax.grid(True)\n",
    "ax.tick_params(axis='both', grid_alpha=0.5)\n",
    "\n",
    "plt.show()"
   ]
  },
  {
   "cell_type": "markdown",
   "metadata": {
    "pycharm": {
     "name": "#%% md\n"
    }
   },
   "source": [
    "### Task 4. What product sold the most? What product contributed the most to the total revenue?"
   ]
  },
  {
   "cell_type": "markdown",
   "metadata": {
    "pycharm": {
     "name": "#%% md\n"
    }
   },
   "source": [
    "Let's first see how many different products there are and how frequently they were ordered"
   ]
  },
  {
   "cell_type": "code",
   "execution_count": 72,
   "metadata": {
    "pycharm": {
     "name": "#%%\n"
    }
   },
   "outputs": [
    {
     "data": {
      "text/plain": "19"
     },
     "execution_count": 72,
     "metadata": {},
     "output_type": "execute_result"
    }
   ],
   "source": [
    "sales.Product.nunique()"
   ]
  },
  {
   "cell_type": "code",
   "execution_count": 73,
   "metadata": {
    "pycharm": {
     "name": "#%%\n"
    }
   },
   "outputs": [
    {
     "data": {
      "text/plain": "USB-C Charging Cable          21903\nLightning Charging Cable      21658\nAAA Batteries (4-pack)        20641\nAA Batteries (4-pack)         20577\nWired Headphones              18882\nApple Airpods Headphones      15549\nBose SoundSport Headphones    13325\n27in FHD Monitor               7507\niPhone                         6842\n27in 4K Gaming Monitor         6230\n34in Ultrawide Monitor         6181\nGoogle Phone                   5525\nFlatscreen TV                  4800\nMacbook Pro Laptop             4724\nThinkPad Laptop                4128\n20in Monitor                   4101\nVareebadd Phone                2065\nLG Washing Machine              666\nLG Dryer                        646\nName: Product, dtype: int64"
     },
     "execution_count": 73,
     "metadata": {},
     "output_type": "execute_result"
    }
   ],
   "source": [
    "sales.Product.value_counts()"
   ]
  },
  {
   "cell_type": "markdown",
   "metadata": {
    "pycharm": {
     "name": "#%% md\n"
    }
   },
   "source": [
    "While the above series gives us the number of orders that a product appeared in, it does not tell us about the quantities that were ordered.\n",
    "\n",
    "For each product, we need to take the overall quantity ordered and total price across all orders related to that product"
   ]
  },
  {
   "cell_type": "code",
   "execution_count": 74,
   "metadata": {
    "pycharm": {
     "name": "#%%\n"
    }
   },
   "outputs": [],
   "source": [
    "sales_per_product = sales.groupby('Product')[['Quantity Ordered', 'Total price']].sum()"
   ]
  },
  {
   "cell_type": "code",
   "execution_count": 75,
   "metadata": {
    "pycharm": {
     "name": "#%%\n"
    }
   },
   "outputs": [
    {
     "data": {
      "text/plain": "                        Quantity Ordered  Total price\nProduct                                              \n20in Monitor                      4129.0    454148.71\n27in 4K Gaming Monitor            6244.0   2435097.56\n27in FHD Monitor                  7550.0   1132424.50\n34in Ultrawide Monitor            6199.0   2355558.01\nAA Batteries (4-pack)            27635.0    106118.40",
      "text/html": "<div>\n<style scoped>\n    .dataframe tbody tr th:only-of-type {\n        vertical-align: middle;\n    }\n\n    .dataframe tbody tr th {\n        vertical-align: top;\n    }\n\n    .dataframe thead th {\n        text-align: right;\n    }\n</style>\n<table border=\"1\" class=\"dataframe\">\n  <thead>\n    <tr style=\"text-align: right;\">\n      <th></th>\n      <th>Quantity Ordered</th>\n      <th>Total price</th>\n    </tr>\n    <tr>\n      <th>Product</th>\n      <th></th>\n      <th></th>\n    </tr>\n  </thead>\n  <tbody>\n    <tr>\n      <th>20in Monitor</th>\n      <td>4129.0</td>\n      <td>454148.71</td>\n    </tr>\n    <tr>\n      <th>27in 4K Gaming Monitor</th>\n      <td>6244.0</td>\n      <td>2435097.56</td>\n    </tr>\n    <tr>\n      <th>27in FHD Monitor</th>\n      <td>7550.0</td>\n      <td>1132424.50</td>\n    </tr>\n    <tr>\n      <th>34in Ultrawide Monitor</th>\n      <td>6199.0</td>\n      <td>2355558.01</td>\n    </tr>\n    <tr>\n      <th>AA Batteries (4-pack)</th>\n      <td>27635.0</td>\n      <td>106118.40</td>\n    </tr>\n  </tbody>\n</table>\n</div>"
     },
     "execution_count": 75,
     "metadata": {},
     "output_type": "execute_result"
    }
   ],
   "source": [
    "sales_per_product.head()"
   ]
  },
  {
   "cell_type": "markdown",
   "metadata": {
    "pycharm": {
     "name": "#%% md\n"
    }
   },
   "source": [
    "Get the products (top 5) that sold the most:"
   ]
  },
  {
   "cell_type": "code",
   "execution_count": 76,
   "metadata": {
    "pycharm": {
     "name": "#%%\n"
    }
   },
   "outputs": [
    {
     "data": {
      "text/plain": "                          Quantity Ordered  Total price\nProduct                                                \nAAA Batteries (4-pack)             31017.0     92740.83\nAA Batteries (4-pack)              27635.0    106118.40\nUSB-C Charging Cable               23975.0    286501.25\nLightning Charging Cable           23217.0    347094.15\nWired Headphones                   20557.0    246478.43",
      "text/html": "<div>\n<style scoped>\n    .dataframe tbody tr th:only-of-type {\n        vertical-align: middle;\n    }\n\n    .dataframe tbody tr th {\n        vertical-align: top;\n    }\n\n    .dataframe thead th {\n        text-align: right;\n    }\n</style>\n<table border=\"1\" class=\"dataframe\">\n  <thead>\n    <tr style=\"text-align: right;\">\n      <th></th>\n      <th>Quantity Ordered</th>\n      <th>Total price</th>\n    </tr>\n    <tr>\n      <th>Product</th>\n      <th></th>\n      <th></th>\n    </tr>\n  </thead>\n  <tbody>\n    <tr>\n      <th>AAA Batteries (4-pack)</th>\n      <td>31017.0</td>\n      <td>92740.83</td>\n    </tr>\n    <tr>\n      <th>AA Batteries (4-pack)</th>\n      <td>27635.0</td>\n      <td>106118.40</td>\n    </tr>\n    <tr>\n      <th>USB-C Charging Cable</th>\n      <td>23975.0</td>\n      <td>286501.25</td>\n    </tr>\n    <tr>\n      <th>Lightning Charging Cable</th>\n      <td>23217.0</td>\n      <td>347094.15</td>\n    </tr>\n    <tr>\n      <th>Wired Headphones</th>\n      <td>20557.0</td>\n      <td>246478.43</td>\n    </tr>\n  </tbody>\n</table>\n</div>"
     },
     "execution_count": 76,
     "metadata": {},
     "output_type": "execute_result"
    }
   ],
   "source": [
    "sales_per_product.sort_values(by=\"Quantity Ordered\", ascending=False).head(5)"
   ]
  },
  {
   "cell_type": "markdown",
   "metadata": {
    "pycharm": {
     "name": "#%% md\n"
    }
   },
   "source": [
    "Get the products (top 5) with the highest total revenue"
   ]
  },
  {
   "cell_type": "code",
   "execution_count": 77,
   "metadata": {
    "pycharm": {
     "name": "#%%\n"
    }
   },
   "outputs": [
    {
     "data": {
      "text/plain": "                        Quantity Ordered  Total price\nProduct                                              \nMacbook Pro Laptop                4728.0   8037600.00\niPhone                            6849.0   4794300.00\nThinkPad Laptop                   4130.0   4129958.70\nGoogle Phone                      5532.0   3319200.00\n27in 4K Gaming Monitor            6244.0   2435097.56",
      "text/html": "<div>\n<style scoped>\n    .dataframe tbody tr th:only-of-type {\n        vertical-align: middle;\n    }\n\n    .dataframe tbody tr th {\n        vertical-align: top;\n    }\n\n    .dataframe thead th {\n        text-align: right;\n    }\n</style>\n<table border=\"1\" class=\"dataframe\">\n  <thead>\n    <tr style=\"text-align: right;\">\n      <th></th>\n      <th>Quantity Ordered</th>\n      <th>Total price</th>\n    </tr>\n    <tr>\n      <th>Product</th>\n      <th></th>\n      <th></th>\n    </tr>\n  </thead>\n  <tbody>\n    <tr>\n      <th>Macbook Pro Laptop</th>\n      <td>4728.0</td>\n      <td>8037600.00</td>\n    </tr>\n    <tr>\n      <th>iPhone</th>\n      <td>6849.0</td>\n      <td>4794300.00</td>\n    </tr>\n    <tr>\n      <th>ThinkPad Laptop</th>\n      <td>4130.0</td>\n      <td>4129958.70</td>\n    </tr>\n    <tr>\n      <th>Google Phone</th>\n      <td>5532.0</td>\n      <td>3319200.00</td>\n    </tr>\n    <tr>\n      <th>27in 4K Gaming Monitor</th>\n      <td>6244.0</td>\n      <td>2435097.56</td>\n    </tr>\n  </tbody>\n</table>\n</div>"
     },
     "execution_count": 77,
     "metadata": {},
     "output_type": "execute_result"
    }
   ],
   "source": [
    "sales_per_product.sort_values(by=\"Total price\", ascending=False).head(5)"
   ]
  },
  {
   "cell_type": "markdown",
   "metadata": {
    "pycharm": {
     "name": "#%% md\n"
    }
   },
   "source": [
    "We can also plot these data. <br>\n",
    "First, plot total quantity sold per product"
   ]
  },
  {
   "cell_type": "code",
   "execution_count": 78,
   "metadata": {
    "pycharm": {
     "name": "#%%\n"
    }
   },
   "outputs": [
    {
     "data": {
      "text/plain": "<Figure size 800x600 with 1 Axes>",
      "image/png": "[encoded data removed]"
     },
     "metadata": {},
     "output_type": "display_data"
    }
   ],
   "source": [
    "x = sales_per_product.sort_values(by='Quantity Ordered', ascending=False).index\n",
    "y = sales_per_product.sort_values(by='Quantity Ordered', ascending=False)['Quantity Ordered']\n",
    "\n",
    "_, ax = plt.subplots(figsize=(8,6))\n",
    "\n",
    "ax.plot(x, y, color='blue', marker='*')\n",
    "ax.set_title('Quantity sold per product')\n",
    "ax.set_ylabel(\"Quantity\")\n",
    "ax.set_xlabel(\"Products\")\n",
    "ax.grid(True)\n",
    "ax.tick_params(axis='both', grid_alpha=0.5)\n",
    "ax.tick_params(axis='x', labelrotation=90, labelsize=9)\n",
    "\n",
    "plt.show()"
   ]
  },
  {
   "cell_type": "markdown",
   "metadata": {
    "pycharm": {
     "name": "#%% md\n"
    }
   },
   "source": [
    "Next, plot total revenue per product"
   ]
  },
  {
   "cell_type": "code",
   "execution_count": 79,
   "metadata": {
    "pycharm": {
     "name": "#%%\n"
    }
   },
   "outputs": [
    {
     "data": {
      "text/plain": "<Figure size 800x600 with 1 Axes>",
      "image/png": "[encoded data removed]"
     },
     "metadata": {},
     "output_type": "display_data"
    }
   ],
   "source": [
    "x = sales_per_product.sort_values(by='Total price', ascending=False).index\n",
    "y = sales_per_product.sort_values(by='Total price', ascending=False)['Total price']\n",
    "\n",
    "_, ax = plt.subplots(figsize=(8,6))\n",
    "\n",
    "ax.plot(x, y, color='blue', marker='^')\n",
    "ax.set_title('Total revenue per product')\n",
    "ax.set_ylabel(\"Revenue in million USD\")\n",
    "ax.set_xlabel(\"Products\")\n",
    "ax.grid(True)\n",
    "ax.tick_params(axis='both', grid_alpha=0.5)\n",
    "ax.tick_params(axis='x', labelrotation=90, labelsize=9)\n",
    "\n",
    "plt.show()"
   ]
  },
  {
   "cell_type": "markdown",
   "metadata": {
    "pycharm": {
     "name": "#%% md\n"
    }
   },
   "source": [
    "We can also combine the two plots.\n",
    "\n",
    "[This example](https://matplotlib.org/stable/gallery/subplots_axes_and_figures/two_scales.html#sphx-glr-gallery-subplots-axes-and-figures-two-scales-py) from the MatPlotLib documentation shows how have a plot with two different scales."
   ]
  },
  {
   "cell_type": "code",
   "execution_count": 80,
   "metadata": {
    "pycharm": {
     "name": "#%%\n"
    }
   },
   "outputs": [
    {
     "data": {
      "text/plain": "<Figure size 900x700 with 2 Axes>",
      "image/png": "[encoded data removed]"
     },
     "metadata": {},
     "output_type": "display_data"
    }
   ],
   "source": [
    "sales_per_product.sort_values(by='Total price', ascending=False, inplace=True)\n",
    "x = sales_per_product.index\n",
    "y1 = sales_per_product['Quantity Ordered']\n",
    "y2 = sales_per_product['Total price']\n",
    "\n",
    "fig, ax1 = plt.subplots(figsize=(9,7))\n",
    "\n",
    "colors = {'QO': '#32a871', 'TP': '#8a30a6'}\n",
    "ax1.set_xlabel('Products')\n",
    "ax1.set_ylabel('Quantity sold', color=colors['QO'])\n",
    "ax1.plot(x, y1, color=colors['QO'], marker='*')\n",
    "ax1.tick_params(axis='y', labelcolor=colors['QO'])\n",
    "ax1.tick_params(axis='x', labelrotation=90, labelsize=8)\n",
    "\n",
    "ax2 = ax1.twinx()  # instantiate a second axes that shares the same x-axis\n",
    "\n",
    "ax2.set_ylabel('Total revenue', color=colors['TP'])  # we already handled the x-label with ax1\n",
    "ax2.plot(x, y2, color=colors['TP'], marker='^')\n",
    "ax2.tick_params(axis='y', labelcolor=colors['TP'])\n",
    "\n",
    "fig.tight_layout()  # otherwise the right y-label is slightly clipped\n",
    "\n",
    "plt.show()"
   ]
  },
  {
   "cell_type": "markdown",
   "metadata": {
    "pycharm": {
     "name": "#%% md\n"
    }
   },
   "source": [
    "### Task 5. Examine total revenue per product across cities"
   ]
  },
  {
   "cell_type": "markdown",
   "metadata": {
    "pycharm": {
     "name": "#%% md\n"
    }
   },
   "source": [
    "Note that we can group the data based on more than one attribute (column). <br> In this case, we will do the grouping based on the product and the city and compute total revenue for each product in each city:"
   ]
  },
  {
   "cell_type": "code",
   "execution_count": 80,
   "metadata": {
    "pycharm": {
     "name": "#%%\n"
    }
   },
   "outputs": [],
   "source": []
  },
  {
   "cell_type": "markdown",
   "metadata": {
    "pycharm": {
     "name": "#%% md\n"
    }
   },
   "source": [
    "Note that we are getting a Series with two indexes - Product and Purchase City:"
   ]
  },
  {
   "cell_type": "code",
   "execution_count": 80,
   "metadata": {
    "pycharm": {
     "name": "#%%\n"
    }
   },
   "outputs": [],
   "source": []
  },
  {
   "cell_type": "code",
   "execution_count": 80,
   "metadata": {
    "pycharm": {
     "name": "#%%\n"
    }
   },
   "outputs": [],
   "source": []
  },
  {
   "cell_type": "markdown",
   "metadata": {
    "pycharm": {
     "name": "#%% md\n"
    }
   },
   "source": [
    "We can transform this into a DataFrame by calling the `unstack()` method"
   ]
  },
  {
   "cell_type": "code",
   "execution_count": 80,
   "metadata": {
    "pycharm": {
     "name": "#%%\n"
    }
   },
   "outputs": [],
   "source": []
  },
  {
   "cell_type": "code",
   "execution_count": 80,
   "metadata": {
    "pycharm": {
     "name": "#%%\n"
    }
   },
   "outputs": [],
   "source": []
  },
  {
   "cell_type": "markdown",
   "metadata": {
    "pycharm": {
     "name": "#%% md\n"
    }
   },
   "source": [
    "We can now plot this DataFrame using a heathmap. A simple way to do it is illustrated in [this article](https://www.geeksforgeeks.org/display-the-pandas-dataframe-in-heatmap-style/)."
   ]
  },
  {
   "cell_type": "code",
   "execution_count": 80,
   "metadata": {
    "pycharm": {
     "name": "#%%\n"
    }
   },
   "outputs": [],
   "source": []
  },
  {
   "cell_type": "markdown",
   "metadata": {
    "pycharm": {
     "name": "#%% md\n"
    }
   },
   "source": [
    "### Tasks to practice\n",
    "\n",
    "1. Examine the distribution of total product purchases, in terms of total revenue, across the states. <br><br>\n",
    "2. On which day, during a week, customers are likely to make most valuable orders?"
   ]
  }
 ],
 "metadata": {
  "kernelspec": {
   "display_name": "Python 3 (ipykernel)",
   "language": "python",
   "name": "python3"
  },
  "language_info": {
   "codemirror_mode": {
    "name": "ipython",
    "version": 3
   },
   "file_extension": ".py",
   "mimetype": "text/x-python",
   "name": "python",
   "nbconvert_exporter": "python",
   "pygments_lexer": "ipython3",
   "version": "3.10.0"
  }
 },
 "nbformat": 4,
 "nbformat_minor": 4
}